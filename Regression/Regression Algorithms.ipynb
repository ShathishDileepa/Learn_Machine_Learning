{
 "cells": [
  {
   "cell_type": "markdown",
   "id": "363d3cd1",
   "metadata": {},
   "source": [
    "# Types of Regression Algorithms\n",
    "\n",
    "In this note book we will be talking about 6 types of regression Machine Learning algorithms in detail. Those six Algorithms are as follows,\n",
    "\n",
    "    1. Simple Linear Regression\n",
    "    2. Multiple Linear Regression\n",
    "    3. Polynomial Regression\n",
    "    4. Support Vector for Regression (SVR)\n",
    "    5. Decision Tree Classification\n",
    "    6. Random Forest Classification"
   ]
  },
  {
   "cell_type": "markdown",
   "id": "edb06a87",
   "metadata": {},
   "source": [
    "## What is Regression used for...\n",
    "\n",
    "As we learned there are mainly two type of ML Problems,\n",
    "\n",
    "   * Predicting a Label(Classification)\n",
    "   * Predicting a value(Regression)\n",
    "\n",
    "So unlike in classification problems in regression problems what is done is model is trained on data and used to predict a value.\n",
    "\n",
    "Ex: Predicting a price of a car when certain parameters and details are given."
   ]
  },
  {
   "cell_type": "markdown",
   "id": "d86f846a",
   "metadata": {},
   "source": [
    "## 1. Simple Linear Regression\n",
    "\n",
    "This is the simplest algorithm hence the name. How this model(algorithm) works is that, it look at the training data its given `X_test, y_test` and try to draw a linear line that would best fit the all the data points.\n",
    "\n",
    "<img alt=\"Simple Linear Regression Demostration\" src=\"./images/simple_linear_regression.png\" style=\"width:55%;height:auto\"/>"
   ]
  },
  {
   "cell_type": "markdown",
   "id": "883619cf",
   "metadata": {},
   "source": [
    "Model draws a regression line, `y = b0 + b1*X` just as normal `y = mx + c`. Where,\n",
    "   * b0 = constant (intercept)\n",
    "   * b1 = this represent how unit change in X (independent variable) affect the values y (dependent variable)\n",
    "\n",
    "As shown in the above figure, what the model does is it draws several regression lines and it take the sum as `SUM = Residuals**2` and store them. And pick the regression line with the __Minimum Sum__ as the final Regression Line."
   ]
  },
  {
   "cell_type": "code",
   "execution_count": 71,
   "id": "f79b74fb",
   "metadata": {},
   "outputs": [],
   "source": [
    "# Simple Linear Regression Model\n",
    "\n",
    "# Import the relavent modules\n",
    "%matplotlib inline\n",
    "import numpy as np\n",
    "import pandas as pd\n",
    "import matplotlib.pyplot as plt\n",
    "import sklearn\n",
    "\n",
    "# set a random seed globally\n",
    "np.random.seed(42)"
   ]
  },
  {
   "cell_type": "code",
   "execution_count": 72,
   "id": "b9015015",
   "metadata": {},
   "outputs": [
    {
     "data": {
      "text/html": [
       "<div>\n",
       "<style scoped>\n",
       "    .dataframe tbody tr th:only-of-type {\n",
       "        vertical-align: middle;\n",
       "    }\n",
       "\n",
       "    .dataframe tbody tr th {\n",
       "        vertical-align: top;\n",
       "    }\n",
       "\n",
       "    .dataframe thead th {\n",
       "        text-align: right;\n",
       "    }\n",
       "</style>\n",
       "<table border=\"1\" class=\"dataframe\">\n",
       "  <thead>\n",
       "    <tr style=\"text-align: right;\">\n",
       "      <th></th>\n",
       "      <th>YearsExperience</th>\n",
       "      <th>Salary</th>\n",
       "    </tr>\n",
       "  </thead>\n",
       "  <tbody>\n",
       "    <tr>\n",
       "      <th>0</th>\n",
       "      <td>1.1</td>\n",
       "      <td>39343.0</td>\n",
       "    </tr>\n",
       "    <tr>\n",
       "      <th>1</th>\n",
       "      <td>1.3</td>\n",
       "      <td>46205.0</td>\n",
       "    </tr>\n",
       "    <tr>\n",
       "      <th>2</th>\n",
       "      <td>1.5</td>\n",
       "      <td>37731.0</td>\n",
       "    </tr>\n",
       "    <tr>\n",
       "      <th>3</th>\n",
       "      <td>2.0</td>\n",
       "      <td>43525.0</td>\n",
       "    </tr>\n",
       "    <tr>\n",
       "      <th>4</th>\n",
       "      <td>2.2</td>\n",
       "      <td>39891.0</td>\n",
       "    </tr>\n",
       "  </tbody>\n",
       "</table>\n",
       "</div>"
      ],
      "text/plain": [
       "   YearsExperience   Salary\n",
       "0              1.1  39343.0\n",
       "1              1.3  46205.0\n",
       "2              1.5  37731.0\n",
       "3              2.0  43525.0\n",
       "4              2.2  39891.0"
      ]
     },
     "execution_count": 72,
     "metadata": {},
     "output_type": "execute_result"
    }
   ],
   "source": [
    "# lets preprocess our data\n",
    "\n",
    "# import the data\n",
    "data = pd.read_csv('data/Simple Linear Regression/Salary_Data.csv')\n",
    "data.head()"
   ]
  },
  {
   "cell_type": "code",
   "execution_count": 73,
   "id": "1dde61d8",
   "metadata": {},
   "outputs": [
    {
     "data": {
      "text/plain": [
       "YearsExperience    0\n",
       "Salary             0\n",
       "dtype: int64"
      ]
     },
     "execution_count": 73,
     "metadata": {},
     "output_type": "execute_result"
    }
   ],
   "source": [
    "# now we have to check if there are any missing values\n",
    "data.isna().sum()"
   ]
  },
  {
   "cell_type": "code",
   "execution_count": 74,
   "id": "59fb46cc",
   "metadata": {},
   "outputs": [
    {
     "name": "stdout",
     "output_type": "stream",
     "text": [
      "<class 'pandas.core.frame.DataFrame'>\n",
      "RangeIndex: 30 entries, 0 to 29\n",
      "Data columns (total 2 columns):\n",
      " #   Column           Non-Null Count  Dtype  \n",
      "---  ------           --------------  -----  \n",
      " 0   YearsExperience  30 non-null     float64\n",
      " 1   Salary           30 non-null     float64\n",
      "dtypes: float64(2)\n",
      "memory usage: 608.0 bytes\n"
     ]
    }
   ],
   "source": [
    "# Okay no missing values then lets just see details of the dataset\n",
    "\n",
    "data.info()"
   ]
  },
  {
   "cell_type": "code",
   "execution_count": 75,
   "id": "409a6f4b",
   "metadata": {},
   "outputs": [
    {
     "data": {
      "text/html": [
       "<div>\n",
       "<style scoped>\n",
       "    .dataframe tbody tr th:only-of-type {\n",
       "        vertical-align: middle;\n",
       "    }\n",
       "\n",
       "    .dataframe tbody tr th {\n",
       "        vertical-align: top;\n",
       "    }\n",
       "\n",
       "    .dataframe thead th {\n",
       "        text-align: right;\n",
       "    }\n",
       "</style>\n",
       "<table border=\"1\" class=\"dataframe\">\n",
       "  <thead>\n",
       "    <tr style=\"text-align: right;\">\n",
       "      <th></th>\n",
       "      <th>count</th>\n",
       "      <th>mean</th>\n",
       "      <th>std</th>\n",
       "      <th>min</th>\n",
       "      <th>25%</th>\n",
       "      <th>50%</th>\n",
       "      <th>75%</th>\n",
       "      <th>max</th>\n",
       "    </tr>\n",
       "  </thead>\n",
       "  <tbody>\n",
       "    <tr>\n",
       "      <th>YearsExperience</th>\n",
       "      <td>30.0</td>\n",
       "      <td>5.313333</td>\n",
       "      <td>2.837888</td>\n",
       "      <td>1.1</td>\n",
       "      <td>3.20</td>\n",
       "      <td>4.7</td>\n",
       "      <td>7.70</td>\n",
       "      <td>10.5</td>\n",
       "    </tr>\n",
       "    <tr>\n",
       "      <th>Salary</th>\n",
       "      <td>30.0</td>\n",
       "      <td>76003.000000</td>\n",
       "      <td>27414.429785</td>\n",
       "      <td>37731.0</td>\n",
       "      <td>56720.75</td>\n",
       "      <td>65237.0</td>\n",
       "      <td>100544.75</td>\n",
       "      <td>122391.0</td>\n",
       "    </tr>\n",
       "  </tbody>\n",
       "</table>\n",
       "</div>"
      ],
      "text/plain": [
       "                 count          mean           std      min       25%  \\\n",
       "YearsExperience   30.0      5.313333      2.837888      1.1      3.20   \n",
       "Salary            30.0  76003.000000  27414.429785  37731.0  56720.75   \n",
       "\n",
       "                     50%        75%       max  \n",
       "YearsExperience      4.7       7.70      10.5  \n",
       "Salary           65237.0  100544.75  122391.0  "
      ]
     },
     "execution_count": 75,
     "metadata": {},
     "output_type": "execute_result"
    }
   ],
   "source": [
    "# All numeric data type and we dont have to manipulate data\n",
    "\n",
    "data.describe().transpose()"
   ]
  },
  {
   "cell_type": "code",
   "execution_count": 76,
   "id": "f1bae681",
   "metadata": {},
   "outputs": [
    {
     "data": {
      "image/png": "[encoded data removed]",
      "text/plain": [
       "<Figure size 720x432 with 1 Axes>"
      ]
     },
     "metadata": {
      "needs_background": "light"
     },
     "output_type": "display_data"
    }
   ],
   "source": [
    "# Lets plot these and see\n",
    "fig,ax = plt.subplots(figsize=(10,6))\n",
    "ax.scatter(x=data['YearsExperience'],y=data['Salary'],cmap=\"winter\", marker='o')\n",
    "ax.set_title('Years of Experience VS Salary')\n",
    "ax.set_xlabel('Years of Experience')\n",
    "ax.set_ylabel('Salary');"
   ]
  },
  {
   "cell_type": "code",
   "execution_count": 77,
   "id": "3ccc93c3",
   "metadata": {},
   "outputs": [],
   "source": [
    "# lets divide our data into X and y\n",
    "X = data.drop('Salary',axis=1)\n",
    "y = data['Salary']\n",
    "\n",
    "# Lets split the data to train and test splits\n",
    "from sklearn.model_selection import train_test_split\n",
    "\n",
    "X_train, X_test, y_train, y_test = train_test_split(X,y,test_size=1/3)"
   ]
  },
  {
   "cell_type": "code",
   "execution_count": 78,
   "id": "9264bed6",
   "metadata": {},
   "outputs": [
    {
     "data": {
      "text/plain": [
       "(20, 10)"
      ]
     },
     "execution_count": 78,
     "metadata": {},
     "output_type": "execute_result"
    }
   ],
   "source": [
    "len(X_train), len(X_test)"
   ]
  },
  {
   "cell_type": "code",
   "execution_count": 79,
   "id": "29a3dfc1",
   "metadata": {},
   "outputs": [
    {
     "data": {
      "text/html": [
       "<style>#sk-container-id-3 {color: black;background-color: white;}#sk-container-id-3 pre{padding: 0;}#sk-container-id-3 div.sk-toggleable {background-color: white;}#sk-container-id-3 label.sk-toggleable__label {cursor: pointer;display: block;width: 100%;margin-bottom: 0;padding: 0.3em;box-sizing: border-box;text-align: center;}#sk-container-id-3 label.sk-toggleable__label-arrow:before {content: \"▸\";float: left;margin-right: 0.25em;color: #696969;}#sk-container-id-3 label.sk-toggleable__label-arrow:hover:before {color: black;}#sk-container-id-3 div.sk-estimator:hover label.sk-toggleable__label-arrow:before {color: black;}#sk-container-id-3 div.sk-toggleable__content {max-height: 0;max-width: 0;overflow: hidden;text-align: left;background-color: #f0f8ff;}#sk-container-id-3 div.sk-toggleable__content pre {margin: 0.2em;color: black;border-radius: 0.25em;background-color: #f0f8ff;}#sk-container-id-3 input.sk-toggleable__control:checked~div.sk-toggleable__content {max-height: 200px;max-width: 100%;overflow: auto;}#sk-container-id-3 input.sk-toggleable__control:checked~label.sk-toggleable__label-arrow:before {content: \"▾\";}#sk-container-id-3 div.sk-estimator input.sk-toggleable__control:checked~label.sk-toggleable__label {background-color: #d4ebff;}#sk-container-id-3 div.sk-label input.sk-toggleable__control:checked~label.sk-toggleable__label {background-color: #d4ebff;}#sk-container-id-3 input.sk-hidden--visually {border: 0;clip: rect(1px 1px 1px 1px);clip: rect(1px, 1px, 1px, 1px);height: 1px;margin: -1px;overflow: hidden;padding: 0;position: absolute;width: 1px;}#sk-container-id-3 div.sk-estimator {font-family: monospace;background-color: #f0f8ff;border: 1px dotted black;border-radius: 0.25em;box-sizing: border-box;margin-bottom: 0.5em;}#sk-container-id-3 div.sk-estimator:hover {background-color: #d4ebff;}#sk-container-id-3 div.sk-parallel-item::after {content: \"\";width: 100%;border-bottom: 1px solid gray;flex-grow: 1;}#sk-container-id-3 div.sk-label:hover label.sk-toggleable__label {background-color: #d4ebff;}#sk-container-id-3 div.sk-serial::before {content: \"\";position: absolute;border-left: 1px solid gray;box-sizing: border-box;top: 0;bottom: 0;left: 50%;z-index: 0;}#sk-container-id-3 div.sk-serial {display: flex;flex-direction: column;align-items: center;background-color: white;padding-right: 0.2em;padding-left: 0.2em;position: relative;}#sk-container-id-3 div.sk-item {position: relative;z-index: 1;}#sk-container-id-3 div.sk-parallel {display: flex;align-items: stretch;justify-content: center;background-color: white;position: relative;}#sk-container-id-3 div.sk-item::before, #sk-container-id-3 div.sk-parallel-item::before {content: \"\";position: absolute;border-left: 1px solid gray;box-sizing: border-box;top: 0;bottom: 0;left: 50%;z-index: -1;}#sk-container-id-3 div.sk-parallel-item {display: flex;flex-direction: column;z-index: 1;position: relative;background-color: white;}#sk-container-id-3 div.sk-parallel-item:first-child::after {align-self: flex-end;width: 50%;}#sk-container-id-3 div.sk-parallel-item:last-child::after {align-self: flex-start;width: 50%;}#sk-container-id-3 div.sk-parallel-item:only-child::after {width: 0;}#sk-container-id-3 div.sk-dashed-wrapped {border: 1px dashed gray;margin: 0 0.4em 0.5em 0.4em;box-sizing: border-box;padding-bottom: 0.4em;background-color: white;}#sk-container-id-3 div.sk-label label {font-family: monospace;font-weight: bold;display: inline-block;line-height: 1.2em;}#sk-container-id-3 div.sk-label-container {text-align: center;}#sk-container-id-3 div.sk-container {/* jupyter's `normalize.less` sets `[hidden] { display: none; }` but bootstrap.min.css set `[hidden] { display: none !important; }` so we also need the `!important` here to be able to override the default hidden behavior on the sphinx rendered scikit-learn.org. See: https://github.com/scikit-learn/scikit-learn/issues/21755 */display: inline-block !important;position: relative;}#sk-container-id-3 div.sk-text-repr-fallback {display: none;}</style><div id=\"sk-container-id-3\" class=\"sk-top-container\"><div class=\"sk-text-repr-fallback\"><pre>LinearRegression()</pre><b>In a Jupyter environment, please rerun this cell to show the HTML representation or trust the notebook. <br />On GitHub, the HTML representation is unable to render, please try loading this page with nbviewer.org.</b></div><div class=\"sk-container\" hidden><div class=\"sk-item\"><div class=\"sk-estimator sk-toggleable\"><input class=\"sk-toggleable__control sk-hidden--visually\" id=\"sk-estimator-id-3\" type=\"checkbox\" checked><label for=\"sk-estimator-id-3\" class=\"sk-toggleable__label sk-toggleable__label-arrow\">LinearRegression</label><div class=\"sk-toggleable__content\"><pre>LinearRegression()</pre></div></div></div></div></div>"
      ],
      "text/plain": [
       "LinearRegression()"
      ]
     },
     "execution_count": 79,
     "metadata": {},
     "output_type": "execute_result"
    }
   ],
   "source": [
    "# Now we can fit the data to our model\n",
    "\n",
    "# Importing the simple linear regression model\n",
    "from sklearn.linear_model import LinearRegression\n",
    "\n",
    "model = LinearRegression()\n",
    "model.fit(X=X_train,y=y_train)"
   ]
  },
  {
   "cell_type": "code",
   "execution_count": 80,
   "id": "fb90344f",
   "metadata": {},
   "outputs": [
    {
     "data": {
      "text/plain": [
       "0.9553063138044949"
      ]
     },
     "execution_count": 80,
     "metadata": {},
     "output_type": "execute_result"
    }
   ],
   "source": [
    "# Now lets see the score\n",
    "model.score(X=X_test, y=y_test)"
   ]
  },
  {
   "cell_type": "code",
   "execution_count": 81,
   "id": "7eade2d3",
   "metadata": {},
   "outputs": [],
   "source": [
    "# 95% Score.... Not bad\n",
    "\n",
    "# lets see some predictions\n",
    "y_pred = model.predict(X_test)"
   ]
  },
  {
   "cell_type": "code",
   "execution_count": 83,
   "id": "7d9b14ac",
   "metadata": {
    "scrolled": false
   },
   "outputs": [
    {
     "data": {
      "image/png": "[encoded data removed]",
      "text/plain": [
       "<Figure size 720x576 with 1 Axes>"
      ]
     },
     "metadata": {
      "needs_background": "light"
     },
     "output_type": "display_data"
    }
   ],
   "source": [
    "# So now we can plot the regression Line\n",
    "\n",
    "fig,ax = plt.subplots(figsize=(10,8))\n",
    "ax.scatter(x=X_train,y=y_train,cmap=\"winter\", marker='o', label='Actual Values')\n",
    "ax.plot(X_train,model.predict(X_train),color='red',label='Regression Line')\n",
    "ax.legend()\n",
    "ax.set_title('Years of Experience VS Salary (With regression line)')\n",
    "ax.set_xlabel('Years of Experience')\n",
    "ax.set_ylabel('Salary');"
   ]
  },
  {
   "cell_type": "code",
   "execution_count": 90,
   "id": "66fd2221",
   "metadata": {
    "scrolled": false
   },
   "outputs": [
    {
     "data": {
      "image/png": "[encoded data removed]",
      "text/plain": [
       "<Figure size 720x576 with 1 Axes>"
      ]
     },
     "metadata": {
      "needs_background": "light"
     },
     "output_type": "display_data"
    }
   ],
   "source": [
    "# lets see how well this model can predict new values\n",
    "\n",
    "# So now we can plot the regression Line\n",
    "\n",
    "fig,ax = plt.subplots(figsize=(10,8))\n",
    "ax.scatter(x=X_train,y=y_train,cmap=\"winter\", marker='o', label='Actual Values', color='red')\n",
    "ax.scatter(x=X_test,y=y_pred,cmap=\"winter\", marker='o', label='Predicted Values', color='green')\n",
    "ax.plot(X_train,model.predict(X_train),color='blue',label='Regression Line',linewidth=0.5,alpha=0.5)\n",
    "ax.legend()\n",
    "ax.set_title('Years of Experience VS Salary (With regression line)')\n",
    "ax.set_xlabel('Years of Experience')\n",
    "ax.set_ylabel('Salary');"
   ]
  },
  {
   "cell_type": "code",
   "execution_count": null,
   "id": "2381fe39",
   "metadata": {},
   "outputs": [],
   "source": []
  }
 ],
 "metadata": {
  "kernelspec": {
   "display_name": "Python 3 (ipykernel)",
   "language": "python",
   "name": "python3"
  },
  "language_info": {
   "codemirror_mode": {
    "name": "ipython",
    "version": 3
   },
   "file_extension": ".py",
   "mimetype": "text/x-python",
   "name": "python",
   "nbconvert_exporter": "python",
   "pygments_lexer": "ipython3",
   "version": "3.10.4"
  }
 },
 "nbformat": 4,
 "nbformat_minor": 5
}
