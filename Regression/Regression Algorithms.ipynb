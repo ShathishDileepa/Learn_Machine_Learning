{
 "cells": [
  {
   "cell_type": "markdown",
   "id": "0aacecca",
   "metadata": {},
   "source": [
    "# Types of Regression Algorithms\n",
    "\n",
    "In this note book we will be talking about 6 types of regression Machine Learning algorithms in detail. Those six Algorithms are as follows,\n",
    "\n",
    "    1. Simple Linear Regression\n",
    "    2. Multiple Linear Regression\n",
    "    3. Polynomial Regression\n",
    "    4. Support Vector for Regression (SVR)\n",
    "    5. Decision Tree Classification\n",
    "    6. Random Forest Classification"
   ]
  },
  {
   "cell_type": "markdown",
   "id": "619083a5",
   "metadata": {},
   "source": [
    "## What is Regression used for...\n",
    "\n",
    "As we learned there are mainly two type of ML Problems,\n",
    "\n",
    "   * Predicting a Label(Classification)\n",
    "   * Predicting a value(Regression)\n",
    "\n",
    "So unlike in classification problems in regression problems what is done is model is trained on data and used to predict a value.\n",
    "\n",
    "Ex: Predicting a price of a car when certain parameters and details are given."
   ]
  },
  {
   "cell_type": "markdown",
   "id": "70df3e75",
   "metadata": {},
   "source": [
    "## 1. Simple Linear Regression\n",
    "\n",
    "This is the simplest algorithm hence the name. How this model(algorithm) works is that, it look at the training data its given `X_test, y_test` and try to draw a linear line that would best fit the all the data points.\n",
    "\n",
    "<img alt=\"Simple Linear Regression Demostration\" src=\"./images/simple_linear_regression.png\" style=\"width:55%;height:auto\"/>"
   ]
  },
  {
   "cell_type": "markdown",
   "id": "baade62e",
   "metadata": {},
   "source": [
    "Model draws a regression line, `y = b0 + b1*X` just as normal `y = mx + c`. Where,\n",
    "   * b0 = constant (intercept)\n",
    "   * b1 = this represent how unit change in X (independent variable) affect the values y (dependent variable)\n",
    "\n",
    "As shown in the above figure, what the model does is it draws several regression lines and it take the sum as `SUM = Residuals**2` and store them. And pick the regression line with the __Minimum Sum__ as the final Regression Line."
   ]
  },
  {
   "cell_type": "code",
   "execution_count": 1,
   "id": "87372bdc",
   "metadata": {},
   "outputs": [],
   "source": [
    "# Simple Linear Regression Model\n",
    "\n",
    "# Import the relavent modules\n",
    "%matplotlib inline\n",
    "import numpy as np\n",
    "import pandas as pd\n",
    "import matplotlib.pyplot as plt\n",
    "import sklearn\n",
    "\n",
    "# set a random seed globally\n",
    "np.random.seed(42)"
   ]
  },
  {
   "cell_type": "code",
   "execution_count": 2,
   "id": "a83bf0d1",
   "metadata": {},
   "outputs": [
    {
     "data": {
      "text/html": [
       "<div>\n",
       "<style scoped>\n",
       "    .dataframe tbody tr th:only-of-type {\n",
       "        vertical-align: middle;\n",
       "    }\n",
       "\n",
       "    .dataframe tbody tr th {\n",
       "        vertical-align: top;\n",
       "    }\n",
       "\n",
       "    .dataframe thead th {\n",
       "        text-align: right;\n",
       "    }\n",
       "</style>\n",
       "<table border=\"1\" class=\"dataframe\">\n",
       "  <thead>\n",
       "    <tr style=\"text-align: right;\">\n",
       "      <th></th>\n",
       "      <th>YearsExperience</th>\n",
       "      <th>Salary</th>\n",
       "    </tr>\n",
       "  </thead>\n",
       "  <tbody>\n",
       "    <tr>\n",
       "      <th>0</th>\n",
       "      <td>1.1</td>\n",
       "      <td>39343.0</td>\n",
       "    </tr>\n",
       "    <tr>\n",
       "      <th>1</th>\n",
       "      <td>1.3</td>\n",
       "      <td>46205.0</td>\n",
       "    </tr>\n",
       "    <tr>\n",
       "      <th>2</th>\n",
       "      <td>1.5</td>\n",
       "      <td>37731.0</td>\n",
       "    </tr>\n",
       "    <tr>\n",
       "      <th>3</th>\n",
       "      <td>2.0</td>\n",
       "      <td>43525.0</td>\n",
       "    </tr>\n",
       "    <tr>\n",
       "      <th>4</th>\n",
       "      <td>2.2</td>\n",
       "      <td>39891.0</td>\n",
       "    </tr>\n",
       "  </tbody>\n",
       "</table>\n",
       "</div>"
      ],
      "text/plain": [
       "   YearsExperience   Salary\n",
       "0              1.1  39343.0\n",
       "1              1.3  46205.0\n",
       "2              1.5  37731.0\n",
       "3              2.0  43525.0\n",
       "4              2.2  39891.0"
      ]
     },
     "execution_count": 2,
     "metadata": {},
     "output_type": "execute_result"
    }
   ],
   "source": [
    "# lets preprocess our data\n",
    "\n",
    "# import the data\n",
    "data = pd.read_csv('data/Simple Linear Regression/Salary_Data.csv')\n",
    "data.head()"
   ]
  },
  {
   "cell_type": "code",
   "execution_count": 3,
   "id": "25a24943",
   "metadata": {},
   "outputs": [
    {
     "data": {
      "text/plain": [
       "YearsExperience    0\n",
       "Salary             0\n",
       "dtype: int64"
      ]
     },
     "execution_count": 3,
     "metadata": {},
     "output_type": "execute_result"
    }
   ],
   "source": [
    "# now we have to check if there are any missing values\n",
    "data.isna().sum()"
   ]
  },
  {
   "cell_type": "code",
   "execution_count": 4,
   "id": "6ee46caf",
   "metadata": {},
   "outputs": [
    {
     "name": "stdout",
     "output_type": "stream",
     "text": [
      "<class 'pandas.core.frame.DataFrame'>\n",
      "RangeIndex: 30 entries, 0 to 29\n",
      "Data columns (total 2 columns):\n",
      " #   Column           Non-Null Count  Dtype  \n",
      "---  ------           --------------  -----  \n",
      " 0   YearsExperience  30 non-null     float64\n",
      " 1   Salary           30 non-null     float64\n",
      "dtypes: float64(2)\n",
      "memory usage: 608.0 bytes\n"
     ]
    }
   ],
   "source": [
    "# Okay no missing values then lets just see details of the dataset\n",
    "\n",
    "data.info()"
   ]
  },
  {
   "cell_type": "code",
   "execution_count": 5,
   "id": "319a30d2",
   "metadata": {},
   "outputs": [
    {
     "data": {
      "text/html": [
       "<div>\n",
       "<style scoped>\n",
       "    .dataframe tbody tr th:only-of-type {\n",
       "        vertical-align: middle;\n",
       "    }\n",
       "\n",
       "    .dataframe tbody tr th {\n",
       "        vertical-align: top;\n",
       "    }\n",
       "\n",
       "    .dataframe thead th {\n",
       "        text-align: right;\n",
       "    }\n",
       "</style>\n",
       "<table border=\"1\" class=\"dataframe\">\n",
       "  <thead>\n",
       "    <tr style=\"text-align: right;\">\n",
       "      <th></th>\n",
       "      <th>count</th>\n",
       "      <th>mean</th>\n",
       "      <th>std</th>\n",
       "      <th>min</th>\n",
       "      <th>25%</th>\n",
       "      <th>50%</th>\n",
       "      <th>75%</th>\n",
       "      <th>max</th>\n",
       "    </tr>\n",
       "  </thead>\n",
       "  <tbody>\n",
       "    <tr>\n",
       "      <th>YearsExperience</th>\n",
       "      <td>30.0</td>\n",
       "      <td>5.313333</td>\n",
       "      <td>2.837888</td>\n",
       "      <td>1.1</td>\n",
       "      <td>3.20</td>\n",
       "      <td>4.7</td>\n",
       "      <td>7.70</td>\n",
       "      <td>10.5</td>\n",
       "    </tr>\n",
       "    <tr>\n",
       "      <th>Salary</th>\n",
       "      <td>30.0</td>\n",
       "      <td>76003.000000</td>\n",
       "      <td>27414.429785</td>\n",
       "      <td>37731.0</td>\n",
       "      <td>56720.75</td>\n",
       "      <td>65237.0</td>\n",
       "      <td>100544.75</td>\n",
       "      <td>122391.0</td>\n",
       "    </tr>\n",
       "  </tbody>\n",
       "</table>\n",
       "</div>"
      ],
      "text/plain": [
       "                 count          mean           std      min       25%  \\\n",
       "YearsExperience   30.0      5.313333      2.837888      1.1      3.20   \n",
       "Salary            30.0  76003.000000  27414.429785  37731.0  56720.75   \n",
       "\n",
       "                     50%        75%       max  \n",
       "YearsExperience      4.7       7.70      10.5  \n",
       "Salary           65237.0  100544.75  122391.0  "
      ]
     },
     "execution_count": 5,
     "metadata": {},
     "output_type": "execute_result"
    }
   ],
   "source": [
    "# All numeric data type and we dont have to manipulate data\n",
    "\n",
    "data.describe().transpose()"
   ]
  },
  {
   "cell_type": "code",
   "execution_count": 6,
   "id": "fa0a6c55",
   "metadata": {},
   "outputs": [
    {
     "data": {
      "image/png": "[encoded data removed]",
      "text/plain": [
       "<Figure size 720x432 with 1 Axes>"
      ]
     },
     "metadata": {
      "needs_background": "light"
     },
     "output_type": "display_data"
    }
   ],
   "source": [
    "# Lets plot these and see\n",
    "fig,ax = plt.subplots(figsize=(10,6))\n",
    "ax.scatter(x=data['YearsExperience'],y=data['Salary'],cmap=\"winter\", marker='o')\n",
    "ax.set_title('Years of Experience VS Salary')\n",
    "ax.set_xlabel('Years of Experience')\n",
    "ax.set_ylabel('Salary');"
   ]
  },
  {
   "cell_type": "code",
   "execution_count": 7,
   "id": "7143b773",
   "metadata": {},
   "outputs": [],
   "source": [
    "# lets divide our data into X and y\n",
    "X = data.drop('Salary',axis=1)\n",
    "y = data['Salary']\n",
    "\n",
    "# Lets split the data to train and test splits\n",
    "from sklearn.model_selection import train_test_split\n",
    "\n",
    "X_train, X_test, y_train, y_test = train_test_split(X,y,test_size=1/3)"
   ]
  },
  {
   "cell_type": "code",
   "execution_count": 8,
   "id": "630670ae",
   "metadata": {},
   "outputs": [
    {
     "data": {
      "text/plain": [
       "(20, 10)"
      ]
     },
     "execution_count": 8,
     "metadata": {},
     "output_type": "execute_result"
    }
   ],
   "source": [
    "len(X_train), len(X_test)"
   ]
  },
  {
   "cell_type": "code",
   "execution_count": 9,
   "id": "ca4a36ef",
   "metadata": {},
   "outputs": [
    {
     "data": {
      "text/html": [
       "<style>#sk-container-id-1 {color: black;background-color: white;}#sk-container-id-1 pre{padding: 0;}#sk-container-id-1 div.sk-toggleable {background-color: white;}#sk-container-id-1 label.sk-toggleable__label {cursor: pointer;display: block;width: 100%;margin-bottom: 0;padding: 0.3em;box-sizing: border-box;text-align: center;}#sk-container-id-1 label.sk-toggleable__label-arrow:before {content: \"▸\";float: left;margin-right: 0.25em;color: #696969;}#sk-container-id-1 label.sk-toggleable__label-arrow:hover:before {color: black;}#sk-container-id-1 div.sk-estimator:hover label.sk-toggleable__label-arrow:before {color: black;}#sk-container-id-1 div.sk-toggleable__content {max-height: 0;max-width: 0;overflow: hidden;text-align: left;background-color: #f0f8ff;}#sk-container-id-1 div.sk-toggleable__content pre {margin: 0.2em;color: black;border-radius: 0.25em;background-color: #f0f8ff;}#sk-container-id-1 input.sk-toggleable__control:checked~div.sk-toggleable__content {max-height: 200px;max-width: 100%;overflow: auto;}#sk-container-id-1 input.sk-toggleable__control:checked~label.sk-toggleable__label-arrow:before {content: \"▾\";}#sk-container-id-1 div.sk-estimator input.sk-toggleable__control:checked~label.sk-toggleable__label {background-color: #d4ebff;}#sk-container-id-1 div.sk-label input.sk-toggleable__control:checked~label.sk-toggleable__label {background-color: #d4ebff;}#sk-container-id-1 input.sk-hidden--visually {border: 0;clip: rect(1px 1px 1px 1px);clip: rect(1px, 1px, 1px, 1px);height: 1px;margin: -1px;overflow: hidden;padding: 0;position: absolute;width: 1px;}#sk-container-id-1 div.sk-estimator {font-family: monospace;background-color: #f0f8ff;border: 1px dotted black;border-radius: 0.25em;box-sizing: border-box;margin-bottom: 0.5em;}#sk-container-id-1 div.sk-estimator:hover {background-color: #d4ebff;}#sk-container-id-1 div.sk-parallel-item::after {content: \"\";width: 100%;border-bottom: 1px solid gray;flex-grow: 1;}#sk-container-id-1 div.sk-label:hover label.sk-toggleable__label {background-color: #d4ebff;}#sk-container-id-1 div.sk-serial::before {content: \"\";position: absolute;border-left: 1px solid gray;box-sizing: border-box;top: 0;bottom: 0;left: 50%;z-index: 0;}#sk-container-id-1 div.sk-serial {display: flex;flex-direction: column;align-items: center;background-color: white;padding-right: 0.2em;padding-left: 0.2em;position: relative;}#sk-container-id-1 div.sk-item {position: relative;z-index: 1;}#sk-container-id-1 div.sk-parallel {display: flex;align-items: stretch;justify-content: center;background-color: white;position: relative;}#sk-container-id-1 div.sk-item::before, #sk-container-id-1 div.sk-parallel-item::before {content: \"\";position: absolute;border-left: 1px solid gray;box-sizing: border-box;top: 0;bottom: 0;left: 50%;z-index: -1;}#sk-container-id-1 div.sk-parallel-item {display: flex;flex-direction: column;z-index: 1;position: relative;background-color: white;}#sk-container-id-1 div.sk-parallel-item:first-child::after {align-self: flex-end;width: 50%;}#sk-container-id-1 div.sk-parallel-item:last-child::after {align-self: flex-start;width: 50%;}#sk-container-id-1 div.sk-parallel-item:only-child::after {width: 0;}#sk-container-id-1 div.sk-dashed-wrapped {border: 1px dashed gray;margin: 0 0.4em 0.5em 0.4em;box-sizing: border-box;padding-bottom: 0.4em;background-color: white;}#sk-container-id-1 div.sk-label label {font-family: monospace;font-weight: bold;display: inline-block;line-height: 1.2em;}#sk-container-id-1 div.sk-label-container {text-align: center;}#sk-container-id-1 div.sk-container {/* jupyter's `normalize.less` sets `[hidden] { display: none; }` but bootstrap.min.css set `[hidden] { display: none !important; }` so we also need the `!important` here to be able to override the default hidden behavior on the sphinx rendered scikit-learn.org. See: https://github.com/scikit-learn/scikit-learn/issues/21755 */display: inline-block !important;position: relative;}#sk-container-id-1 div.sk-text-repr-fallback {display: none;}</style><div id=\"sk-container-id-1\" class=\"sk-top-container\"><div class=\"sk-text-repr-fallback\"><pre>LinearRegression()</pre><b>In a Jupyter environment, please rerun this cell to show the HTML representation or trust the notebook. <br />On GitHub, the HTML representation is unable to render, please try loading this page with nbviewer.org.</b></div><div class=\"sk-container\" hidden><div class=\"sk-item\"><div class=\"sk-estimator sk-toggleable\"><input class=\"sk-toggleable__control sk-hidden--visually\" id=\"sk-estimator-id-1\" type=\"checkbox\" checked><label for=\"sk-estimator-id-1\" class=\"sk-toggleable__label sk-toggleable__label-arrow\">LinearRegression</label><div class=\"sk-toggleable__content\"><pre>LinearRegression()</pre></div></div></div></div></div>"
      ],
      "text/plain": [
       "LinearRegression()"
      ]
     },
     "execution_count": 9,
     "metadata": {},
     "output_type": "execute_result"
    }
   ],
   "source": [
    "# Now we can fit the data to our model\n",
    "\n",
    "# Importing the simple linear regression model\n",
    "from sklearn.linear_model import LinearRegression\n",
    "\n",
    "model = LinearRegression()\n",
    "model.fit(X=X_train,y=y_train)"
   ]
  },
  {
   "cell_type": "code",
   "execution_count": 10,
   "id": "17f7679e",
   "metadata": {},
   "outputs": [
    {
     "data": {
      "text/plain": [
       "0.9553063138044949"
      ]
     },
     "execution_count": 10,
     "metadata": {},
     "output_type": "execute_result"
    }
   ],
   "source": [
    "# Now lets see the score\n",
    "model.score(X=X_test, y=y_test)"
   ]
  },
  {
   "cell_type": "code",
   "execution_count": 11,
   "id": "c4e6b4a6",
   "metadata": {},
   "outputs": [],
   "source": [
    "# 95% Score.... Not bad\n",
    "\n",
    "# lets see some predictions\n",
    "y_pred = model.predict(X_test)"
   ]
  },
  {
   "cell_type": "code",
   "execution_count": 12,
   "id": "95243ef7",
   "metadata": {
    "scrolled": false
   },
   "outputs": [
    {
     "data": {
      "image/png": "[encoded data removed]",
      "text/plain": [
       "<Figure size 720x576 with 1 Axes>"
      ]
     },
     "metadata": {
      "needs_background": "light"
     },
     "output_type": "display_data"
    }
   ],
   "source": [
    "# So now we can plot the regression Line\n",
    "\n",
    "fig,ax = plt.subplots(figsize=(10,8))\n",
    "ax.scatter(x=X_train,y=y_train,cmap=\"winter\", marker='o', label='Actual Values')\n",
    "ax.plot(X_train,model.predict(X_train),color='red',label='Regression Line')\n",
    "ax.legend()\n",
    "ax.set_title('Years of Experience VS Salary (With regression line)')\n",
    "ax.set_xlabel('Years of Experience')\n",
    "ax.set_ylabel('Salary');"
   ]
  },
  {
   "cell_type": "code",
   "execution_count": 13,
   "id": "c03902e4",
   "metadata": {
    "scrolled": false
   },
   "outputs": [
    {
     "data": {
      "image/png": "[encoded data removed]",
      "text/plain": [
       "<Figure size 720x576 with 1 Axes>"
      ]
     },
     "metadata": {
      "needs_background": "light"
     },
     "output_type": "display_data"
    }
   ],
   "source": [
    "# lets see how well this model can predict new values\n",
    "\n",
    "# So now we can plot the regression Line\n",
    "\n",
    "fig,ax = plt.subplots(figsize=(10,8))\n",
    "ax.scatter(x=X_test,y=y_test,cmap=\"winter\", marker='o', label='Actual Values', color='red')\n",
    "ax.scatter(x=X_test,y=y_pred,cmap=\"winter\", marker='o', label='Predicted Values', color='green')\n",
    "ax.plot(X_train,model.predict(X_train),color='blue',label='Regression Line',linewidth=0.5,alpha=0.5)\n",
    "ax.legend()\n",
    "ax.set_title('Years of Experience VS Salary (With regression line)')\n",
    "ax.set_xlabel('Years of Experience')\n",
    "ax.set_ylabel('Salary');"
   ]
  },
  {
   "cell_type": "markdown",
   "id": "dd04eb78",
   "metadata": {},
   "source": [
    "## 2. Multiple Linear Regresion\n",
    "\n",
    "Here the intuition is as same as simple Linear Regression. But in Multiple linear regression the equation looks like this,\n",
    "\n",
    "`y = b0 + b1.X1 + b2.X2 + ... + bn.Xn`"
   ]
  },
  {
   "cell_type": "code",
   "execution_count": 14,
   "id": "5a073e51",
   "metadata": {},
   "outputs": [],
   "source": [
    "# Multiple linear regression\n",
    "\n",
    "# importing the important modules\n",
    "%matplotlib inline\n",
    "import numpy as np\n",
    "import pandas as pd\n",
    "import matplotlib.pyplot as plt\n",
    "import sklearn\n",
    "\n",
    "# setting a global seed\n",
    "np.random.seed(42)"
   ]
  },
  {
   "cell_type": "code",
   "execution_count": 15,
   "id": "502322e1",
   "metadata": {},
   "outputs": [
    {
     "data": {
      "text/html": [
       "<div>\n",
       "<style scoped>\n",
       "    .dataframe tbody tr th:only-of-type {\n",
       "        vertical-align: middle;\n",
       "    }\n",
       "\n",
       "    .dataframe tbody tr th {\n",
       "        vertical-align: top;\n",
       "    }\n",
       "\n",
       "    .dataframe thead th {\n",
       "        text-align: right;\n",
       "    }\n",
       "</style>\n",
       "<table border=\"1\" class=\"dataframe\">\n",
       "  <thead>\n",
       "    <tr style=\"text-align: right;\">\n",
       "      <th></th>\n",
       "      <th>R&amp;D Spend</th>\n",
       "      <th>Administration</th>\n",
       "      <th>Marketing Spend</th>\n",
       "      <th>State</th>\n",
       "      <th>Profit</th>\n",
       "    </tr>\n",
       "  </thead>\n",
       "  <tbody>\n",
       "    <tr>\n",
       "      <th>0</th>\n",
       "      <td>165349.20</td>\n",
       "      <td>136897.80</td>\n",
       "      <td>471784.10</td>\n",
       "      <td>New York</td>\n",
       "      <td>192261.83</td>\n",
       "    </tr>\n",
       "    <tr>\n",
       "      <th>1</th>\n",
       "      <td>162597.70</td>\n",
       "      <td>151377.59</td>\n",
       "      <td>443898.53</td>\n",
       "      <td>California</td>\n",
       "      <td>191792.06</td>\n",
       "    </tr>\n",
       "    <tr>\n",
       "      <th>2</th>\n",
       "      <td>153441.51</td>\n",
       "      <td>101145.55</td>\n",
       "      <td>407934.54</td>\n",
       "      <td>Florida</td>\n",
       "      <td>191050.39</td>\n",
       "    </tr>\n",
       "    <tr>\n",
       "      <th>3</th>\n",
       "      <td>144372.41</td>\n",
       "      <td>118671.85</td>\n",
       "      <td>383199.62</td>\n",
       "      <td>New York</td>\n",
       "      <td>182901.99</td>\n",
       "    </tr>\n",
       "    <tr>\n",
       "      <th>4</th>\n",
       "      <td>142107.34</td>\n",
       "      <td>91391.77</td>\n",
       "      <td>366168.42</td>\n",
       "      <td>Florida</td>\n",
       "      <td>166187.94</td>\n",
       "    </tr>\n",
       "  </tbody>\n",
       "</table>\n",
       "</div>"
      ],
      "text/plain": [
       "   R&D Spend  Administration  Marketing Spend       State     Profit\n",
       "0  165349.20       136897.80        471784.10    New York  192261.83\n",
       "1  162597.70       151377.59        443898.53  California  191792.06\n",
       "2  153441.51       101145.55        407934.54     Florida  191050.39\n",
       "3  144372.41       118671.85        383199.62    New York  182901.99\n",
       "4  142107.34        91391.77        366168.42     Florida  166187.94"
      ]
     },
     "execution_count": 15,
     "metadata": {},
     "output_type": "execute_result"
    }
   ],
   "source": [
    "# Preprocessing data\n",
    "\n",
    "data = pd.read_csv('./data/Multiple Linear Regression/50_Startups.csv')\n",
    "data.head()"
   ]
  },
  {
   "cell_type": "code",
   "execution_count": 16,
   "id": "c86246e0",
   "metadata": {},
   "outputs": [
    {
     "name": "stdout",
     "output_type": "stream",
     "text": [
      "<class 'pandas.core.frame.DataFrame'>\n",
      "RangeIndex: 50 entries, 0 to 49\n",
      "Data columns (total 5 columns):\n",
      " #   Column           Non-Null Count  Dtype  \n",
      "---  ------           --------------  -----  \n",
      " 0   R&D Spend        50 non-null     float64\n",
      " 1   Administration   50 non-null     float64\n",
      " 2   Marketing Spend  50 non-null     float64\n",
      " 3   State            50 non-null     object \n",
      " 4   Profit           50 non-null     float64\n",
      "dtypes: float64(4), object(1)\n",
      "memory usage: 2.1+ KB\n"
     ]
    }
   ],
   "source": [
    "# Lets see some information\n",
    "data.info()"
   ]
  },
  {
   "cell_type": "code",
   "execution_count": 17,
   "id": "1c5bab97",
   "metadata": {},
   "outputs": [
    {
     "data": {
      "text/html": [
       "<div>\n",
       "<style scoped>\n",
       "    .dataframe tbody tr th:only-of-type {\n",
       "        vertical-align: middle;\n",
       "    }\n",
       "\n",
       "    .dataframe tbody tr th {\n",
       "        vertical-align: top;\n",
       "    }\n",
       "\n",
       "    .dataframe thead th {\n",
       "        text-align: right;\n",
       "    }\n",
       "</style>\n",
       "<table border=\"1\" class=\"dataframe\">\n",
       "  <thead>\n",
       "    <tr style=\"text-align: right;\">\n",
       "      <th></th>\n",
       "      <th>count</th>\n",
       "      <th>mean</th>\n",
       "      <th>std</th>\n",
       "      <th>min</th>\n",
       "      <th>25%</th>\n",
       "      <th>50%</th>\n",
       "      <th>75%</th>\n",
       "      <th>max</th>\n",
       "    </tr>\n",
       "  </thead>\n",
       "  <tbody>\n",
       "    <tr>\n",
       "      <th>R&amp;D Spend</th>\n",
       "      <td>50.0</td>\n",
       "      <td>73721.6156</td>\n",
       "      <td>45902.256482</td>\n",
       "      <td>0.00</td>\n",
       "      <td>39936.3700</td>\n",
       "      <td>73051.080</td>\n",
       "      <td>101602.8000</td>\n",
       "      <td>165349.20</td>\n",
       "    </tr>\n",
       "    <tr>\n",
       "      <th>Administration</th>\n",
       "      <td>50.0</td>\n",
       "      <td>121344.6396</td>\n",
       "      <td>28017.802755</td>\n",
       "      <td>51283.14</td>\n",
       "      <td>103730.8750</td>\n",
       "      <td>122699.795</td>\n",
       "      <td>144842.1800</td>\n",
       "      <td>182645.56</td>\n",
       "    </tr>\n",
       "    <tr>\n",
       "      <th>Marketing Spend</th>\n",
       "      <td>50.0</td>\n",
       "      <td>211025.0978</td>\n",
       "      <td>122290.310726</td>\n",
       "      <td>0.00</td>\n",
       "      <td>129300.1325</td>\n",
       "      <td>212716.240</td>\n",
       "      <td>299469.0850</td>\n",
       "      <td>471784.10</td>\n",
       "    </tr>\n",
       "    <tr>\n",
       "      <th>Profit</th>\n",
       "      <td>50.0</td>\n",
       "      <td>112012.6392</td>\n",
       "      <td>40306.180338</td>\n",
       "      <td>14681.40</td>\n",
       "      <td>90138.9025</td>\n",
       "      <td>107978.190</td>\n",
       "      <td>139765.9775</td>\n",
       "      <td>192261.83</td>\n",
       "    </tr>\n",
       "  </tbody>\n",
       "</table>\n",
       "</div>"
      ],
      "text/plain": [
       "                 count         mean            std       min          25%  \\\n",
       "R&D Spend         50.0   73721.6156   45902.256482      0.00   39936.3700   \n",
       "Administration    50.0  121344.6396   28017.802755  51283.14  103730.8750   \n",
       "Marketing Spend   50.0  211025.0978  122290.310726      0.00  129300.1325   \n",
       "Profit            50.0  112012.6392   40306.180338  14681.40   90138.9025   \n",
       "\n",
       "                        50%          75%        max  \n",
       "R&D Spend         73051.080  101602.8000  165349.20  \n",
       "Administration   122699.795  144842.1800  182645.56  \n",
       "Marketing Spend  212716.240  299469.0850  471784.10  \n",
       "Profit           107978.190  139765.9775  192261.83  "
      ]
     },
     "execution_count": 17,
     "metadata": {},
     "output_type": "execute_result"
    }
   ],
   "source": [
    "# there is one categorical data we will have to take care of that\n",
    "data.describe().T"
   ]
  },
  {
   "cell_type": "code",
   "execution_count": 18,
   "id": "2338b3ca",
   "metadata": {},
   "outputs": [
    {
     "data": {
      "text/plain": [
       "R&D Spend          0\n",
       "Administration     0\n",
       "Marketing Spend    0\n",
       "State              0\n",
       "Profit             0\n",
       "dtype: int64"
      ]
     },
     "execution_count": 18,
     "metadata": {},
     "output_type": "execute_result"
    }
   ],
   "source": [
    "data.isna().sum()"
   ]
  },
  {
   "cell_type": "code",
   "execution_count": 19,
   "id": "b374033b",
   "metadata": {},
   "outputs": [
    {
     "data": {
      "image/png": "[encoded data removed]",
      "text/plain": [
       "<Figure size 803.75x720 with 20 Axes>"
      ]
     },
     "metadata": {
      "needs_background": "light"
     },
     "output_type": "display_data"
    }
   ],
   "source": [
    "# no missing values that is good\n",
    "\n",
    "# explore the dataset and we will see\n",
    "import seaborn as sns\n",
    "\n",
    "# we can see the correlation of each variable using\n",
    "sns.pairplot(data,hue='State',diag_kind='hist');"
   ]
  },
  {
   "cell_type": "code",
   "execution_count": 20,
   "id": "afbee3ce",
   "metadata": {},
   "outputs": [
    {
     "data": {
      "text/html": [
       "<div>\n",
       "<style scoped>\n",
       "    .dataframe tbody tr th:only-of-type {\n",
       "        vertical-align: middle;\n",
       "    }\n",
       "\n",
       "    .dataframe tbody tr th {\n",
       "        vertical-align: top;\n",
       "    }\n",
       "\n",
       "    .dataframe thead th {\n",
       "        text-align: right;\n",
       "    }\n",
       "</style>\n",
       "<table border=\"1\" class=\"dataframe\">\n",
       "  <thead>\n",
       "    <tr style=\"text-align: right;\">\n",
       "      <th></th>\n",
       "      <th>R&amp;D Spend</th>\n",
       "      <th>Administration</th>\n",
       "      <th>Marketing Spend</th>\n",
       "      <th>State</th>\n",
       "      <th>Profit</th>\n",
       "    </tr>\n",
       "  </thead>\n",
       "  <tbody>\n",
       "    <tr>\n",
       "      <th>0</th>\n",
       "      <td>165349.20</td>\n",
       "      <td>136897.80</td>\n",
       "      <td>471784.10</td>\n",
       "      <td>New York</td>\n",
       "      <td>192261.83</td>\n",
       "    </tr>\n",
       "    <tr>\n",
       "      <th>1</th>\n",
       "      <td>162597.70</td>\n",
       "      <td>151377.59</td>\n",
       "      <td>443898.53</td>\n",
       "      <td>California</td>\n",
       "      <td>191792.06</td>\n",
       "    </tr>\n",
       "    <tr>\n",
       "      <th>2</th>\n",
       "      <td>153441.51</td>\n",
       "      <td>101145.55</td>\n",
       "      <td>407934.54</td>\n",
       "      <td>Florida</td>\n",
       "      <td>191050.39</td>\n",
       "    </tr>\n",
       "    <tr>\n",
       "      <th>3</th>\n",
       "      <td>144372.41</td>\n",
       "      <td>118671.85</td>\n",
       "      <td>383199.62</td>\n",
       "      <td>New York</td>\n",
       "      <td>182901.99</td>\n",
       "    </tr>\n",
       "    <tr>\n",
       "      <th>4</th>\n",
       "      <td>142107.34</td>\n",
       "      <td>91391.77</td>\n",
       "      <td>366168.42</td>\n",
       "      <td>Florida</td>\n",
       "      <td>166187.94</td>\n",
       "    </tr>\n",
       "  </tbody>\n",
       "</table>\n",
       "</div>"
      ],
      "text/plain": [
       "   R&D Spend  Administration  Marketing Spend       State     Profit\n",
       "0  165349.20       136897.80        471784.10    New York  192261.83\n",
       "1  162597.70       151377.59        443898.53  California  191792.06\n",
       "2  153441.51       101145.55        407934.54     Florida  191050.39\n",
       "3  144372.41       118671.85        383199.62    New York  182901.99\n",
       "4  142107.34        91391.77        366168.42     Florida  166187.94"
      ]
     },
     "execution_count": 20,
     "metadata": {},
     "output_type": "execute_result"
    }
   ],
   "source": [
    "#It seams that R&D, Marketting spend and profit has the most correlation\n",
    "\n",
    "data.head()"
   ]
  },
  {
   "cell_type": "code",
   "execution_count": 21,
   "id": "ddf8b65d",
   "metadata": {},
   "outputs": [
    {
     "data": {
      "text/html": [
       "<div>\n",
       "<style scoped>\n",
       "    .dataframe tbody tr th:only-of-type {\n",
       "        vertical-align: middle;\n",
       "    }\n",
       "\n",
       "    .dataframe tbody tr th {\n",
       "        vertical-align: top;\n",
       "    }\n",
       "\n",
       "    .dataframe thead th {\n",
       "        text-align: right;\n",
       "    }\n",
       "</style>\n",
       "<table border=\"1\" class=\"dataframe\">\n",
       "  <thead>\n",
       "    <tr style=\"text-align: right;\">\n",
       "      <th></th>\n",
       "      <th>0</th>\n",
       "      <th>1</th>\n",
       "      <th>2</th>\n",
       "      <th>3</th>\n",
       "      <th>4</th>\n",
       "      <th>5</th>\n",
       "      <th>6</th>\n",
       "    </tr>\n",
       "  </thead>\n",
       "  <tbody>\n",
       "    <tr>\n",
       "      <th>0</th>\n",
       "      <td>0.0</td>\n",
       "      <td>0.0</td>\n",
       "      <td>1.0</td>\n",
       "      <td>165349.20</td>\n",
       "      <td>136897.80</td>\n",
       "      <td>471784.10</td>\n",
       "      <td>192261.83</td>\n",
       "    </tr>\n",
       "    <tr>\n",
       "      <th>1</th>\n",
       "      <td>1.0</td>\n",
       "      <td>0.0</td>\n",
       "      <td>0.0</td>\n",
       "      <td>162597.70</td>\n",
       "      <td>151377.59</td>\n",
       "      <td>443898.53</td>\n",
       "      <td>191792.06</td>\n",
       "    </tr>\n",
       "    <tr>\n",
       "      <th>2</th>\n",
       "      <td>0.0</td>\n",
       "      <td>1.0</td>\n",
       "      <td>0.0</td>\n",
       "      <td>153441.51</td>\n",
       "      <td>101145.55</td>\n",
       "      <td>407934.54</td>\n",
       "      <td>191050.39</td>\n",
       "    </tr>\n",
       "    <tr>\n",
       "      <th>3</th>\n",
       "      <td>0.0</td>\n",
       "      <td>0.0</td>\n",
       "      <td>1.0</td>\n",
       "      <td>144372.41</td>\n",
       "      <td>118671.85</td>\n",
       "      <td>383199.62</td>\n",
       "      <td>182901.99</td>\n",
       "    </tr>\n",
       "    <tr>\n",
       "      <th>4</th>\n",
       "      <td>0.0</td>\n",
       "      <td>1.0</td>\n",
       "      <td>0.0</td>\n",
       "      <td>142107.34</td>\n",
       "      <td>91391.77</td>\n",
       "      <td>366168.42</td>\n",
       "      <td>166187.94</td>\n",
       "    </tr>\n",
       "  </tbody>\n",
       "</table>\n",
       "</div>"
      ],
      "text/plain": [
       "     0    1    2          3          4          5          6\n",
       "0  0.0  0.0  1.0  165349.20  136897.80  471784.10  192261.83\n",
       "1  1.0  0.0  0.0  162597.70  151377.59  443898.53  191792.06\n",
       "2  0.0  1.0  0.0  153441.51  101145.55  407934.54  191050.39\n",
       "3  0.0  0.0  1.0  144372.41  118671.85  383199.62  182901.99\n",
       "4  0.0  1.0  0.0  142107.34   91391.77  366168.42  166187.94"
      ]
     },
     "execution_count": 21,
     "metadata": {},
     "output_type": "execute_result"
    }
   ],
   "source": [
    "# we have to convert this to a numerical variable\n",
    "# Lets import relavent modules\n",
    "from sklearn.preprocessing import OneHotEncoder\n",
    "from sklearn.compose import ColumnTransformer\n",
    "\n",
    "# First create a instance of OneHotencoder\n",
    "one_hot = OneHotEncoder()\n",
    "\n",
    "\n",
    "# and define an array with the fetures/attributes of the dataframe we want to be converted\n",
    "categorical_features =['State']\n",
    "\n",
    "# Define a column transformer to transform the columns and combine everything\n",
    "# what this says is transform the colums mentioned in 'categorical_fetures' using\n",
    "# the transformer one_hot which is named as 'one_hot' let other columns passthrough and include in the final\n",
    "transformer = ColumnTransformer(transformers=[('one_hot',one_hot,categorical_features)],remainder='passthrough')\n",
    "\n",
    "# now that we have a transformer ready to transform all we have to do is give it the data\n",
    "transformed_data = transformer.fit_transform(data)\n",
    "transformed_df =pd.DataFrame(transformed_data)\n",
    "transformed_df.head()"
   ]
  },
  {
   "cell_type": "code",
   "execution_count": 22,
   "id": "837abdbf",
   "metadata": {},
   "outputs": [
    {
     "data": {
      "text/html": [
       "<div>\n",
       "<style scoped>\n",
       "    .dataframe tbody tr th:only-of-type {\n",
       "        vertical-align: middle;\n",
       "    }\n",
       "\n",
       "    .dataframe tbody tr th {\n",
       "        vertical-align: top;\n",
       "    }\n",
       "\n",
       "    .dataframe thead th {\n",
       "        text-align: right;\n",
       "    }\n",
       "</style>\n",
       "<table border=\"1\" class=\"dataframe\">\n",
       "  <thead>\n",
       "    <tr style=\"text-align: right;\">\n",
       "      <th></th>\n",
       "      <th>R&amp;D Spend</th>\n",
       "      <th>Administration</th>\n",
       "      <th>Marketing Spend</th>\n",
       "      <th>State</th>\n",
       "      <th>Profit</th>\n",
       "    </tr>\n",
       "  </thead>\n",
       "  <tbody>\n",
       "    <tr>\n",
       "      <th>0</th>\n",
       "      <td>165349.20</td>\n",
       "      <td>136897.80</td>\n",
       "      <td>471784.10</td>\n",
       "      <td>New York</td>\n",
       "      <td>192261.83</td>\n",
       "    </tr>\n",
       "    <tr>\n",
       "      <th>1</th>\n",
       "      <td>162597.70</td>\n",
       "      <td>151377.59</td>\n",
       "      <td>443898.53</td>\n",
       "      <td>California</td>\n",
       "      <td>191792.06</td>\n",
       "    </tr>\n",
       "    <tr>\n",
       "      <th>2</th>\n",
       "      <td>153441.51</td>\n",
       "      <td>101145.55</td>\n",
       "      <td>407934.54</td>\n",
       "      <td>Florida</td>\n",
       "      <td>191050.39</td>\n",
       "    </tr>\n",
       "    <tr>\n",
       "      <th>3</th>\n",
       "      <td>144372.41</td>\n",
       "      <td>118671.85</td>\n",
       "      <td>383199.62</td>\n",
       "      <td>New York</td>\n",
       "      <td>182901.99</td>\n",
       "    </tr>\n",
       "    <tr>\n",
       "      <th>4</th>\n",
       "      <td>142107.34</td>\n",
       "      <td>91391.77</td>\n",
       "      <td>366168.42</td>\n",
       "      <td>Florida</td>\n",
       "      <td>166187.94</td>\n",
       "    </tr>\n",
       "  </tbody>\n",
       "</table>\n",
       "</div>"
      ],
      "text/plain": [
       "   R&D Spend  Administration  Marketing Spend       State     Profit\n",
       "0  165349.20       136897.80        471784.10    New York  192261.83\n",
       "1  162597.70       151377.59        443898.53  California  191792.06\n",
       "2  153441.51       101145.55        407934.54     Florida  191050.39\n",
       "3  144372.41       118671.85        383199.62    New York  182901.99\n",
       "4  142107.34        91391.77        366168.42     Florida  166187.94"
      ]
     },
     "execution_count": 22,
     "metadata": {},
     "output_type": "execute_result"
    }
   ],
   "source": [
    "data.head()"
   ]
  },
  {
   "cell_type": "code",
   "execution_count": 23,
   "id": "bacd6a83",
   "metadata": {},
   "outputs": [],
   "source": [
    "# we have to drop one column in order to get rid of dummy column in order to avoid \"dummy variable trap\"\n",
    "transformed_df.drop(2,axis=1,inplace=True)"
   ]
  },
  {
   "cell_type": "code",
   "execution_count": 24,
   "id": "562a1359",
   "metadata": {},
   "outputs": [
    {
     "data": {
      "text/html": [
       "<div>\n",
       "<style scoped>\n",
       "    .dataframe tbody tr th:only-of-type {\n",
       "        vertical-align: middle;\n",
       "    }\n",
       "\n",
       "    .dataframe tbody tr th {\n",
       "        vertical-align: top;\n",
       "    }\n",
       "\n",
       "    .dataframe thead th {\n",
       "        text-align: right;\n",
       "    }\n",
       "</style>\n",
       "<table border=\"1\" class=\"dataframe\">\n",
       "  <thead>\n",
       "    <tr style=\"text-align: right;\">\n",
       "      <th></th>\n",
       "      <th>0</th>\n",
       "      <th>1</th>\n",
       "      <th>3</th>\n",
       "      <th>4</th>\n",
       "      <th>5</th>\n",
       "      <th>6</th>\n",
       "    </tr>\n",
       "  </thead>\n",
       "  <tbody>\n",
       "    <tr>\n",
       "      <th>0</th>\n",
       "      <td>0.0</td>\n",
       "      <td>0.0</td>\n",
       "      <td>165349.20</td>\n",
       "      <td>136897.80</td>\n",
       "      <td>471784.10</td>\n",
       "      <td>192261.83</td>\n",
       "    </tr>\n",
       "    <tr>\n",
       "      <th>1</th>\n",
       "      <td>1.0</td>\n",
       "      <td>0.0</td>\n",
       "      <td>162597.70</td>\n",
       "      <td>151377.59</td>\n",
       "      <td>443898.53</td>\n",
       "      <td>191792.06</td>\n",
       "    </tr>\n",
       "    <tr>\n",
       "      <th>2</th>\n",
       "      <td>0.0</td>\n",
       "      <td>1.0</td>\n",
       "      <td>153441.51</td>\n",
       "      <td>101145.55</td>\n",
       "      <td>407934.54</td>\n",
       "      <td>191050.39</td>\n",
       "    </tr>\n",
       "    <tr>\n",
       "      <th>3</th>\n",
       "      <td>0.0</td>\n",
       "      <td>0.0</td>\n",
       "      <td>144372.41</td>\n",
       "      <td>118671.85</td>\n",
       "      <td>383199.62</td>\n",
       "      <td>182901.99</td>\n",
       "    </tr>\n",
       "    <tr>\n",
       "      <th>4</th>\n",
       "      <td>0.0</td>\n",
       "      <td>1.0</td>\n",
       "      <td>142107.34</td>\n",
       "      <td>91391.77</td>\n",
       "      <td>366168.42</td>\n",
       "      <td>166187.94</td>\n",
       "    </tr>\n",
       "  </tbody>\n",
       "</table>\n",
       "</div>"
      ],
      "text/plain": [
       "     0    1          3          4          5          6\n",
       "0  0.0  0.0  165349.20  136897.80  471784.10  192261.83\n",
       "1  1.0  0.0  162597.70  151377.59  443898.53  191792.06\n",
       "2  0.0  1.0  153441.51  101145.55  407934.54  191050.39\n",
       "3  0.0  0.0  144372.41  118671.85  383199.62  182901.99\n",
       "4  0.0  1.0  142107.34   91391.77  366168.42  166187.94"
      ]
     },
     "execution_count": 24,
     "metadata": {},
     "output_type": "execute_result"
    }
   ],
   "source": [
    "transformed_df.head()"
   ]
  },
  {
   "cell_type": "code",
   "execution_count": 25,
   "id": "75d78e2b",
   "metadata": {},
   "outputs": [],
   "source": [
    "# now we cansplit the data\n",
    "X = transformed_df.drop(6, axis=1)\n",
    "y = transformed_df[6]"
   ]
  },
  {
   "cell_type": "code",
   "execution_count": 26,
   "id": "b2e3070b",
   "metadata": {},
   "outputs": [],
   "source": [
    "# lets split the data into train test data\n",
    "from sklearn.model_selection import train_test_split\n",
    "\n",
    "X_train, X_test, y_train, y_test = train_test_split(X, y, test_size=0.2, random_state=42)"
   ]
  },
  {
   "cell_type": "code",
   "execution_count": 27,
   "id": "af18c5d7",
   "metadata": {},
   "outputs": [
    {
     "data": {
      "text/plain": [
       "(40, 10)"
      ]
     },
     "execution_count": 27,
     "metadata": {},
     "output_type": "execute_result"
    }
   ],
   "source": [
    "len(X_train),len(X_test)"
   ]
  },
  {
   "cell_type": "code",
   "execution_count": 28,
   "id": "f252df7b",
   "metadata": {},
   "outputs": [],
   "source": [
    "# Now we can fit this to a model\n",
    "from sklearn.linear_model import LinearRegression\n",
    "\n",
    "model = LinearRegression()\n",
    "model.fit(X=X_train,y=y_train);"
   ]
  },
  {
   "cell_type": "code",
   "execution_count": 29,
   "id": "65e2c856",
   "metadata": {},
   "outputs": [
    {
     "data": {
      "text/plain": [
       "0.8987266414319358"
      ]
     },
     "execution_count": 29,
     "metadata": {},
     "output_type": "execute_result"
    }
   ],
   "source": [
    "# Now that model is trained we can see how it has done\n",
    "model.score(X_test,y_test)"
   ]
  },
  {
   "cell_type": "code",
   "execution_count": 30,
   "id": "920746d0",
   "metadata": {},
   "outputs": [],
   "source": [
    "# 89% not good but not bad as well\n"
   ]
  },
  {
   "cell_type": "markdown",
   "id": "708b8b07",
   "metadata": {},
   "source": [
    "In __multiple linear regression__ there are ways we can use our independent variables.\n",
    "\n",
    "* All in - Where we use all of the independent variables\n",
    "* Backward elimination - Where we consider \"P value\" s of each attribute and get rid of the once higher than tha significance value\n",
    "* Forward selection\n",
    "* Bidirectional Elimination\n",
    "* Score comparison\n"
   ]
  },
  {
   "cell_type": "markdown",
   "id": "2409129e",
   "metadata": {},
   "source": [
    "## 2. Polynomial Regression\n",
    "\n",
    "This is kind of an linear regression much like simple linear regression and multiple linear regression. Here but there are no multiple independent variables, Only one independent variable. The equation looks like this,\n",
    "\n",
    "`y = b0 + b1.X1 + b2.X1^2 + b3.X3^3 + ... + bn.Xn^n`\n",
    "\n",
    "As you can see we have polynomials of a single independent variable.\n",
    "\n",
    "_**Then how can we say this is a linear model..?**_\n",
    "\n",
    "Well linearity is based on the co-efficients not the variables. Because in reality, __What our model does is calculate those coefficients so that it can give a accurate prediction__. Coeffiecients are the real unknowns that model has to decide, Since they are all linear, these models are called linear models"
   ]
  },
  {
   "cell_type": "markdown",
   "id": "0be708ab",
   "metadata": {},
   "source": [
    "> So in the following Models we will be discussing a problem where an employing is demanding a 160,000 Salary saying he got that much from his previous job. With the info we have we have to predict whether he is telling the truth, his level is 6.5."
   ]
  },
  {
   "cell_type": "code",
   "execution_count": 31,
   "id": "cf07b077",
   "metadata": {},
   "outputs": [],
   "source": [
    "# Lets import the main modules\n",
    "%matplotlib inline\n",
    "import numpy as np\n",
    "import pandas as pd\n",
    "import matplotlib.pyplot as plt\n",
    "\n",
    "# Setting a global random seed just incase\n",
    "np.random.seed(42)"
   ]
  },
  {
   "cell_type": "code",
   "execution_count": 32,
   "id": "0b4ffc63",
   "metadata": {},
   "outputs": [
    {
     "data": {
      "text/html": [
       "<div>\n",
       "<style scoped>\n",
       "    .dataframe tbody tr th:only-of-type {\n",
       "        vertical-align: middle;\n",
       "    }\n",
       "\n",
       "    .dataframe tbody tr th {\n",
       "        vertical-align: top;\n",
       "    }\n",
       "\n",
       "    .dataframe thead th {\n",
       "        text-align: right;\n",
       "    }\n",
       "</style>\n",
       "<table border=\"1\" class=\"dataframe\">\n",
       "  <thead>\n",
       "    <tr style=\"text-align: right;\">\n",
       "      <th></th>\n",
       "      <th>Position</th>\n",
       "      <th>Level</th>\n",
       "      <th>Salary</th>\n",
       "    </tr>\n",
       "  </thead>\n",
       "  <tbody>\n",
       "    <tr>\n",
       "      <th>0</th>\n",
       "      <td>Business Analyst</td>\n",
       "      <td>1</td>\n",
       "      <td>45000</td>\n",
       "    </tr>\n",
       "    <tr>\n",
       "      <th>1</th>\n",
       "      <td>Junior Consultant</td>\n",
       "      <td>2</td>\n",
       "      <td>50000</td>\n",
       "    </tr>\n",
       "    <tr>\n",
       "      <th>2</th>\n",
       "      <td>Senior Consultant</td>\n",
       "      <td>3</td>\n",
       "      <td>60000</td>\n",
       "    </tr>\n",
       "    <tr>\n",
       "      <th>3</th>\n",
       "      <td>Manager</td>\n",
       "      <td>4</td>\n",
       "      <td>80000</td>\n",
       "    </tr>\n",
       "    <tr>\n",
       "      <th>4</th>\n",
       "      <td>Country Manager</td>\n",
       "      <td>5</td>\n",
       "      <td>110000</td>\n",
       "    </tr>\n",
       "    <tr>\n",
       "      <th>5</th>\n",
       "      <td>Region Manager</td>\n",
       "      <td>6</td>\n",
       "      <td>150000</td>\n",
       "    </tr>\n",
       "    <tr>\n",
       "      <th>6</th>\n",
       "      <td>Partner</td>\n",
       "      <td>7</td>\n",
       "      <td>200000</td>\n",
       "    </tr>\n",
       "    <tr>\n",
       "      <th>7</th>\n",
       "      <td>Senior Partner</td>\n",
       "      <td>8</td>\n",
       "      <td>300000</td>\n",
       "    </tr>\n",
       "    <tr>\n",
       "      <th>8</th>\n",
       "      <td>C-level</td>\n",
       "      <td>9</td>\n",
       "      <td>500000</td>\n",
       "    </tr>\n",
       "    <tr>\n",
       "      <th>9</th>\n",
       "      <td>CEO</td>\n",
       "      <td>10</td>\n",
       "      <td>1000000</td>\n",
       "    </tr>\n",
       "  </tbody>\n",
       "</table>\n",
       "</div>"
      ],
      "text/plain": [
       "            Position  Level   Salary\n",
       "0   Business Analyst      1    45000\n",
       "1  Junior Consultant      2    50000\n",
       "2  Senior Consultant      3    60000\n",
       "3            Manager      4    80000\n",
       "4    Country Manager      5   110000\n",
       "5     Region Manager      6   150000\n",
       "6            Partner      7   200000\n",
       "7     Senior Partner      8   300000\n",
       "8            C-level      9   500000\n",
       "9                CEO     10  1000000"
      ]
     },
     "execution_count": 32,
     "metadata": {},
     "output_type": "execute_result"
    }
   ],
   "source": [
    "# lets preprocess the data\n",
    "\n",
    "# import the dataset\n",
    "data = pd.read_csv('data/Polynomial Regression/Position_Salaries.csv')\n",
    "data"
   ]
  },
  {
   "cell_type": "code",
   "execution_count": 33,
   "id": "6786e5ac",
   "metadata": {},
   "outputs": [
    {
     "name": "stdout",
     "output_type": "stream",
     "text": [
      "<class 'pandas.core.frame.DataFrame'>\n",
      "RangeIndex: 10 entries, 0 to 9\n",
      "Data columns (total 3 columns):\n",
      " #   Column    Non-Null Count  Dtype \n",
      "---  ------    --------------  ----- \n",
      " 0   Position  10 non-null     object\n",
      " 1   Level     10 non-null     int64 \n",
      " 2   Salary    10 non-null     int64 \n",
      "dtypes: int64(2), object(1)\n",
      "memory usage: 368.0+ bytes\n"
     ]
    }
   ],
   "source": [
    "data.info()"
   ]
  },
  {
   "cell_type": "code",
   "execution_count": 34,
   "id": "b79c66d4",
   "metadata": {},
   "outputs": [
    {
     "data": {
      "text/plain": [
       "array([[  1.,   1.,   1.],\n",
       "       [  1.,   2.,   4.],\n",
       "       [  1.,   3.,   9.],\n",
       "       [  1.,   4.,  16.],\n",
       "       [  1.,   5.,  25.],\n",
       "       [  1.,   6.,  36.],\n",
       "       [  1.,   7.,  49.],\n",
       "       [  1.,   8.,  64.],\n",
       "       [  1.,   9.,  81.],\n",
       "       [  1.,  10., 100.]])"
      ]
     },
     "execution_count": 34,
     "metadata": {},
     "output_type": "execute_result"
    }
   ],
   "source": [
    "# no need for check for missing values and \n",
    "# there is one non-numeric column but its okay we will not be using it\n",
    "\n",
    "# split the data into features and target\n",
    "X = data.drop(labels=['Position', 'Salary'], axis=1)\n",
    "y = data['Salary']\n",
    "\n",
    "# Theres  no need to split the data since there are only 10 entries\n",
    "\n",
    "# lets create the polynomial features\n",
    "from sklearn.preprocessing import PolynomialFeatures\n",
    "\n",
    "X_pol = PolynomialFeatures(degree=2).fit_transform(X=X)\n",
    "X_pol"
   ]
  },
  {
   "cell_type": "code",
   "execution_count": 35,
   "id": "66e18e34",
   "metadata": {},
   "outputs": [],
   "source": [
    "# lets Import the models\n",
    "\n",
    "# NOTE: There is no special polynomial regression model only the linear regression model the diffrence is the input we give it as X\n",
    "\n",
    "from sklearn.linear_model import LinearRegression\n",
    "\n",
    "# lets make two models one simple linear and other polynomial linear just compare\n",
    "linear_model = LinearRegression()\n",
    "\n",
    "linear_model.fit(X,y)\n",
    "y_pred = linear_model.predict(X)"
   ]
  },
  {
   "cell_type": "code",
   "execution_count": 55,
   "id": "375a74bb",
   "metadata": {
    "scrolled": false
   },
   "outputs": [
    {
     "data": {
      "image/png": "[encoded data removed]",
      "text/plain": [
       "<Figure size 720x432 with 1 Axes>"
      ]
     },
     "metadata": {
      "needs_background": "light"
     },
     "output_type": "display_data"
    }
   ],
   "source": [
    "# lets try to plot this\n",
    "fig,ax = plt.subplots(figsize=(10,6))\n",
    "ax.ticklabel_format(style='plain')\n",
    "ax.scatter(data['Level'],data['Salary'],label=\"Actual Values\")\n",
    "ax.set_title('Level VS Salaries')\n",
    "ax.set_xlabel('Level')\n",
    "ax.set_ylabel('Salary')\n",
    "ax.legend();"
   ]
  },
  {
   "cell_type": "code",
   "execution_count": 37,
   "id": "a70139d2",
   "metadata": {},
   "outputs": [],
   "source": [
    "# You can see linear regression is way off\n",
    "\n",
    "# Polynomial model\n",
    "poly_model =LinearRegression()\n",
    "\n",
    "poly_model.fit(X_pol,y)\n",
    "\n",
    "y_pred_poly = poly_model.predict(X_pol)"
   ]
  },
  {
   "cell_type": "code",
   "execution_count": 54,
   "id": "87b55145",
   "metadata": {},
   "outputs": [
    {
     "data": {
      "image/png": "[encoded data removed]",
      "text/plain": [
       "<Figure size 720x432 with 1 Axes>"
      ]
     },
     "metadata": {
      "needs_background": "light"
     },
     "output_type": "display_data"
    }
   ],
   "source": [
    "# lets try to plot this\n",
    "fig,ax = plt.subplots(figsize=(10,6))\n",
    "ax.ticklabel_format(style='plain')\n",
    "ax.scatter(data['Level'],data['Salary'],label=\"Actual Values\")\n",
    "ax.plot(data['Level'],y_pred, color='red', label=\"Linear Regression\")\n",
    "ax.plot(data['Level'],y_pred_poly, color='orange', label=\"Polynomial Regression\")\n",
    "ax.set_title('Level VS Salaries')\n",
    "ax.set_xlabel('Level')\n",
    "ax.set_ylabel('Salary')\n",
    "ax.legend();"
   ]
  },
  {
   "cell_type": "code",
   "execution_count": 39,
   "id": "ca6e6dbd",
   "metadata": {},
   "outputs": [],
   "source": [
    "# however you can see that now that polynomial regression line fit the data points with less errors that the linear one\n",
    "# we can make this more fit by increasing the degree"
   ]
  },
  {
   "cell_type": "code",
   "execution_count": 53,
   "id": "ad7e9f28",
   "metadata": {},
   "outputs": [
    {
     "data": {
      "image/png": "[encoded data removed]",
      "text/plain": [
       "<Figure size 720x432 with 1 Axes>"
      ]
     },
     "metadata": {
      "needs_background": "light"
     },
     "output_type": "display_data"
    }
   ],
   "source": [
    "# lets create the polynomial features\n",
    "from sklearn.preprocessing import PolynomialFeatures\n",
    "\n",
    "X_pol_2 = PolynomialFeatures(degree=4).fit_transform(X=X)\n",
    "X_pol_2\n",
    "\n",
    "# Polynomial model\n",
    "poly_model_2 =LinearRegression()\n",
    "\n",
    "poly_model_2.fit(X_pol_2,y)\n",
    "\n",
    "y_pred_poly_2 = poly_model_2.predict(X_pol_2)\n",
    "\n",
    "# lets try to plot this\n",
    "fig,ax = plt.subplots(figsize=(10,6))\n",
    "ax.ticklabel_format(style='plain')\n",
    "ax.scatter(data['Level'],data['Salary'],label=\"Actual Values\")\n",
    "ax.plot(data['Level'],y_pred, color='red', label=\"Linear Regression\")\n",
    "ax.plot(data['Level'],y_pred_poly, color='orange', label=\"Polynomial Regression\")\n",
    "ax.plot(data['Level'],y_pred_poly_2, color='purple', label=\"Polynomial Regression\")\n",
    "ax.set_title('Level VS Salaries')\n",
    "ax.set_xlabel('Level')\n",
    "ax.set_ylabel('Salary')\n",
    "ax.legend();"
   ]
  },
  {
   "cell_type": "code",
   "execution_count": 41,
   "id": "f29b19d1",
   "metadata": {},
   "outputs": [
    {
     "name": "stderr",
     "output_type": "stream",
     "text": [
      "D:\\Learn And Projects\\ML Learn Projects\\dummy_project\\env\\lib\\site-packages\\sklearn\\base.py:450: UserWarning: X does not have valid feature names, but LinearRegression was fitted with feature names\n",
      "  warnings.warn(\n"
     ]
    },
    {
     "data": {
      "text/plain": [
       "(array([330378.78787879]), array([189498.10606061]), array([158862.45265153]))"
      ]
     },
     "execution_count": 41,
     "metadata": {},
     "output_type": "execute_result"
    }
   ],
   "source": [
    "# 6.5 predictions\n",
    "predict_level = np.array([6.5]).reshape(1,1)\n",
    "pred_1 = linear_model.predict([[6.5]])\n",
    "\n",
    "pred_2 = poly_model.predict(PolynomialFeatures(degree=2).fit_transform(X=predict_level))\n",
    "pred_3 = poly_model_2.predict(PolynomialFeatures(degree=4).fit_transform(X=predict_level))\n",
    "\n",
    "pred_1, pred_2, pred_3"
   ]
  },
  {
   "cell_type": "markdown",
   "id": "189f60a4",
   "metadata": {},
   "source": [
    "## 4. SVR (Support Vector Regression)"
   ]
  },
  {
   "cell_type": "code",
   "execution_count": 42,
   "id": "53824a63",
   "metadata": {},
   "outputs": [],
   "source": [
    "# Lets import the main modules\n",
    "%matplotlib inline\n",
    "import numpy as np\n",
    "import pandas as pd\n",
    "import matplotlib.pyplot as plt\n",
    "\n",
    "# Setting a global random seed just incase\n",
    "np.random.seed(42)"
   ]
  },
  {
   "cell_type": "code",
   "execution_count": 43,
   "id": "624b7ed6",
   "metadata": {},
   "outputs": [
    {
     "data": {
      "text/html": [
       "<div>\n",
       "<style scoped>\n",
       "    .dataframe tbody tr th:only-of-type {\n",
       "        vertical-align: middle;\n",
       "    }\n",
       "\n",
       "    .dataframe tbody tr th {\n",
       "        vertical-align: top;\n",
       "    }\n",
       "\n",
       "    .dataframe thead th {\n",
       "        text-align: right;\n",
       "    }\n",
       "</style>\n",
       "<table border=\"1\" class=\"dataframe\">\n",
       "  <thead>\n",
       "    <tr style=\"text-align: right;\">\n",
       "      <th></th>\n",
       "      <th>Position</th>\n",
       "      <th>Level</th>\n",
       "      <th>Salary</th>\n",
       "    </tr>\n",
       "  </thead>\n",
       "  <tbody>\n",
       "    <tr>\n",
       "      <th>0</th>\n",
       "      <td>Business Analyst</td>\n",
       "      <td>1</td>\n",
       "      <td>45000</td>\n",
       "    </tr>\n",
       "    <tr>\n",
       "      <th>1</th>\n",
       "      <td>Junior Consultant</td>\n",
       "      <td>2</td>\n",
       "      <td>50000</td>\n",
       "    </tr>\n",
       "    <tr>\n",
       "      <th>2</th>\n",
       "      <td>Senior Consultant</td>\n",
       "      <td>3</td>\n",
       "      <td>60000</td>\n",
       "    </tr>\n",
       "    <tr>\n",
       "      <th>3</th>\n",
       "      <td>Manager</td>\n",
       "      <td>4</td>\n",
       "      <td>80000</td>\n",
       "    </tr>\n",
       "    <tr>\n",
       "      <th>4</th>\n",
       "      <td>Country Manager</td>\n",
       "      <td>5</td>\n",
       "      <td>110000</td>\n",
       "    </tr>\n",
       "    <tr>\n",
       "      <th>5</th>\n",
       "      <td>Region Manager</td>\n",
       "      <td>6</td>\n",
       "      <td>150000</td>\n",
       "    </tr>\n",
       "    <tr>\n",
       "      <th>6</th>\n",
       "      <td>Partner</td>\n",
       "      <td>7</td>\n",
       "      <td>200000</td>\n",
       "    </tr>\n",
       "    <tr>\n",
       "      <th>7</th>\n",
       "      <td>Senior Partner</td>\n",
       "      <td>8</td>\n",
       "      <td>300000</td>\n",
       "    </tr>\n",
       "    <tr>\n",
       "      <th>8</th>\n",
       "      <td>C-level</td>\n",
       "      <td>9</td>\n",
       "      <td>500000</td>\n",
       "    </tr>\n",
       "    <tr>\n",
       "      <th>9</th>\n",
       "      <td>CEO</td>\n",
       "      <td>10</td>\n",
       "      <td>1000000</td>\n",
       "    </tr>\n",
       "  </tbody>\n",
       "</table>\n",
       "</div>"
      ],
      "text/plain": [
       "            Position  Level   Salary\n",
       "0   Business Analyst      1    45000\n",
       "1  Junior Consultant      2    50000\n",
       "2  Senior Consultant      3    60000\n",
       "3            Manager      4    80000\n",
       "4    Country Manager      5   110000\n",
       "5     Region Manager      6   150000\n",
       "6            Partner      7   200000\n",
       "7     Senior Partner      8   300000\n",
       "8            C-level      9   500000\n",
       "9                CEO     10  1000000"
      ]
     },
     "execution_count": 43,
     "metadata": {},
     "output_type": "execute_result"
    }
   ],
   "source": [
    "# lets preprocess the data\n",
    "\n",
    "# import the dataset\n",
    "data = pd.read_csv('data/Polynomial Regression/Position_Salaries.csv')\n",
    "data"
   ]
  },
  {
   "cell_type": "code",
   "execution_count": 44,
   "id": "abb7b380",
   "metadata": {},
   "outputs": [
    {
     "name": "stdout",
     "output_type": "stream",
     "text": [
      "<class 'pandas.core.frame.DataFrame'>\n",
      "RangeIndex: 10 entries, 0 to 9\n",
      "Data columns (total 3 columns):\n",
      " #   Column    Non-Null Count  Dtype \n",
      "---  ------    --------------  ----- \n",
      " 0   Position  10 non-null     object\n",
      " 1   Level     10 non-null     int64 \n",
      " 2   Salary    10 non-null     int64 \n",
      "dtypes: int64(2), object(1)\n",
      "memory usage: 368.0+ bytes\n"
     ]
    }
   ],
   "source": [
    "data.info()"
   ]
  },
  {
   "cell_type": "code",
   "execution_count": 143,
   "id": "3693c8ae",
   "metadata": {},
   "outputs": [],
   "source": [
    "# no need for check for missing values and \n",
    "# there is one non-numeric column but its okay we will not be using it\n",
    "\n",
    "# split the data into features and target\n",
    "X = data.drop(labels=['Position', 'Salary'], axis=1)\n",
    "y = data['Salary']\n",
    "\n",
    "# Theres  no need to split the data since there are only 10 entries"
   ]
  },
  {
   "cell_type": "code",
   "execution_count": 144,
   "id": "dbab45c7",
   "metadata": {},
   "outputs": [
    {
     "ename": "SyntaxError",
     "evalue": "invalid syntax (2076653242.py, line 5)",
     "output_type": "error",
     "traceback": [
      "\u001b[1;36m  Input \u001b[1;32mIn [144]\u001b[1;36m\u001b[0m\n\u001b[1;33m    model = SVR(kernel=)\u001b[0m\n\u001b[1;37m                       ^\u001b[0m\n\u001b[1;31mSyntaxError\u001b[0m\u001b[1;31m:\u001b[0m invalid syntax\n"
     ]
    }
   ],
   "source": [
    "# Lets import the models\n",
    "from sklearn.svm import SVR\n",
    "\n",
    "# let create a SVR model\n",
    "model = SVR(kernel=)\n",
    "\n",
    "model.fit(X,y)\n",
    "y_pred = model.predict(X)"
   ]
  },
  {
   "cell_type": "code",
   "execution_count": 145,
   "id": "2483368a",
   "metadata": {},
   "outputs": [
    {
     "data": {
      "image/png": "[encoded data removed]",
      "text/plain": [
       "<Figure size 720x432 with 1 Axes>"
      ]
     },
     "metadata": {
      "needs_background": "light"
     },
     "output_type": "display_data"
    }
   ],
   "source": [
    "# lets try to plot this\n",
    "fig,ax = plt.subplots(figsize=(10,6))\n",
    "ax.ticklabel_format(style='plain')\n",
    "ax.scatter(data['Level'],data['Salary'],label=\"Actual Values\")\n",
    "ax.plot(data['Level'],y_pred, color='red', label=\"SVR\")\n",
    "#ax.plot(data['Level'],y_pred_poly, color='orange', label=\"Polynomial Regression\")\n",
    "ax.set_title('Level VS Salaries')\n",
    "ax.set_xlabel('Level')\n",
    "ax.set_ylabel('Salary')\n",
    "ax.legend();"
   ]
  },
  {
   "cell_type": "code",
   "execution_count": 177,
   "id": "3929fe00",
   "metadata": {},
   "outputs": [
    {
     "data": {
      "text/plain": [
       "(array([[  45000],\n",
       "        [  50000],\n",
       "        [  60000],\n",
       "        [  80000],\n",
       "        [ 110000],\n",
       "        [ 150000],\n",
       "        [ 200000],\n",
       "        [ 300000],\n",
       "        [ 500000],\n",
       "        [1000000]], dtype=int64),\n",
       " (10,))"
      ]
     },
     "execution_count": 177,
     "metadata": {},
     "output_type": "execute_result"
    }
   ],
   "source": [
    "np.reshape(np.array(y),(10,1)), y.shape"
   ]
  },
  {
   "cell_type": "code",
   "execution_count": 162,
   "id": "4fa23e25",
   "metadata": {},
   "outputs": [],
   "source": [
    "# this happen because we did not do feature scaling\n",
    "# since this is not common it did not include feature scaling\n",
    "\n",
    "# feature scaling\n",
    "from sklearn.preprocessing import StandardScaler\n",
    "\n",
    "scaler_X = StandardScaler()\n",
    "scaler_y = StandardScaler()\n",
    "\n",
    "X_scale = scaler_X.fit_transform(X)\n",
    "y_scale = scaler_y.fit_transform(np.reshape(np.array(y),(10,1)))\n"
   ]
  },
  {
   "cell_type": "code",
   "execution_count": 163,
   "id": "205fba89",
   "metadata": {},
   "outputs": [
    {
     "data": {
      "text/plain": [
       "(array([[-1.5666989 ],\n",
       "        [-1.21854359],\n",
       "        [-0.87038828],\n",
       "        [-0.52223297],\n",
       "        [-0.17407766],\n",
       "        [ 0.17407766],\n",
       "        [ 0.52223297],\n",
       "        [ 0.87038828],\n",
       "        [ 1.21854359],\n",
       "        [ 1.5666989 ]]),\n",
       " (10, 1),\n",
       " numpy.ndarray)"
      ]
     },
     "execution_count": 163,
     "metadata": {},
     "output_type": "execute_result"
    }
   ],
   "source": [
    "X_scale, X_scale.shape, type(X_scale)"
   ]
  },
  {
   "cell_type": "code",
   "execution_count": 164,
   "id": "82868375",
   "metadata": {},
   "outputs": [
    {
     "data": {
      "text/plain": [
       "(array([[-0.72004253],\n",
       "        [-0.70243757],\n",
       "        [-0.66722767],\n",
       "        [-0.59680786],\n",
       "        [-0.49117815],\n",
       "        [-0.35033854],\n",
       "        [-0.17428902],\n",
       "        [ 0.17781001],\n",
       "        [ 0.88200808],\n",
       "        [ 2.64250325]]),\n",
       " (10, 1),\n",
       " numpy.ndarray)"
      ]
     },
     "execution_count": 164,
     "metadata": {},
     "output_type": "execute_result"
    }
   ],
   "source": [
    "y_scale, y_scale.shape, type(y_scale)"
   ]
  },
  {
   "cell_type": "code",
   "execution_count": 165,
   "id": "601204b7",
   "metadata": {},
   "outputs": [],
   "source": [
    "# Since the models expect 1D array for y we have to reshape y\n",
    "y_scale = np.reshape(y_scale, (10,))"
   ]
  },
  {
   "cell_type": "code",
   "execution_count": 166,
   "id": "d3bce2e7",
   "metadata": {},
   "outputs": [
    {
     "data": {
      "text/plain": [
       "array([-0.6197853 , -0.62924694, -0.56788994, -0.49732233, -0.44690338,\n",
       "       -0.36617206, -0.14115569,  0.28557658,  0.78226531,  1.08559794])"
      ]
     },
     "execution_count": 166,
     "metadata": {},
     "output_type": "execute_result"
    }
   ],
   "source": [
    "# lets make SVR Model with scaled values\n",
    "model = SVR()\n",
    "\n",
    "model.fit(X_scale,y_scale)\n",
    "y_pred = model.predict(X_scale)\n",
    "y_pred"
   ]
  },
  {
   "cell_type": "code",
   "execution_count": 174,
   "id": "cb42ff6c",
   "metadata": {},
   "outputs": [
    {
     "data": {
      "image/png": "[encoded data removed]",
      "text/plain": [
       "<Figure size 720x432 with 1 Axes>"
      ]
     },
     "metadata": {
      "needs_background": "light"
     },
     "output_type": "display_data"
    }
   ],
   "source": [
    "# lets try to plot this\n",
    "fig,ax = plt.subplots(figsize=(10,6))\n",
    "ax.ticklabel_format(style='plain')\n",
    "ax.scatter(X_scale,y_scale,label=\"Actual Values\")\n",
    "ax.plot(X_scale,y_pred, color='red', label=\"SVR\")\n",
    "#ax.plot(data['Level'],y_pred_poly, color='orange', label=\"Polynomial Regression\")\n",
    "ax.set_title('Level VS Salaries')\n",
    "ax.set_xlabel('Level')\n",
    "ax.set_ylabel('Salary')\n",
    "ax.legend();"
   ]
  },
  {
   "cell_type": "code",
   "execution_count": 175,
   "id": "d2c42b22",
   "metadata": {},
   "outputs": [
    {
     "data": {
      "text/plain": [
       "((1,), numpy.ndarray)"
      ]
     },
     "execution_count": 175,
     "metadata": {},
     "output_type": "execute_result"
    }
   ],
   "source": [
    "# now lets predict the value of 6.5\n",
    "# first we have to scale this\n",
    "# Since scaler is expecting a 2D array we have to reshape it to have one cell\n",
    "\n",
    "scaled_pred = model.predict(scaler_X.fit_transform([[6.5]]))\n",
    "scaled_pred.shape, type(scaled_pred)"
   ]
  },
  {
   "cell_type": "code",
   "execution_count": 181,
   "id": "f5b436c0",
   "metadata": {},
   "outputs": [
    {
     "data": {
      "text/plain": [
       "array([[131106.77303274]])"
      ]
     },
     "execution_count": 181,
     "metadata": {},
     "output_type": "execute_result"
    }
   ],
   "source": [
    "# since we get a scaled version of the value we have to inverse scale it to real value using y_scaler\n",
    "scaler_y.inverse_transform(np.reshape(scaled_pred,(1,1)))"
   ]
  },
  {
   "cell_type": "code",
   "execution_count": 171,
   "id": "7d5f4d57",
   "metadata": {},
   "outputs": [
    {
     "data": {
      "text/plain": [
       "[<matplotlib.lines.Line2D at 0x265706fc6a0>,\n",
       " <matplotlib.lines.Line2D at 0x265706fc760>]"
      ]
     },
     "execution_count": 171,
     "metadata": {},
     "output_type": "execute_result"
    },
    {
     "data": {
      "image/png": "[encoded data removed]",
      "text/plain": [
       "<Figure size 432x288 with 1 Axes>"
      ]
     },
     "metadata": {
      "needs_background": "light"
     },
     "output_type": "display_data"
    }
   ],
   "source": [
    "# This is for the X confusion\n",
    "# When a something is passed that isn not shape of vector(1,10)/(10,)\n",
    "# What mat plot lib does is look at each column seperately as verctors\n",
    "\n",
    "x = [1,2,3]\n",
    "z = [[1,2],[2,3],[3,4]]\n",
    "\n",
    "plt.plot(x,z)"
   ]
  },
  {
   "cell_type": "code",
   "execution_count": 172,
   "id": "71551fd3",
   "metadata": {},
   "outputs": [
    {
     "data": {
      "text/plain": [
       "(3, 2)"
      ]
     },
     "execution_count": 172,
     "metadata": {},
     "output_type": "execute_result"
    }
   ],
   "source": [
    "x = np.array([[1,2],[2,3],[3,4]])\n",
    "x.shape"
   ]
  },
  {
   "cell_type": "code",
   "execution_count": 173,
   "id": "8a62d180",
   "metadata": {},
   "outputs": [
    {
     "data": {
      "text/plain": [
       "[<matplotlib.lines.Line2D at 0x265707602b0>,\n",
       " <matplotlib.lines.Line2D at 0x26570760370>]"
      ]
     },
     "execution_count": 173,
     "metadata": {},
     "output_type": "execute_result"
    },
    {
     "data": {
      "image/png": "[encoded data removed]",
      "text/plain": [
       "<Figure size 432x288 with 1 Axes>"
      ]
     },
     "metadata": {
      "needs_background": "light"
     },
     "output_type": "display_data"
    }
   ],
   "source": [
    "x = [[1,2],[2,3],[3,4]]\n",
    "z = [1,2,3]\n",
    "\n",
    "plt.plot(x,z)"
   ]
  },
  {
   "cell_type": "markdown",
   "id": "22fe2fdb",
   "metadata": {},
   "source": [
    "## 5. Decision Tree Regression\n",
    "\n",
    "There are mainly two type of Decision Trees,\n",
    "\n",
    "* Classification Trees\n",
    "* Regression Trees\n",
    "\n",
    "Let's consider a scenario where there are two independent variables (X1,X2) and one independent variable y. If we conside 3D plane(x,y,z) y is like the z.\n",
    "\n",
    "<img alt=\"working of regression tree\" src=\"./images/regression_tree_workings.png\"/>"
   ]
  },
  {
   "cell_type": "markdown",
   "id": "cdf8f9f3",
   "metadata": {},
   "source": [
    "So the decision tree is build like in the above image, so the regions are devided using entropy. and the values are decided using the `mean` or some thing that user defined. and that value means that if a new point enter that region it has a higher likely hood of having that value."
   ]
  },
  {
   "cell_type": "code",
   "execution_count": 182,
   "id": "f820f8ec",
   "metadata": {},
   "outputs": [],
   "source": [
    "# lets implement the decision tree\n",
    "# import the libraries\n",
    "%matplotlib inline\n",
    "import numpy as np\n",
    "import pandas as pd\n",
    "import matplotlib.pyplot as plt"
   ]
  },
  {
   "cell_type": "code",
   "execution_count": 184,
   "id": "f6ee886c",
   "metadata": {},
   "outputs": [
    {
     "data": {
      "text/html": [
       "<div>\n",
       "<style scoped>\n",
       "    .dataframe tbody tr th:only-of-type {\n",
       "        vertical-align: middle;\n",
       "    }\n",
       "\n",
       "    .dataframe tbody tr th {\n",
       "        vertical-align: top;\n",
       "    }\n",
       "\n",
       "    .dataframe thead th {\n",
       "        text-align: right;\n",
       "    }\n",
       "</style>\n",
       "<table border=\"1\" class=\"dataframe\">\n",
       "  <thead>\n",
       "    <tr style=\"text-align: right;\">\n",
       "      <th></th>\n",
       "      <th>Position</th>\n",
       "      <th>Level</th>\n",
       "      <th>Salary</th>\n",
       "    </tr>\n",
       "  </thead>\n",
       "  <tbody>\n",
       "    <tr>\n",
       "      <th>0</th>\n",
       "      <td>Business Analyst</td>\n",
       "      <td>1</td>\n",
       "      <td>45000</td>\n",
       "    </tr>\n",
       "    <tr>\n",
       "      <th>1</th>\n",
       "      <td>Junior Consultant</td>\n",
       "      <td>2</td>\n",
       "      <td>50000</td>\n",
       "    </tr>\n",
       "    <tr>\n",
       "      <th>2</th>\n",
       "      <td>Senior Consultant</td>\n",
       "      <td>3</td>\n",
       "      <td>60000</td>\n",
       "    </tr>\n",
       "    <tr>\n",
       "      <th>3</th>\n",
       "      <td>Manager</td>\n",
       "      <td>4</td>\n",
       "      <td>80000</td>\n",
       "    </tr>\n",
       "    <tr>\n",
       "      <th>4</th>\n",
       "      <td>Country Manager</td>\n",
       "      <td>5</td>\n",
       "      <td>110000</td>\n",
       "    </tr>\n",
       "    <tr>\n",
       "      <th>5</th>\n",
       "      <td>Region Manager</td>\n",
       "      <td>6</td>\n",
       "      <td>150000</td>\n",
       "    </tr>\n",
       "    <tr>\n",
       "      <th>6</th>\n",
       "      <td>Partner</td>\n",
       "      <td>7</td>\n",
       "      <td>200000</td>\n",
       "    </tr>\n",
       "    <tr>\n",
       "      <th>7</th>\n",
       "      <td>Senior Partner</td>\n",
       "      <td>8</td>\n",
       "      <td>300000</td>\n",
       "    </tr>\n",
       "    <tr>\n",
       "      <th>8</th>\n",
       "      <td>C-level</td>\n",
       "      <td>9</td>\n",
       "      <td>500000</td>\n",
       "    </tr>\n",
       "    <tr>\n",
       "      <th>9</th>\n",
       "      <td>CEO</td>\n",
       "      <td>10</td>\n",
       "      <td>1000000</td>\n",
       "    </tr>\n",
       "  </tbody>\n",
       "</table>\n",
       "</div>"
      ],
      "text/plain": [
       "            Position  Level   Salary\n",
       "0   Business Analyst      1    45000\n",
       "1  Junior Consultant      2    50000\n",
       "2  Senior Consultant      3    60000\n",
       "3            Manager      4    80000\n",
       "4    Country Manager      5   110000\n",
       "5     Region Manager      6   150000\n",
       "6            Partner      7   200000\n",
       "7     Senior Partner      8   300000\n",
       "8            C-level      9   500000\n",
       "9                CEO     10  1000000"
      ]
     },
     "execution_count": 184,
     "metadata": {},
     "output_type": "execute_result"
    }
   ],
   "source": [
    "# Data preprocessing\n",
    "data = pd.read_csv('data/Decision Tree Regression/Position_Salaries.csv')\n",
    "data"
   ]
  },
  {
   "cell_type": "code",
   "execution_count": 189,
   "id": "fa0fa9f8",
   "metadata": {},
   "outputs": [
    {
     "data": {
      "text/plain": [
       "(10, 1)"
      ]
     },
     "execution_count": 189,
     "metadata": {},
     "output_type": "execute_result"
    }
   ],
   "source": [
    "# Split Data\n",
    "X = data.iloc[:,1:2]\n",
    "X.shape"
   ]
  },
  {
   "cell_type": "code",
   "execution_count": 191,
   "id": "64a86fd4",
   "metadata": {},
   "outputs": [
    {
     "data": {
      "text/plain": [
       "(10,)"
      ]
     },
     "execution_count": 191,
     "metadata": {},
     "output_type": "execute_result"
    }
   ],
   "source": [
    "y = data.iloc[:,-1]\n",
    "y.shape"
   ]
  },
  {
   "cell_type": "code",
   "execution_count": 196,
   "id": "b3e4e291",
   "metadata": {},
   "outputs": [],
   "source": [
    "# dont need to split the data to train and test since there only 10 data\n",
    "\n",
    "# lets import the model\n",
    "from sklearn.tree import DecisionTreeRegressor\n",
    "\n",
    "model = DecisionTreeRegressor()\n",
    "\n",
    "model.fit(X,y);\n",
    "\n",
    "y_pred = model.predict(X)"
   ]
  },
  {
   "cell_type": "code",
   "execution_count": 197,
   "id": "6cc7f8bd",
   "metadata": {},
   "outputs": [
    {
     "data": {
      "text/plain": [
       "1.0"
      ]
     },
     "execution_count": 197,
     "metadata": {},
     "output_type": "execute_result"
    }
   ],
   "source": [
    "# lets get the score\n",
    "model.score(X,y)"
   ]
  },
  {
   "cell_type": "code",
   "execution_count": 199,
   "id": "c43d056a",
   "metadata": {},
   "outputs": [
    {
     "data": {
      "image/png": "[encoded data removed]",
      "text/plain": [
       "<Figure size 720x432 with 1 Axes>"
      ]
     },
     "metadata": {
      "needs_background": "light"
     },
     "output_type": "display_data"
    }
   ],
   "source": [
    "# has a perfect score that's a red flag lets see visually what has happened\n",
    "\n",
    "# lets try to plot this\n",
    "fig,ax = plt.subplots(figsize=(10,6))\n",
    "ax.ticklabel_format(style='plain')\n",
    "ax.scatter(X,y,label=\"Actual Values\")\n",
    "ax.plot(X,y_pred, color='red', label=\"Regression Tree\")\n",
    "ax.set_title('Level VS Salaries')\n",
    "ax.set_xlabel('Level')\n",
    "ax.set_ylabel('Salary')\n",
    "ax.legend();"
   ]
  },
  {
   "cell_type": "code",
   "execution_count": 244,
   "id": "cc8dab13",
   "metadata": {
    "scrolled": false
   },
   "outputs": [
    {
     "name": "stderr",
     "output_type": "stream",
     "text": [
      "D:\\Learn And Projects\\ML Learn Projects\\dummy_project\\env\\lib\\site-packages\\sklearn\\base.py:450: UserWarning: X does not have valid feature names, but DecisionTreeRegressor was fitted with feature names\n",
      "  warnings.warn(\n"
     ]
    },
    {
     "data": {
      "image/png": "[encoded data removed]",
      "text/plain": [
       "<Figure size 720x432 with 1 Axes>"
      ]
     },
     "metadata": {
      "needs_background": "light"
     },
     "output_type": "display_data"
    }
   ],
   "source": [
    "# Now lets see how can this be\n",
    "# this cant be happening because, Sinece only this 1D decision tree split the Level axis into regions and get mean values for those regions\n",
    "# if thats the case for each region we should have seperate horzontal lines as steps\n",
    "# So what has happen here is that since we plot distict levels plot function connect thosemean values\n",
    "# this can be avoided if we use continuos range for labels\n",
    "\n",
    "new_X = np.arange(X['Level'].min(),X['Level'].max(),0.1)\n",
    "new_X = np.reshape(new_X,(len(new_X),1))\n",
    "fig,ax = plt.subplots(figsize=(10,6))\n",
    "ax.ticklabel_format(style='plain')\n",
    "ax.scatter(X,y,label=\"Actual Values\")\n",
    "ax.plot(new_X,model.predict(new_X), color='red', label=\"Regression Tree\")\n",
    "ax.set_title('Level VS Salaries')\n",
    "ax.set_xlabel('Level')\n",
    "ax.set_ylabel('Salary')\n",
    "ax.legend();"
   ]
  },
  {
   "cell_type": "code",
   "execution_count": 245,
   "id": "a32f0f70",
   "metadata": {},
   "outputs": [
    {
     "name": "stderr",
     "output_type": "stream",
     "text": [
      "D:\\Learn And Projects\\ML Learn Projects\\dummy_project\\env\\lib\\site-packages\\sklearn\\base.py:450: UserWarning: X does not have valid feature names, but DecisionTreeRegressor was fitted with feature names\n",
      "  warnings.warn(\n"
     ]
    },
    {
     "data": {
      "image/png": "[encoded data removed]",
      "text/plain": [
       "<Figure size 720x432 with 1 Axes>"
      ]
     },
     "metadata": {
      "needs_background": "light"
     },
     "output_type": "display_data"
    }
   ],
   "source": [
    "# If we increase the step size we can see this more clearly\n",
    "new_X = np.arange(X['Level'].min(),X['Level'].max(),0.01)\n",
    "new_X = np.reshape(new_X,(len(new_X),1))\n",
    "fig,ax = plt.subplots(figsize=(10,6))\n",
    "ax.ticklabel_format(style='plain')\n",
    "ax.scatter(X,y,label=\"Actual Values\")\n",
    "ax.plot(new_X,model.predict(new_X), color='red', label=\"Regression Tree\")\n",
    "ax.set_title('Level VS Salaries')\n",
    "ax.set_xlabel('Level')\n",
    "ax.set_ylabel('Salary')\n",
    "ax.legend();"
   ]
  },
  {
   "cell_type": "code",
   "execution_count": 248,
   "id": "00b7bb1d",
   "metadata": {},
   "outputs": [
    {
     "name": "stderr",
     "output_type": "stream",
     "text": [
      "D:\\Learn And Projects\\ML Learn Projects\\dummy_project\\env\\lib\\site-packages\\sklearn\\base.py:450: UserWarning: X does not have valid feature names, but DecisionTreeRegressor was fitted with feature names\n",
      "  warnings.warn(\n"
     ]
    },
    {
     "data": {
      "text/plain": [
       "array([150000.])"
      ]
     },
     "execution_count": 248,
     "metadata": {},
     "output_type": "execute_result"
    }
   ],
   "source": [
    "# lets see what this model predict for level 6.5\n",
    "pred = model.predict(np.array([[6.5]]))\n",
    "pred"
   ]
  },
  {
   "cell_type": "code",
   "execution_count": 249,
   "id": "3b91cbee",
   "metadata": {},
   "outputs": [],
   "source": [
    "# nice it predicts 150000\n",
    "# this can be a powerful when there are more dimensions, thats why its perfoming poorly\n",
    "# we dont have enough data as well as enough dimensions"
   ]
  },
  {
   "cell_type": "markdown",
   "id": "743127de",
   "metadata": {},
   "source": [
    "## 6. Random Forrest Regression\n",
    "\n",
    "In Random Forrest Regression what happens is that, instead of having one tree, there are multiple trees. Intution is as same as in the decision trees."
   ]
  },
  {
   "cell_type": "code",
   "execution_count": 259,
   "id": "b2e1eb05",
   "metadata": {},
   "outputs": [],
   "source": [
    "# Let's do everything ine one cell\n",
    "\n",
    "# importing modules\n",
    "%matplotlib inline\n",
    "import numpy as np\n",
    "import pandas as pd\n",
    "import matplotlib.pyplot as plt\n",
    "\n",
    "# Setting a random seed\n",
    "np.random.seed(42)\n",
    "\n",
    "# Data preprocessing\n",
    "\n",
    "# Importing data\n",
    "data = pd.read_csv('data/Decision Tree Regression/Position_Salaries.csv')\n",
    "\n",
    "# No Feature manipulation is needed in this dataset, otherwise you;ll have to look at this\n",
    "\n",
    "# Scaling is also not needed for the Random forrest regression\n",
    "\n",
    "# Split the data to X and y\n",
    "X = data.iloc[:,1:2] # or can use X = data.drop(['Position', Salary], axis=1)\n",
    "y = data.iloc[:,-1]  # Or can use y = data['Salary']\n",
    "\n",
    "# No need of splitting the data to train and test for this since we only have 10\n",
    "# other wise do that here\n",
    "\n",
    "# Creating the model\n",
    "from sklearn.ensemble import RandomForestRegressor\n",
    "\n",
    "model_1 = RandomForestRegressor(n_estimators=100)\n",
    "model_2 = RandomForestRegressor(n_estimators=200)\n",
    "model_3 = RandomForestRegressor(n_estimators=300)\n",
    "\n",
    "model_1.fit(X,y);\n",
    "model_2.fit(X,y);\n",
    "model_3.fit(X,y);\n",
    "\n",
    "# get predictions\n",
    "y_pred_1 = model_1.predict(X)\n",
    "y_pred_2 = model_2.predict(X)\n",
    "y_pred_3 = model_3.predict(X)\n"
   ]
  },
  {
   "cell_type": "code",
   "execution_count": 260,
   "id": "6c6b61b1",
   "metadata": {},
   "outputs": [
    {
     "name": "stderr",
     "output_type": "stream",
     "text": [
      "D:\\Learn And Projects\\ML Learn Projects\\dummy_project\\env\\lib\\site-packages\\sklearn\\base.py:450: UserWarning: X does not have valid feature names, but RandomForestRegressor was fitted with feature names\n",
      "  warnings.warn(\n",
      "D:\\Learn And Projects\\ML Learn Projects\\dummy_project\\env\\lib\\site-packages\\sklearn\\base.py:450: UserWarning: X does not have valid feature names, but RandomForestRegressor was fitted with feature names\n",
      "  warnings.warn(\n",
      "D:\\Learn And Projects\\ML Learn Projects\\dummy_project\\env\\lib\\site-packages\\sklearn\\base.py:450: UserWarning: X does not have valid feature names, but RandomForestRegressor was fitted with feature names\n",
      "  warnings.warn(\n"
     ]
    },
    {
     "data": {
      "image/png": "[encoded data removed]",
      "text/plain": [
       "<Figure size 1440x864 with 1 Axes>"
      ]
     },
     "metadata": {
      "needs_background": "light"
     },
     "output_type": "display_data"
    }
   ],
   "source": [
    "# now lets plot this and see\n",
    "new_X = np.arange(X['Level'].min(),X['Level'].max(),0.01)\n",
    "new_X = np.reshape(new_X,(len(new_X),1))\n",
    "fig,ax = plt.subplots(figsize=(20,12))\n",
    "ax.ticklabel_format(style='plain')\n",
    "ax.scatter(X,y,label=\"Actual Values\")\n",
    "ax.plot(new_X,model_1.predict(new_X), color='red', label=\"n_estimators:100\")\n",
    "ax.plot(new_X,model_2.predict(new_X), color='yellow', label=\"n_estimators:200\")\n",
    "ax.plot(new_X,model_3.predict(new_X), color='green', label=\"n_estimators:300\")\n",
    "ax.set_title('Level VS Salaries')\n",
    "ax.set_xlabel('Level')\n",
    "ax.set_ylabel('Salary')\n",
    "ax.legend();"
   ]
  },
  {
   "cell_type": "code",
   "execution_count": 261,
   "id": "1bf20908",
   "metadata": {},
   "outputs": [
    {
     "name": "stderr",
     "output_type": "stream",
     "text": [
      "D:\\Learn And Projects\\ML Learn Projects\\dummy_project\\env\\lib\\site-packages\\sklearn\\base.py:450: UserWarning: X does not have valid feature names, but RandomForestRegressor was fitted with feature names\n",
      "  warnings.warn(\n",
      "D:\\Learn And Projects\\ML Learn Projects\\dummy_project\\env\\lib\\site-packages\\sklearn\\base.py:450: UserWarning: X does not have valid feature names, but RandomForestRegressor was fitted with feature names\n",
      "  warnings.warn(\n",
      "D:\\Learn And Projects\\ML Learn Projects\\dummy_project\\env\\lib\\site-packages\\sklearn\\base.py:450: UserWarning: X does not have valid feature names, but RandomForestRegressor was fitted with feature names\n",
      "  warnings.warn(\n"
     ]
    },
    {
     "data": {
      "text/plain": [
       "(array([168200.]), array([159650.]), array([162400.]))"
      ]
     },
     "execution_count": 261,
     "metadata": {},
     "output_type": "execute_result"
    }
   ],
   "source": [
    "# As you can see that there are many steps\n",
    "# and by increating the number of trees values get more and more accurate\n",
    "\n",
    "# Lets see three predictions from each model for level = 6.5\n",
    "pred_1 = model_1.predict(np.array([[6.5]]))\n",
    "pred_2 = model_2.predict(np.array([[6.5]]))\n",
    "pred_3 = model_3.predict(np.array([[6.5]]))\n",
    "\n",
    "pred_1, pred_2, pred_3"
   ]
  },
  {
   "cell_type": "code",
   "execution_count": null,
   "id": "7489966f",
   "metadata": {},
   "outputs": [],
   "source": [
    "# Now we can see that around 200-300 trees will give an accurate answer, we can tweak that if we want"
   ]
  },
  {
   "cell_type": "code",
   "execution_count": null,
   "id": "444b36c1",
   "metadata": {},
   "outputs": [],
   "source": []
  }
 ],
 "metadata": {
  "kernelspec": {
   "display_name": "Python 3 (ipykernel)",
   "language": "python",
   "name": "python3"
  },
  "language_info": {
   "codemirror_mode": {
    "name": "ipython",
    "version": 3
   },
   "file_extension": ".py",
   "mimetype": "text/x-python",
   "name": "python",
   "nbconvert_exporter": "python",
   "pygments_lexer": "ipython3",
   "version": "3.10.4"
  }
 },
 "nbformat": 4,
 "nbformat_minor": 5
}
