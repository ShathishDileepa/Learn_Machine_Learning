{
 "cells": [
  {
   "cell_type": "markdown",
   "id": "3b8b9b71",
   "metadata": {},
   "source": [
    "# Types of Clustering Algorithms\n",
    "\n",
    "* So far we have done Regression and Classification. If you remember correctly, data set(s) we used in each of those models already had the target labels (or Values). So those type of problems are commonly known as __Supervised Learning__ Problems. What that means is model can find pattern in features and map that pattern to target value or (label), and use that knowledge to predict a future value. But what if there were no lables.\n",
    "\n",
    "* So clustering is type of classification since we have to do is guess a label. But this is __Unsupervised Learning__ because in the data set we don't have a target labels. \n",
    "\n",
    "* It is our task to identify the different clusters(groups) and label them.\n",
    "\n",
    "In this Notebook we will be taliking about 2 clustering algorithms. Those are as follows,\n",
    "   1. K-Means Clustering\n",
    "   2. Hierarchical Clustering"
   ]
  },
  {
   "cell_type": "markdown",
   "id": "d491f130",
   "metadata": {},
   "source": [
    "## 1. K-Means Clustering\n",
    "\n",
    "In this model(algorithm) `K = Number of clusters`, and randomly random K points are selected withing the dataset (it dowes not have to be a data point) and by calculating euclidean distance closet points are assigned to each cluster. Steps are as follows,\n",
    "\n",
    "<img src=\"images/KM_1.png\"/>"
   ]
  },
  {
   "cell_type": "markdown",
   "id": "02d662e2",
   "metadata": {},
   "source": [
    "__Following shows how the process is done__\n",
    "\n",
    "<img src=\"images/KM_2.png\"/>\n",
    "<img src=\"images/KM_3.png\"/>\n",
    "<img src=\"images/KM_4.png\"/>\n",
    "<img src=\"images/KM_5.png\"/>\n",
    "<img src=\"images/KM_6.png\"/>\n",
    "<img src=\"images/KM_7.png\"/>\n",
    "<img src=\"images/KM_8.png\"/>\n",
    "<img src=\"images/KM_9.png\"/>\n",
    "<img src=\"images/KM_10.png\"/>\n",
    "<img src=\"images/KM_11.png\"/>\n",
    "<img src=\"images/KM_12.png\"/>\n",
    "<img src=\"images/KM_13.png\"/>\n",
    "<img src=\"images/KM_14.png\"/>\n",
    "<img src=\"images/KM_15.png\"/>"
   ]
  },
  {
   "cell_type": "markdown",
   "id": "5b4949b5",
   "metadata": {},
   "source": [
    "<img src=\"images/KM_16.png\"/>"
   ]
  },
  {
   "cell_type": "code",
   "execution_count": 1,
   "id": "a7342d11",
   "metadata": {},
   "outputs": [],
   "source": [
    "# Lets implemet this using python\n",
    "\n",
    "# first lets import the modules\n",
    "%matplotlib inline\n",
    "import numpy as np\n",
    "import pandas as pd\n",
    "import matplotlib.pyplot as plt\n",
    "import sklearn\n",
    "\n",
    "# setting a random seed\n",
    "np.random.seed(42)"
   ]
  },
  {
   "cell_type": "code",
   "execution_count": 2,
   "id": "54b853a2",
   "metadata": {},
   "outputs": [
    {
     "data": {
      "text/html": [
       "<div>\n",
       "<style scoped>\n",
       "    .dataframe tbody tr th:only-of-type {\n",
       "        vertical-align: middle;\n",
       "    }\n",
       "\n",
       "    .dataframe tbody tr th {\n",
       "        vertical-align: top;\n",
       "    }\n",
       "\n",
       "    .dataframe thead th {\n",
       "        text-align: right;\n",
       "    }\n",
       "</style>\n",
       "<table border=\"1\" class=\"dataframe\">\n",
       "  <thead>\n",
       "    <tr style=\"text-align: right;\">\n",
       "      <th></th>\n",
       "      <th>CustomerID</th>\n",
       "      <th>Genre</th>\n",
       "      <th>Age</th>\n",
       "      <th>Annual Income (k$)</th>\n",
       "      <th>Spending Score (1-100)</th>\n",
       "    </tr>\n",
       "  </thead>\n",
       "  <tbody>\n",
       "    <tr>\n",
       "      <th>0</th>\n",
       "      <td>1</td>\n",
       "      <td>Male</td>\n",
       "      <td>19</td>\n",
       "      <td>15</td>\n",
       "      <td>39</td>\n",
       "    </tr>\n",
       "    <tr>\n",
       "      <th>1</th>\n",
       "      <td>2</td>\n",
       "      <td>Male</td>\n",
       "      <td>21</td>\n",
       "      <td>15</td>\n",
       "      <td>81</td>\n",
       "    </tr>\n",
       "    <tr>\n",
       "      <th>2</th>\n",
       "      <td>3</td>\n",
       "      <td>Female</td>\n",
       "      <td>20</td>\n",
       "      <td>16</td>\n",
       "      <td>6</td>\n",
       "    </tr>\n",
       "    <tr>\n",
       "      <th>3</th>\n",
       "      <td>4</td>\n",
       "      <td>Female</td>\n",
       "      <td>23</td>\n",
       "      <td>16</td>\n",
       "      <td>77</td>\n",
       "    </tr>\n",
       "    <tr>\n",
       "      <th>4</th>\n",
       "      <td>5</td>\n",
       "      <td>Female</td>\n",
       "      <td>31</td>\n",
       "      <td>17</td>\n",
       "      <td>40</td>\n",
       "    </tr>\n",
       "  </tbody>\n",
       "</table>\n",
       "</div>"
      ],
      "text/plain": [
       "   CustomerID   Genre  Age  Annual Income (k$)  Spending Score (1-100)\n",
       "0           1    Male   19                  15                      39\n",
       "1           2    Male   21                  15                      81\n",
       "2           3  Female   20                  16                       6\n",
       "3           4  Female   23                  16                      77\n",
       "4           5  Female   31                  17                      40"
      ]
     },
     "execution_count": 2,
     "metadata": {},
     "output_type": "execute_result"
    }
   ],
   "source": [
    "# Importing the dataset\n",
    "data = pd.read_csv('data/KMeans Clustering/Mall_Customers.csv')\n",
    "data.head()"
   ]
  },
  {
   "cell_type": "code",
   "execution_count": 3,
   "id": "12f7bd24",
   "metadata": {},
   "outputs": [
    {
     "name": "stdout",
     "output_type": "stream",
     "text": [
      "<class 'pandas.core.frame.DataFrame'>\n",
      "RangeIndex: 200 entries, 0 to 199\n",
      "Data columns (total 5 columns):\n",
      " #   Column                  Non-Null Count  Dtype \n",
      "---  ------                  --------------  ----- \n",
      " 0   CustomerID              200 non-null    int64 \n",
      " 1   Genre                   200 non-null    object\n",
      " 2   Age                     200 non-null    int64 \n",
      " 3   Annual Income (k$)      200 non-null    int64 \n",
      " 4   Spending Score (1-100)  200 non-null    int64 \n",
      "dtypes: int64(4), object(1)\n",
      "memory usage: 7.9+ KB\n"
     ]
    }
   ],
   "source": [
    "# lets explore this dataset\n",
    "\n",
    "# see some information\n",
    "data.info()"
   ]
  },
  {
   "cell_type": "code",
   "execution_count": 4,
   "id": "1ea7196c",
   "metadata": {},
   "outputs": [
    {
     "data": {
      "text/html": [
       "<div>\n",
       "<style scoped>\n",
       "    .dataframe tbody tr th:only-of-type {\n",
       "        vertical-align: middle;\n",
       "    }\n",
       "\n",
       "    .dataframe tbody tr th {\n",
       "        vertical-align: top;\n",
       "    }\n",
       "\n",
       "    .dataframe thead th {\n",
       "        text-align: right;\n",
       "    }\n",
       "</style>\n",
       "<table border=\"1\" class=\"dataframe\">\n",
       "  <thead>\n",
       "    <tr style=\"text-align: right;\">\n",
       "      <th></th>\n",
       "      <th>count</th>\n",
       "      <th>mean</th>\n",
       "      <th>std</th>\n",
       "      <th>min</th>\n",
       "      <th>25%</th>\n",
       "      <th>50%</th>\n",
       "      <th>75%</th>\n",
       "      <th>max</th>\n",
       "    </tr>\n",
       "  </thead>\n",
       "  <tbody>\n",
       "    <tr>\n",
       "      <th>CustomerID</th>\n",
       "      <td>200.0</td>\n",
       "      <td>100.50</td>\n",
       "      <td>57.879185</td>\n",
       "      <td>1.0</td>\n",
       "      <td>50.75</td>\n",
       "      <td>100.5</td>\n",
       "      <td>150.25</td>\n",
       "      <td>200.0</td>\n",
       "    </tr>\n",
       "    <tr>\n",
       "      <th>Age</th>\n",
       "      <td>200.0</td>\n",
       "      <td>38.85</td>\n",
       "      <td>13.969007</td>\n",
       "      <td>18.0</td>\n",
       "      <td>28.75</td>\n",
       "      <td>36.0</td>\n",
       "      <td>49.00</td>\n",
       "      <td>70.0</td>\n",
       "    </tr>\n",
       "    <tr>\n",
       "      <th>Annual Income (k$)</th>\n",
       "      <td>200.0</td>\n",
       "      <td>60.56</td>\n",
       "      <td>26.264721</td>\n",
       "      <td>15.0</td>\n",
       "      <td>41.50</td>\n",
       "      <td>61.5</td>\n",
       "      <td>78.00</td>\n",
       "      <td>137.0</td>\n",
       "    </tr>\n",
       "    <tr>\n",
       "      <th>Spending Score (1-100)</th>\n",
       "      <td>200.0</td>\n",
       "      <td>50.20</td>\n",
       "      <td>25.823522</td>\n",
       "      <td>1.0</td>\n",
       "      <td>34.75</td>\n",
       "      <td>50.0</td>\n",
       "      <td>73.00</td>\n",
       "      <td>99.0</td>\n",
       "    </tr>\n",
       "  </tbody>\n",
       "</table>\n",
       "</div>"
      ],
      "text/plain": [
       "                        count    mean        std   min    25%    50%     75%  \\\n",
       "CustomerID              200.0  100.50  57.879185   1.0  50.75  100.5  150.25   \n",
       "Age                     200.0   38.85  13.969007  18.0  28.75   36.0   49.00   \n",
       "Annual Income (k$)      200.0   60.56  26.264721  15.0  41.50   61.5   78.00   \n",
       "Spending Score (1-100)  200.0   50.20  25.823522   1.0  34.75   50.0   73.00   \n",
       "\n",
       "                          max  \n",
       "CustomerID              200.0  \n",
       "Age                      70.0  \n",
       "Annual Income (k$)      137.0  \n",
       "Spending Score (1-100)   99.0  "
      ]
     },
     "execution_count": 4,
     "metadata": {},
     "output_type": "execute_result"
    }
   ],
   "source": [
    "# has 200 datapoints\n",
    "# one object data type (we might have to convert it to numerical)\n",
    "\n",
    "# lets see some other details\n",
    "data.describe().T"
   ]
  },
  {
   "cell_type": "code",
   "execution_count": 5,
   "id": "bcdc82ee",
   "metadata": {},
   "outputs": [
    {
     "data": {
      "text/plain": [
       "CustomerID                0\n",
       "Genre                     0\n",
       "Age                       0\n",
       "Annual Income (k$)        0\n",
       "Spending Score (1-100)    0\n",
       "dtype: int64"
      ]
     },
     "execution_count": 5,
     "metadata": {},
     "output_type": "execute_result"
    }
   ],
   "source": [
    "# see if there is any missing data\n",
    "data.isna().sum()"
   ]
  },
  {
   "cell_type": "code",
   "execution_count": 6,
   "id": "6d0eccf9",
   "metadata": {},
   "outputs": [
    {
     "data": {
      "text/html": [
       "<div>\n",
       "<style scoped>\n",
       "    .dataframe tbody tr th:only-of-type {\n",
       "        vertical-align: middle;\n",
       "    }\n",
       "\n",
       "    .dataframe tbody tr th {\n",
       "        vertical-align: top;\n",
       "    }\n",
       "\n",
       "    .dataframe thead th {\n",
       "        text-align: right;\n",
       "    }\n",
       "</style>\n",
       "<table border=\"1\" class=\"dataframe\">\n",
       "  <thead>\n",
       "    <tr style=\"text-align: right;\">\n",
       "      <th></th>\n",
       "      <th>Annual Income (k$)</th>\n",
       "      <th>Spending Score (1-100)</th>\n",
       "    </tr>\n",
       "  </thead>\n",
       "  <tbody>\n",
       "    <tr>\n",
       "      <th>0</th>\n",
       "      <td>15</td>\n",
       "      <td>39</td>\n",
       "    </tr>\n",
       "    <tr>\n",
       "      <th>1</th>\n",
       "      <td>15</td>\n",
       "      <td>81</td>\n",
       "    </tr>\n",
       "    <tr>\n",
       "      <th>2</th>\n",
       "      <td>16</td>\n",
       "      <td>6</td>\n",
       "    </tr>\n",
       "    <tr>\n",
       "      <th>3</th>\n",
       "      <td>16</td>\n",
       "      <td>77</td>\n",
       "    </tr>\n",
       "    <tr>\n",
       "      <th>4</th>\n",
       "      <td>17</td>\n",
       "      <td>40</td>\n",
       "    </tr>\n",
       "  </tbody>\n",
       "</table>\n",
       "</div>"
      ],
      "text/plain": [
       "   Annual Income (k$)  Spending Score (1-100)\n",
       "0                  15                      39\n",
       "1                  15                      81\n",
       "2                  16                       6\n",
       "3                  16                      77\n",
       "4                  17                      40"
      ]
     },
     "execution_count": 6,
     "metadata": {},
     "output_type": "execute_result"
    }
   ],
   "source": [
    "# seems like no missing values\n",
    "\n",
    "# Lets divide our data into features we want to use for clustering\n",
    "# in this we will be using 'Annual Income (k$)' & 'Spending Score (1-100)'\n",
    "X = data[['Annual Income (k$)','Spending Score (1-100)' ]]\n",
    "X.to_csv('data/X.csv',index=False)\n",
    "X.head()"
   ]
  },
  {
   "cell_type": "code",
   "execution_count": 7,
   "id": "9d09e969",
   "metadata": {
    "scrolled": false
   },
   "outputs": [
    {
     "data": {
      "image/png": "[encoded data removed]",
      "text/plain": [
       "<Figure size 720x576 with 1 Axes>"
      ]
     },
     "metadata": {
      "needs_background": "light"
     },
     "output_type": "display_data"
    }
   ],
   "source": [
    "# no feture scaling is needed since there is not much scaling different\n",
    "\n",
    "# import the model\n",
    "from sklearn.cluster import KMeans\n",
    "\n",
    "# so we have to identify the optimum number of clusters, we can do this by running this algorithm in a loop and ploting\n",
    "# the WCSS(Within Cluster Sum of Squared) also known as sum of squred distances between each point and centroid\n",
    "\n",
    "# What is the maximum number of clusters we can have = 200 (Since there are 200 points)\n",
    "# then WCSS will be 0\n",
    "# so what happen is when the number of clusters get increased WCSS keep getting reduced. but he have to find\n",
    "# the optimum one using 'Elbow method'\n",
    "\n",
    "wcss =[]\n",
    "K_values = range(1,10)\n",
    "\n",
    "# # we have to pick 'K-means ++' as init to avoid 'Random centroid trap' (default here)\n",
    "for i in K_values:\n",
    "    model = KMeans(n_clusters=i)\n",
    "    model.fit(X)\n",
    "    wcss.append(model.inertia_)\n",
    "\n",
    "# Now we can plot this and see\n",
    "fig, ax = plt.subplots(figsize=(10,8))\n",
    "ax.plot(K_values,wcss)\n",
    "ax.set_title('Determine the optimal K value')\n",
    "ax.set_ylabel('WCSS')\n",
    "ax.set_ylabel('Number of clusters')\n",
    "ax.plot();"
   ]
  },
  {
   "cell_type": "code",
   "execution_count": 43,
   "id": "bed43396",
   "metadata": {},
   "outputs": [],
   "source": [
    "# Okay we can see that the optimal number of clusters is 5.\n",
    "# after five there is no significant change\n",
    "\n",
    "model = KMeans(n_clusters=5)"
   ]
  },
  {
   "cell_type": "code",
   "execution_count": 44,
   "id": "723adc52",
   "metadata": {},
   "outputs": [
    {
     "data": {
      "text/plain": [
       "200"
      ]
     },
     "execution_count": 44,
     "metadata": {},
     "output_type": "execute_result"
    }
   ],
   "source": [
    "model.fit(X)\n",
    "labels = model.fit_predict(X)\n",
    "\n",
    "# if we have done right, labels array should have 200 items\n",
    "len(labels)"
   ]
  },
  {
   "cell_type": "code",
   "execution_count": 45,
   "id": "2c650ebe",
   "metadata": {},
   "outputs": [],
   "source": [
    "# get centroids\n",
    "centroids = model.cluster_centers_"
   ]
  },
  {
   "cell_type": "code",
   "execution_count": 46,
   "id": "dc0971d8",
   "metadata": {},
   "outputs": [
    {
     "data": {
      "text/html": [
       "<div>\n",
       "<style scoped>\n",
       "    .dataframe tbody tr th:only-of-type {\n",
       "        vertical-align: middle;\n",
       "    }\n",
       "\n",
       "    .dataframe tbody tr th {\n",
       "        vertical-align: top;\n",
       "    }\n",
       "\n",
       "    .dataframe thead th {\n",
       "        text-align: right;\n",
       "    }\n",
       "</style>\n",
       "<table border=\"1\" class=\"dataframe\">\n",
       "  <thead>\n",
       "    <tr style=\"text-align: right;\">\n",
       "      <th></th>\n",
       "      <th>Annual Income (k$)</th>\n",
       "      <th>Spending Score (1-100)</th>\n",
       "    </tr>\n",
       "  </thead>\n",
       "  <tbody>\n",
       "    <tr>\n",
       "      <th>0</th>\n",
       "      <td>15</td>\n",
       "      <td>39</td>\n",
       "    </tr>\n",
       "    <tr>\n",
       "      <th>1</th>\n",
       "      <td>15</td>\n",
       "      <td>81</td>\n",
       "    </tr>\n",
       "    <tr>\n",
       "      <th>2</th>\n",
       "      <td>16</td>\n",
       "      <td>6</td>\n",
       "    </tr>\n",
       "    <tr>\n",
       "      <th>3</th>\n",
       "      <td>16</td>\n",
       "      <td>77</td>\n",
       "    </tr>\n",
       "    <tr>\n",
       "      <th>4</th>\n",
       "      <td>17</td>\n",
       "      <td>40</td>\n",
       "    </tr>\n",
       "  </tbody>\n",
       "</table>\n",
       "</div>"
      ],
      "text/plain": [
       "   Annual Income (k$)  Spending Score (1-100)\n",
       "0                  15                      39\n",
       "1                  15                      81\n",
       "2                  16                       6\n",
       "3                  16                      77\n",
       "4                  17                      40"
      ]
     },
     "execution_count": 46,
     "metadata": {},
     "output_type": "execute_result"
    }
   ],
   "source": [
    "X_new = pd.read_csv('data/X.csv')\n",
    "X_new.head()"
   ]
  },
  {
   "cell_type": "code",
   "execution_count": 47,
   "id": "f7c117a0",
   "metadata": {},
   "outputs": [
    {
     "data": {
      "text/html": [
       "<div>\n",
       "<style scoped>\n",
       "    .dataframe tbody tr th:only-of-type {\n",
       "        vertical-align: middle;\n",
       "    }\n",
       "\n",
       "    .dataframe tbody tr th {\n",
       "        vertical-align: top;\n",
       "    }\n",
       "\n",
       "    .dataframe thead th {\n",
       "        text-align: right;\n",
       "    }\n",
       "</style>\n",
       "<table border=\"1\" class=\"dataframe\">\n",
       "  <thead>\n",
       "    <tr style=\"text-align: right;\">\n",
       "      <th></th>\n",
       "      <th>Annual Income (k$)</th>\n",
       "      <th>Spending Score (1-100)</th>\n",
       "      <th>Label</th>\n",
       "    </tr>\n",
       "  </thead>\n",
       "  <tbody>\n",
       "    <tr>\n",
       "      <th>0</th>\n",
       "      <td>15</td>\n",
       "      <td>39</td>\n",
       "      <td>0</td>\n",
       "    </tr>\n",
       "    <tr>\n",
       "      <th>1</th>\n",
       "      <td>15</td>\n",
       "      <td>81</td>\n",
       "      <td>4</td>\n",
       "    </tr>\n",
       "    <tr>\n",
       "      <th>2</th>\n",
       "      <td>16</td>\n",
       "      <td>6</td>\n",
       "      <td>0</td>\n",
       "    </tr>\n",
       "    <tr>\n",
       "      <th>3</th>\n",
       "      <td>16</td>\n",
       "      <td>77</td>\n",
       "      <td>4</td>\n",
       "    </tr>\n",
       "    <tr>\n",
       "      <th>4</th>\n",
       "      <td>17</td>\n",
       "      <td>40</td>\n",
       "      <td>0</td>\n",
       "    </tr>\n",
       "  </tbody>\n",
       "</table>\n",
       "</div>"
      ],
      "text/plain": [
       "   Annual Income (k$)  Spending Score (1-100)  Label\n",
       "0                  15                      39      0\n",
       "1                  15                      81      4\n",
       "2                  16                       6      0\n",
       "3                  16                      77      4\n",
       "4                  17                      40      0"
      ]
     },
     "execution_count": 47,
     "metadata": {},
     "output_type": "execute_result"
    }
   ],
   "source": [
    "X_new['Label'] = labels\n",
    "X_new.head()"
   ]
  },
  {
   "cell_type": "code",
   "execution_count": 48,
   "id": "556cb89e",
   "metadata": {},
   "outputs": [
    {
     "data": {
      "text/plain": [
       "0     15\n",
       "2     16\n",
       "4     17\n",
       "6     18\n",
       "8     19\n",
       "10    19\n",
       "12    20\n",
       "14    20\n",
       "16    21\n",
       "18    23\n",
       "20    24\n",
       "22    25\n",
       "24    28\n",
       "26    28\n",
       "28    29\n",
       "30    30\n",
       "32    33\n",
       "34    33\n",
       "36    34\n",
       "38    37\n",
       "40    38\n",
       "42    39\n",
       "44    39\n",
       "Name: Annual Income (k$), dtype: int64"
      ]
     },
     "execution_count": 48,
     "metadata": {},
     "output_type": "execute_result"
    }
   ],
   "source": [
    "X_new.loc[X_new['Label']==0,'Annual Income (k$)']"
   ]
  },
  {
   "cell_type": "code",
   "execution_count": 49,
   "id": "534faed4",
   "metadata": {
    "scrolled": false
   },
   "outputs": [
    {
     "data": {
      "image/png": "[encoded data removed]",
      "text/plain": [
       "<Figure size 720x1152 with 2 Axes>"
      ]
     },
     "metadata": {
      "needs_background": "light"
     },
     "output_type": "display_data"
    }
   ],
   "source": [
    "# Nice\n",
    "\n",
    "# Since this is only 2 dimensions we can plot and see\n",
    "# if more than 2 dimensions we can't\n",
    "\n",
    "fig, ((ax1),(ax2)) = plt.subplots(figsize=(10,16),nrows=2,sharex=True)\n",
    "\n",
    "ax1.scatter(X['Annual Income (k$)'],X['Spending Score (1-100)'])\n",
    "#ax2.scatter(X['Annual Income (k$)'],X['Spending Score (1-100)'],c=labels)\n",
    "ax2.scatter(X_new.loc[X_new['Label']==0,'Annual Income (k$)'],X_new.loc[X_new['Label']==0,'Spending Score (1-100)'],color='blue',label='Cluster 0')\n",
    "ax2.scatter(X_new.loc[X_new['Label']==1,'Annual Income (k$)'],X_new.loc[X_new['Label']==1,'Spending Score (1-100)'],color='yellow',label='Cluster 1')\n",
    "ax2.scatter(X_new.loc[X_new['Label']==2,'Annual Income (k$)'],X_new.loc[X_new['Label']==2,'Spending Score (1-100)'],color='cyan',label='Cluster 2')\n",
    "ax2.scatter(X_new.loc[X_new['Label']==3,'Annual Income (k$)'],X_new.loc[X_new['Label']==3,'Spending Score (1-100)'],color='orange',label='Cluster 3')\n",
    "ax2.scatter(X_new.loc[X_new['Label']==4,'Annual Income (k$)'],X_new.loc[X_new['Label']==4,'Spending Score (1-100)'],color='green',label='Cluster 4')\n",
    "            \n",
    "ax2.scatter(centroids[:,0],centroids[:,1],color='red',label='Centroids',marker='s',edgecolors='black')\n",
    "\n",
    "ax2.set_xlabel('Annual Income (k$)')\n",
    "ax1.set_ylabel('Spending Score (1-100)')\n",
    "ax2.set_ylabel('Spending Score (1-100)')\n",
    "ax1.set_title('Before k-means clustering')\n",
    "ax2.set_title('after k-means clustering')\n",
    "ax2.legend();"
   ]
  },
  {
   "cell_type": "markdown",
   "id": "65e399a6",
   "metadata": {},
   "source": [
    "## 2. Hierarchical Clustering\n",
    "\n",
    "There are mainly two types of Hierarchical clustering,\n",
    "   1. Agglomerative ( Bottom up approach )\n",
    "   2. Divisive (Top Down Approach )\n",
    "   \n",
    "We will be mainly talking about __Agglomerative ( Bottom up approach )__. So the intution is like this,\n",
    "\n",
    "> First, we start from our dataset and we will mark each of them as their own cluster and we will look for the closest clusters and make them one cluster. And repeat this process until theres only one cluster remain. There are many ways we can define the closeness of cluster like,\n",
    "    >\n",
    "        * Distance between closet points in two clusters\n",
    "        * Distance between farthest points in two clusters\n",
    "        * Distance between cluster centroids\n",
    "For easiness lets say we go with the last one "
   ]
  },
  {
   "cell_type": "markdown",
   "id": "05e51b22",
   "metadata": {},
   "source": [
    "* So the steps are as follows,\n",
    "\n",
    "<img src=\"images/HC_1.png\"/>\n",
    "<img src=\"images/HC_2.png\"/>\n",
    "<img src=\"images/HC_3.png\"/>\n",
    "<img src=\"images/HC_3.1.png\"/>\n",
    "<img src=\"images/HC_4.png\"/>\n",
    "<img src=\"images/HC_5.png\"/>\n",
    "<img src=\"images/HC_6.png\"/>\n",
    "<img src=\"images/HC_7.png\"/>"
   ]
  },
  {
   "cell_type": "markdown",
   "id": "7d18c1cd",
   "metadata": {},
   "source": [
    "* So if this is what is happening, how are we going to decide the optimum number of clusters.\n",
    "* That's where the dendrogram comes in\n",
    "\n",
    "> Dendrogram keeps track of cluster history and by height it represent eucledian distances between clusters, in other words. its shows how dissimilar two culsters were.\n",
    "\n",
    "> So what we do is we find the longest line that does not cut any horizontal lines and set a euclidian distance(horzontal line) as a threshold, So the number of vertical lines that threshold line cut is the number of optimum clusters\n"
   ]
  },
  {
   "cell_type": "markdown",
   "id": "5033a838",
   "metadata": {},
   "source": [
    "<img src=\"images/HC_8.png\"/>"
   ]
  },
  {
   "cell_type": "code",
   "execution_count": 50,
   "id": "fc2f9b01",
   "metadata": {},
   "outputs": [
    {
     "data": {
      "image/png": "[encoded data removed]",
      "text/plain": [
       "<Figure size 1440x720 with 1 Axes>"
      ]
     },
     "metadata": {
      "needs_background": "light"
     },
     "output_type": "display_data"
    }
   ],
   "source": [
    "# Now lets try this\n",
    "\n",
    "# importing all the modules need\n",
    "%matplotlib inline\n",
    "import numpy as np\n",
    "import pandas as pd\n",
    "import scipy as sp\n",
    "import matplotlib.pyplot as plt\n",
    "import sklearn\n",
    "\n",
    "# setting a random seed globally\n",
    "np.random.seed(42)\n",
    "\n",
    "# import the dataset \n",
    "X = pd.read_csv('data/X.csv') # X.csv is one i created earlier with only relevant features.. saves us the extra trouble\n",
    "\n",
    "# now we need to decide the number of clusters\n",
    "# for k-means we use elbow method\n",
    "\n",
    "# here we will use a dendogram\n",
    "import scipy.cluster.hierarchy as sch\n",
    "\n",
    "fig, ax = plt.subplots(figsize=(20,10))\n",
    "dndgrm = sch.dendrogram(ax=ax,Z=sch.linkage(y=X,method='ward',metric='euclidean'))\n",
    "ax.set_title('Dendrogram')\n",
    "ax.set_xlabel('Clusters')\n",
    "ax.set_ylabel('Euclidean Distances');\n"
   ]
  },
  {
   "cell_type": "code",
   "execution_count": 51,
   "id": "1d3462d4",
   "metadata": {},
   "outputs": [
    {
     "data": {
      "text/plain": [
       "0     15\n",
       "2     16\n",
       "4     17\n",
       "6     18\n",
       "8     19\n",
       "10    19\n",
       "12    20\n",
       "14    20\n",
       "16    21\n",
       "18    23\n",
       "20    24\n",
       "22    25\n",
       "24    28\n",
       "26    28\n",
       "28    29\n",
       "30    30\n",
       "32    33\n",
       "34    33\n",
       "36    34\n",
       "38    37\n",
       "40    38\n",
       "42    39\n",
       "44    39\n",
       "Name: Annual Income (k$), dtype: int64"
      ]
     },
     "execution_count": 51,
     "metadata": {},
     "output_type": "execute_result"
    }
   ],
   "source": [
    "# By obsersing this we can deside the optimum number of clusters is 5\n",
    "# and byther way only for 2D data this dendrogram can be plot\n",
    "\n",
    "from sklearn.cluster import AgglomerativeClustering\n",
    "\n",
    "model = AgglomerativeClustering(n_clusters=5)\n",
    "model.fit(X)\n",
    "\n",
    "#get cluster labels\n",
    "labels = model.labels_\n",
    "\n",
    "# Preparing new X to plotting purposes\n",
    "X_new_2 = pd.read_csv('data/X.csv')\n",
    "X_new_2['Label'] = labels\n",
    "X_new_2.loc[X_new['Label']==0,'Annual Income (k$)']"
   ]
  },
  {
   "cell_type": "code",
   "execution_count": 52,
   "id": "f5a9efc0",
   "metadata": {},
   "outputs": [
    {
     "data": {
      "image/png": "[encoded data removed]",
      "text/plain": [
       "<Figure size 720x1728 with 3 Axes>"
      ]
     },
     "metadata": {
      "needs_background": "light"
     },
     "output_type": "display_data"
    }
   ],
   "source": [
    "# Now we can plot\n",
    "# Since this is only 2 dimensions we can plot and see\n",
    "# if more than 2 dimensions we can't\n",
    "\n",
    "fig, ((ax3),(ax4),(ax2)) = plt.subplots(figsize=(10,24),nrows=3,sharex=True)\n",
    "\n",
    "ax3.scatter(X['Annual Income (k$)'],X['Spending Score (1-100)'])\n",
    "#ax2.scatter(X['Annual Income (k$)'],X['Spending Score (1-100)'],c=labels)\n",
    "ax4.scatter(X_new_2.loc[X_new_2['Label']==0,'Annual Income (k$)'],X_new_2.loc[X_new_2['Label']==0,'Spending Score (1-100)'],color='blue',label='Cluster 0')\n",
    "ax4.scatter(X_new_2.loc[X_new_2['Label']==1,'Annual Income (k$)'],X_new_2.loc[X_new_2['Label']==1,'Spending Score (1-100)'],color='yellow',label='Cluster 1')\n",
    "ax4.scatter(X_new_2.loc[X_new_2['Label']==2,'Annual Income (k$)'],X_new_2.loc[X_new_2['Label']==2,'Spending Score (1-100)'],color='cyan',label='Cluster 2')\n",
    "ax4.scatter(X_new_2.loc[X_new_2['Label']==3,'Annual Income (k$)'],X_new_2.loc[X_new_2['Label']==3,'Spending Score (1-100)'],color='orange',label='Cluster 3')\n",
    "ax4.scatter(X_new_2.loc[X_new_2['Label']==4,'Annual Income (k$)'],X_new_2.loc[X_new_2['Label']==4,'Spending Score (1-100)'],color='green',label='Cluster 4')\n",
    "# K-Means clusters\n",
    "ax2.scatter(X_new.loc[X_new['Label']==0,'Annual Income (k$)'],X_new.loc[X_new['Label']==0,'Spending Score (1-100)'],color='blue',label='Cluster 0')\n",
    "ax2.scatter(X_new.loc[X_new['Label']==1,'Annual Income (k$)'],X_new.loc[X_new['Label']==1,'Spending Score (1-100)'],color='yellow',label='Cluster 1')\n",
    "ax2.scatter(X_new.loc[X_new['Label']==2,'Annual Income (k$)'],X_new.loc[X_new['Label']==2,'Spending Score (1-100)'],color='cyan',label='Cluster 2')\n",
    "ax2.scatter(X_new.loc[X_new['Label']==3,'Annual Income (k$)'],X_new.loc[X_new['Label']==3,'Spending Score (1-100)'],color='orange',label='Cluster 3')\n",
    "ax2.scatter(X_new.loc[X_new['Label']==4,'Annual Income (k$)'],X_new.loc[X_new['Label']==4,'Spending Score (1-100)'],color='green',label='Cluster 4')\n",
    "            \n",
    "ax2.scatter(centroids[:,0],centroids[:,1],color='red',label='Centroids',marker='s',edgecolors='black')\n",
    "\n",
    "\n",
    "ax4.set_xlabel('Annual Income (k$)')\n",
    "ax3.set_ylabel('Spending Score (1-100)')\n",
    "ax4.set_ylabel('Spending Score (1-100)')\n",
    "ax2.set_ylabel('Spending Score (1-100)')\n",
    "ax3.set_title('Before Hierarchical clustering')\n",
    "ax4.set_title('after Hierarchical clustering')\n",
    "ax2.set_title('after K-Means clustering')\n",
    "ax4.legend();"
   ]
  },
  {
   "cell_type": "code",
   "execution_count": null,
   "id": "7ca40cc4",
   "metadata": {},
   "outputs": [],
   "source": [
    "# seems like there are are some mismatches"
   ]
  }
 ],
 "metadata": {
  "kernelspec": {
   "display_name": "Python 3 (ipykernel)",
   "language": "python",
   "name": "python3"
  },
  "language_info": {
   "codemirror_mode": {
    "name": "ipython",
    "version": 3
   },
   "file_extension": ".py",
   "mimetype": "text/x-python",
   "name": "python",
   "nbconvert_exporter": "python",
   "pygments_lexer": "ipython3",
   "version": "3.10.4"
  }
 },
 "nbformat": 4,
 "nbformat_minor": 5
}
