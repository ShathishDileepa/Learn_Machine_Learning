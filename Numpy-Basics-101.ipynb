{
 "cells": [
  {
   "cell_type": "markdown",
   "id": "7787a4bd",
   "metadata": {},
   "source": [
    "# Machine Learning Tools\n",
    "\n",
    "## NumPy\n",
    "\n",
    "### 1. Data Types and Attributes"
   ]
  },
  {
   "cell_type": "markdown",
   "id": "d6d8923c",
   "metadata": {},
   "source": [
    "* Numpy basically has one type of data which is __'ndarray'__ which stands for __n-dimensional array__.\n",
    "* It's basically a substitute to python list because it's faster than python list and has many useful features needed for machine learning."
   ]
  },
  {
   "cell_type": "code",
   "execution_count": 1,
   "id": "1dfb3b29",
   "metadata": {},
   "outputs": [],
   "source": [
    "# lets import everything just incase\n",
    "import pandas as pd\n",
    "import numpy as np\n",
    "import matplotlib.pyplot as plt\n",
    "import sklearn"
   ]
  },
  {
   "cell_type": "code",
   "execution_count": 2,
   "id": "f0ddbfea",
   "metadata": {},
   "outputs": [
    {
     "data": {
      "text/plain": [
       "array([1. , 2. , 3.2])"
      ]
     },
     "execution_count": 2,
     "metadata": {},
     "output_type": "execute_result"
    }
   ],
   "source": [
    "a1 = np.array([1,2,3.2])\n",
    "a1"
   ]
  },
  {
   "cell_type": "code",
   "execution_count": 3,
   "id": "a50b943b",
   "metadata": {},
   "outputs": [
    {
     "data": {
      "text/plain": [
       "numpy.ndarray"
      ]
     },
     "execution_count": 3,
     "metadata": {},
     "output_type": "execute_result"
    }
   ],
   "source": [
    "# Lets check the type of the a1 array\n",
    "type(a1)"
   ]
  },
  {
   "cell_type": "code",
   "execution_count": 4,
   "id": "3b7bb51d",
   "metadata": {},
   "outputs": [
    {
     "data": {
      "text/plain": [
       "array([[1, 2, 3],\n",
       "       [4, 5, 6]])"
      ]
     },
     "execution_count": 4,
     "metadata": {},
     "output_type": "execute_result"
    }
   ],
   "source": [
    "a2 = np.array([[1,2,3],[4,5,6]])\n",
    "a2"
   ]
  },
  {
   "cell_type": "code",
   "execution_count": 5,
   "id": "fa4e2b72",
   "metadata": {},
   "outputs": [
    {
     "data": {
      "text/plain": [
       "array([[[ 1,  2,  3],\n",
       "        [ 4,  5,  6],\n",
       "        [ 7,  8,  9]],\n",
       "\n",
       "       [[10, 11, 12],\n",
       "        [13, 14, 15],\n",
       "        [16, 17, 18]]])"
      ]
     },
     "execution_count": 5,
     "metadata": {},
     "output_type": "execute_result"
    }
   ],
   "source": [
    "a3 = np.array([[[1,2,3],\n",
    "                [4,5,6],\n",
    "                [7,8,9]],\n",
    "               [[10,11,12],\n",
    "                [13,14,15],\n",
    "                [16,17,18]]])\n",
    "a3"
   ]
  },
  {
   "cell_type": "code",
   "execution_count": 6,
   "id": "eac92c1c",
   "metadata": {},
   "outputs": [
    {
     "data": {
      "text/plain": [
       "((3,), (2, 3), (2, 3, 3))"
      ]
     },
     "execution_count": 6,
     "metadata": {},
     "output_type": "execute_result"
    }
   ],
   "source": [
    "# Following are some of the attributes of the ndarray elements\n",
    "a1.shape, a2.shape , a3.shape"
   ]
  },
  {
   "cell_type": "markdown",
   "id": "03a4e399",
   "metadata": {},
   "source": [
    "![Anatomy of ndarray](./images/anatomy_of_ndarray.png \"Anatomy of ndarrays\")"
   ]
  },
  {
   "cell_type": "code",
   "execution_count": 78,
   "id": "6f90de66",
   "metadata": {},
   "outputs": [
    {
     "data": {
      "text/plain": [
       "(dtype('float64'), dtype('int32'), dtype('int32'))"
      ]
     },
     "execution_count": 78,
     "metadata": {},
     "output_type": "execute_result"
    }
   ],
   "source": [
    "# to see which type of data nd array containe we can access the .dtype attribute\n",
    "a1.dtype, a2.dtype, a3.dtype "
   ]
  },
  {
   "cell_type": "code",
   "execution_count": 79,
   "id": "1515e5c9",
   "metadata": {},
   "outputs": [
    {
     "data": {
      "text/plain": [
       "(3, 6, 18)"
      ]
     },
     "execution_count": 79,
     "metadata": {},
     "output_type": "execute_result"
    }
   ],
   "source": [
    "# .size attribute gives how many elements it contain within the nd array\n",
    "a1.size, a2.size, a3.size"
   ]
  },
  {
   "cell_type": "code",
   "execution_count": 80,
   "id": "8a9a5780",
   "metadata": {},
   "outputs": [
    {
     "data": {
      "text/plain": [
       "(1, 2, 3)"
      ]
     },
     "execution_count": 80,
     "metadata": {},
     "output_type": "execute_result"
    }
   ],
   "source": [
    "# .ndim attribute gives the dimension of the array\n",
    "a1.ndim, a2.ndim, a3.ndim"
   ]
  },
  {
   "cell_type": "markdown",
   "id": "1504f440",
   "metadata": {},
   "source": [
    "### 2. Creating arrays"
   ]
  },
  {
   "cell_type": "code",
   "execution_count": 81,
   "id": "14564ee4",
   "metadata": {},
   "outputs": [
    {
     "data": {
      "text/plain": [
       "array([1, 2, 3])"
      ]
     },
     "execution_count": 81,
     "metadata": {},
     "output_type": "execute_result"
    }
   ],
   "source": [
    "# Normal Array\n",
    "arry = np.array([1,2,3])\n",
    "arry"
   ]
  },
  {
   "cell_type": "code",
   "execution_count": 82,
   "id": "29fdb55e",
   "metadata": {},
   "outputs": [
    {
     "data": {
      "text/plain": [
       "array([[1., 1., 1.],\n",
       "       [1., 1., 1.]])"
      ]
     },
     "execution_count": 82,
     "metadata": {},
     "output_type": "execute_result"
    }
   ],
   "source": [
    "# Get already filled with values\n",
    "\n",
    "# Array filled with ones\n",
    "ones =np.ones((2,3))\n",
    "ones"
   ]
  },
  {
   "cell_type": "code",
   "execution_count": 83,
   "id": "76e4ed4a",
   "metadata": {},
   "outputs": [
    {
     "data": {
      "text/plain": [
       "(2, 3)"
      ]
     },
     "execution_count": 83,
     "metadata": {},
     "output_type": "execute_result"
    }
   ],
   "source": [
    "ones.shape # it has the shape we given to it"
   ]
  },
  {
   "cell_type": "code",
   "execution_count": 84,
   "id": "26527be3",
   "metadata": {},
   "outputs": [
    {
     "data": {
      "text/plain": [
       "array([[0., 0., 0.],\n",
       "       [0., 0., 0.]])"
      ]
     },
     "execution_count": 84,
     "metadata": {},
     "output_type": "execute_result"
    }
   ],
   "source": [
    "# array filled with zeroes\n",
    "zeros = np.zeros((2,3))\n",
    "zeros "
   ]
  },
  {
   "cell_type": "code",
   "execution_count": 85,
   "id": "3da2fc0a",
   "metadata": {},
   "outputs": [
    {
     "data": {
      "text/plain": [
       "(2, 3)"
      ]
     },
     "execution_count": 85,
     "metadata": {},
     "output_type": "execute_result"
    }
   ],
   "source": [
    "zeros.shape"
   ]
  },
  {
   "cell_type": "code",
   "execution_count": 86,
   "id": "89149575",
   "metadata": {},
   "outputs": [
    {
     "data": {
      "text/plain": [
       "array([ 0,  5, 10, 15])"
      ]
     },
     "execution_count": 86,
     "metadata": {},
     "output_type": "execute_result"
    }
   ],
   "source": [
    "# get a range array\n",
    "arry2 = np.arange(0,20,5)\n",
    "arry2"
   ]
  },
  {
   "cell_type": "code",
   "execution_count": 87,
   "id": "673e45f6",
   "metadata": {},
   "outputs": [
    {
     "data": {
      "text/plain": [
       "array([2, 6, 8, 1, 6, 4, 8, 5, 7, 1, 4, 3, 7, 6, 3, 9, 7, 8, 4, 6])"
      ]
     },
     "execution_count": 87,
     "metadata": {},
     "output_type": "execute_result"
    }
   ],
   "source": [
    "# Filling arrays with random numbers\n",
    "\n",
    "# method 1\n",
    "\n",
    "ran1 =np.random.randint(1,10,size=20)\n",
    "ran1"
   ]
  },
  {
   "cell_type": "code",
   "execution_count": 88,
   "id": "764ba9d2",
   "metadata": {},
   "outputs": [
    {
     "data": {
      "text/plain": [
       "20"
      ]
     },
     "execution_count": 88,
     "metadata": {},
     "output_type": "execute_result"
    }
   ],
   "source": [
    "ran1.size"
   ]
  },
  {
   "cell_type": "code",
   "execution_count": 89,
   "id": "7abc7ed0",
   "metadata": {},
   "outputs": [
    {
     "data": {
      "text/plain": [
       "array([[0.96990863, 0.00890753, 0.91106163],\n",
       "       [0.73807665, 0.60559044, 0.51655363],\n",
       "       [0.76869246, 0.41940279, 0.70827176]])"
      ]
     },
     "execution_count": 89,
     "metadata": {},
     "output_type": "execute_result"
    }
   ],
   "source": [
    "# method 2\n",
    "ran2 =np.random.rand(3,3)\n",
    "ran2"
   ]
  },
  {
   "cell_type": "code",
   "execution_count": 90,
   "id": "ff9bb747",
   "metadata": {},
   "outputs": [
    {
     "data": {
      "text/plain": [
       "(3, 3)"
      ]
     },
     "execution_count": 90,
     "metadata": {},
     "output_type": "execute_result"
    }
   ],
   "source": [
    "ran2.shape"
   ]
  },
  {
   "cell_type": "code",
   "execution_count": 91,
   "id": "55217aec",
   "metadata": {},
   "outputs": [
    {
     "data": {
      "text/plain": [
       "array([[0.40238618, 0.35666473, 0.13534987, 0.80562204, 0.22055787],\n",
       "       [0.90425282, 0.10567676, 0.54492841, 0.31494888, 0.94255656],\n",
       "       [0.46425659, 0.81058633, 0.82377743, 0.7139506 , 0.45049476]])"
      ]
     },
     "execution_count": 91,
     "metadata": {},
     "output_type": "execute_result"
    }
   ],
   "source": [
    "# method 3\n",
    "ran3 = np.random.random((3,5))\n",
    "ran3"
   ]
  },
  {
   "cell_type": "code",
   "execution_count": 92,
   "id": "aac6cc24",
   "metadata": {},
   "outputs": [
    {
     "data": {
      "text/plain": [
       "array([[8, 6, 2, 9, 8],\n",
       "       [9, 3, 8, 8, 8],\n",
       "       [9, 5, 3, 7, 5],\n",
       "       [4, 1, 8, 6, 6]])"
      ]
     },
     "execution_count": 92,
     "metadata": {},
     "output_type": "execute_result"
    }
   ],
   "source": [
    "# These Random numbers are pseudo-random numbers\n",
    "# they change everytime, but wht if we wanted to share our notebook with someone they wont have the same result\n",
    "\n",
    "np.random.seed(4)\n",
    "ran4 =np.random.randint(1,10,size=(4,5))\n",
    "ran4\n",
    "\n",
    "# No matter how many times I run it it give the same random number, if seed changes inly it changes"
   ]
  },
  {
   "cell_type": "markdown",
   "id": "d038a30d",
   "metadata": {},
   "source": [
    "### 3. Viewing Arrays"
   ]
  },
  {
   "cell_type": "code",
   "execution_count": 93,
   "id": "8a914fc3",
   "metadata": {},
   "outputs": [
    {
     "data": {
      "text/plain": [
       "array([1. , 2. , 3.2])"
      ]
     },
     "execution_count": 93,
     "metadata": {},
     "output_type": "execute_result"
    }
   ],
   "source": [
    "a1"
   ]
  },
  {
   "cell_type": "code",
   "execution_count": 94,
   "id": "4dfc550a",
   "metadata": {},
   "outputs": [
    {
     "data": {
      "text/plain": [
       "array([[1, 2, 3],\n",
       "       [4, 5, 6]])"
      ]
     },
     "execution_count": 94,
     "metadata": {},
     "output_type": "execute_result"
    }
   ],
   "source": [
    "a2"
   ]
  },
  {
   "cell_type": "code",
   "execution_count": 95,
   "id": "d7270009",
   "metadata": {},
   "outputs": [
    {
     "data": {
      "text/plain": [
       "array([[[ 1,  2,  3],\n",
       "        [ 4,  5,  6],\n",
       "        [ 7,  8,  9]],\n",
       "\n",
       "       [[10, 11, 12],\n",
       "        [13, 14, 15],\n",
       "        [16, 17, 18]]])"
      ]
     },
     "execution_count": 95,
     "metadata": {},
     "output_type": "execute_result"
    }
   ],
   "source": [
    "a3"
   ]
  },
  {
   "cell_type": "code",
   "execution_count": 96,
   "id": "48e3eb24",
   "metadata": {},
   "outputs": [
    {
     "data": {
      "text/plain": [
       "2.0"
      ]
     },
     "execution_count": 96,
     "metadata": {},
     "output_type": "execute_result"
    }
   ],
   "source": [
    "# We can use normal array notation to access elements as follows\n",
    "a1[1]"
   ]
  },
  {
   "cell_type": "code",
   "execution_count": 97,
   "id": "978c0740",
   "metadata": {},
   "outputs": [
    {
     "data": {
      "text/plain": [
       "array([1, 2, 3])"
      ]
     },
     "execution_count": 97,
     "metadata": {},
     "output_type": "execute_result"
    }
   ],
   "source": [
    "a2[0]"
   ]
  },
  {
   "cell_type": "code",
   "execution_count": 98,
   "id": "11e811d0",
   "metadata": {},
   "outputs": [
    {
     "data": {
      "text/plain": [
       "3"
      ]
     },
     "execution_count": 98,
     "metadata": {},
     "output_type": "execute_result"
    }
   ],
   "source": [
    "a2[0][2]"
   ]
  },
  {
   "cell_type": "code",
   "execution_count": 99,
   "id": "d504628a",
   "metadata": {},
   "outputs": [
    {
     "data": {
      "text/plain": [
       "array([ 9,  6,  6,  2, 14,  8, 17,  2,  0,  8, 19, 10, 13,  1,  0])"
      ]
     },
     "execution_count": 99,
     "metadata": {},
     "output_type": "execute_result"
    }
   ],
   "source": [
    "# we can use slicing as usual\n",
    "# It gets tricky when dimensions are higher\n",
    "rand_arr1 = np.random.randint(0,20,15)\n",
    "rand_arr1"
   ]
  },
  {
   "cell_type": "code",
   "execution_count": 100,
   "id": "1b97acf8",
   "metadata": {},
   "outputs": [
    {
     "data": {
      "text/plain": [
       "(15,)"
      ]
     },
     "execution_count": 100,
     "metadata": {},
     "output_type": "execute_result"
    }
   ],
   "source": [
    "rand_arr1.shape"
   ]
  },
  {
   "cell_type": "code",
   "execution_count": 101,
   "id": "6733c684",
   "metadata": {},
   "outputs": [
    {
     "data": {
      "text/plain": [
       "array([ 6, 14, 17,  0])"
      ]
     },
     "execution_count": 101,
     "metadata": {},
     "output_type": "execute_result"
    }
   ],
   "source": [
    "rand_arr1[2:10:2]"
   ]
  },
  {
   "cell_type": "code",
   "execution_count": 102,
   "id": "2cb4331a",
   "metadata": {},
   "outputs": [
    {
     "data": {
      "text/plain": [
       "array([[13,  3, 18, 19, 15],\n",
       "       [ 2, 18, 17, 16, 17],\n",
       "       [ 9, 16, 12, 18,  3],\n",
       "       [11, 18,  6,  7, 13],\n",
       "       [10,  7,  9, 18, 19]])"
      ]
     },
     "execution_count": 102,
     "metadata": {},
     "output_type": "execute_result"
    }
   ],
   "source": [
    "rand_arr1 = np.random.randint(0,20,(5,5))\n",
    "rand_arr1"
   ]
  },
  {
   "cell_type": "code",
   "execution_count": 103,
   "id": "9f1f8bec",
   "metadata": {},
   "outputs": [
    {
     "data": {
      "text/plain": [
       "(5, 5)"
      ]
     },
     "execution_count": 103,
     "metadata": {},
     "output_type": "execute_result"
    }
   ],
   "source": [
    "rand_arr1.shape"
   ]
  },
  {
   "cell_type": "code",
   "execution_count": 104,
   "id": "8b201333",
   "metadata": {},
   "outputs": [
    {
     "data": {
      "text/plain": [
       "array([[13,  3, 18, 19, 15],\n",
       "       [ 2, 18, 17, 16, 17],\n",
       "       [ 9, 16, 12, 18,  3]])"
      ]
     },
     "execution_count": 104,
     "metadata": {},
     "output_type": "execute_result"
    }
   ],
   "source": [
    "# Then we can do slicing in each dimension\n",
    "rand_arr1[:3]"
   ]
  },
  {
   "cell_type": "code",
   "execution_count": 105,
   "id": "7b9eb2bc",
   "metadata": {},
   "outputs": [
    {
     "data": {
      "text/plain": [
       "array([[13,  3, 18, 19, 15],\n",
       "       [ 9, 16, 12, 18,  3]])"
      ]
     },
     "execution_count": 105,
     "metadata": {},
     "output_type": "execute_result"
    }
   ],
   "source": [
    "rand_arr1[:3:2]"
   ]
  },
  {
   "cell_type": "code",
   "execution_count": 106,
   "id": "8042181b",
   "metadata": {},
   "outputs": [
    {
     "data": {
      "text/plain": [
       "array([[13,  3],\n",
       "       [ 9, 16]])"
      ]
     },
     "execution_count": 106,
     "metadata": {},
     "output_type": "execute_result"
    }
   ],
   "source": [
    "rand_arr1[:3:2,:2]"
   ]
  },
  {
   "cell_type": "code",
   "execution_count": 107,
   "id": "19618a9c",
   "metadata": {},
   "outputs": [
    {
     "data": {
      "text/plain": [
       "array([[13, 18, 15],\n",
       "       [ 9, 12,  3]])"
      ]
     },
     "execution_count": 107,
     "metadata": {},
     "output_type": "execute_result"
    }
   ],
   "source": [
    "rand_arr1[:3:2,::2]"
   ]
  },
  {
   "cell_type": "code",
   "execution_count": 108,
   "id": "2a058fcc",
   "metadata": {},
   "outputs": [],
   "source": [
    "# we can do the same for any dimension array just need to practice"
   ]
  },
  {
   "cell_type": "markdown",
   "id": "fb88b8d0",
   "metadata": {},
   "source": [
    "### 4. Manupulating and Comparing arrays"
   ]
  },
  {
   "cell_type": "markdown",
   "id": "b07aeda3",
   "metadata": {},
   "source": [
    "#### Arithmetic Operations"
   ]
  },
  {
   "cell_type": "code",
   "execution_count": 109,
   "id": "abeed3e0",
   "metadata": {},
   "outputs": [
    {
     "data": {
      "text/plain": [
       "array([1. , 2. , 3.2])"
      ]
     },
     "execution_count": 109,
     "metadata": {},
     "output_type": "execute_result"
    }
   ],
   "source": [
    "# Lets try arithmentic operations\n",
    "a1"
   ]
  },
  {
   "cell_type": "code",
   "execution_count": 110,
   "id": "dcbb368b",
   "metadata": {},
   "outputs": [
    {
     "data": {
      "text/plain": [
       "array([1., 1., 1.])"
      ]
     },
     "execution_count": 110,
     "metadata": {},
     "output_type": "execute_result"
    }
   ],
   "source": [
    "ones =np.ones(3)\n",
    "ones"
   ]
  },
  {
   "cell_type": "code",
   "execution_count": 111,
   "id": "b26c6e75",
   "metadata": {},
   "outputs": [
    {
     "data": {
      "text/plain": [
       "array([2. , 3. , 4.2])"
      ]
     },
     "execution_count": 111,
     "metadata": {},
     "output_type": "execute_result"
    }
   ],
   "source": [
    "# + Operation\n",
    "a1+ones"
   ]
  },
  {
   "cell_type": "code",
   "execution_count": 112,
   "id": "d25b8afc",
   "metadata": {},
   "outputs": [
    {
     "data": {
      "text/plain": [
       "array([1. , 2. , 3.2])"
      ]
     },
     "execution_count": 112,
     "metadata": {},
     "output_type": "execute_result"
    }
   ],
   "source": [
    "a1"
   ]
  },
  {
   "cell_type": "code",
   "execution_count": 113,
   "id": "15c372b0",
   "metadata": {},
   "outputs": [
    {
     "data": {
      "text/plain": [
       "array([1., 1., 1.])"
      ]
     },
     "execution_count": 113,
     "metadata": {},
     "output_type": "execute_result"
    }
   ],
   "source": [
    "ones"
   ]
  },
  {
   "cell_type": "code",
   "execution_count": 114,
   "id": "1d1cc2ea",
   "metadata": {},
   "outputs": [
    {
     "data": {
      "text/plain": [
       "array([0. , 1. , 2.2])"
      ]
     },
     "execution_count": 114,
     "metadata": {},
     "output_type": "execute_result"
    }
   ],
   "source": [
    "# - Operation\n",
    "a1-ones"
   ]
  },
  {
   "cell_type": "code",
   "execution_count": 115,
   "id": "05cb8b4e",
   "metadata": {},
   "outputs": [
    {
     "data": {
      "text/plain": [
       "array([[1, 2, 3],\n",
       "       [4, 5, 6]])"
      ]
     },
     "execution_count": 115,
     "metadata": {},
     "output_type": "execute_result"
    }
   ],
   "source": [
    "a2"
   ]
  },
  {
   "cell_type": "code",
   "execution_count": 116,
   "id": "c2d58d62",
   "metadata": {},
   "outputs": [
    {
     "data": {
      "text/plain": [
       "array([1., 1., 1.])"
      ]
     },
     "execution_count": 116,
     "metadata": {},
     "output_type": "execute_result"
    }
   ],
   "source": [
    "ones"
   ]
  },
  {
   "cell_type": "code",
   "execution_count": 117,
   "id": "eda3b066",
   "metadata": {},
   "outputs": [
    {
     "data": {
      "text/plain": [
       "array([[0., 1., 2.],\n",
       "       [3., 4., 5.]])"
      ]
     },
     "execution_count": 117,
     "metadata": {},
     "output_type": "execute_result"
    }
   ],
   "source": [
    "a2-ones"
   ]
  },
  {
   "cell_type": "code",
   "execution_count": 118,
   "id": "be7bdabe",
   "metadata": {},
   "outputs": [],
   "source": [
    "# Interesting, Because according to our understanding matric need to be same shape to be + or -"
   ]
  },
  {
   "cell_type": "code",
   "execution_count": 119,
   "id": "80c7d019",
   "metadata": {},
   "outputs": [
    {
     "data": {
      "text/plain": [
       "array([1. , 2. , 3.2])"
      ]
     },
     "execution_count": 119,
     "metadata": {},
     "output_type": "execute_result"
    }
   ],
   "source": [
    "a1"
   ]
  },
  {
   "cell_type": "code",
   "execution_count": 120,
   "id": "d8dc63bc",
   "metadata": {},
   "outputs": [
    {
     "data": {
      "text/plain": [
       "array([[1, 2, 3],\n",
       "       [4, 5, 6]])"
      ]
     },
     "execution_count": 120,
     "metadata": {},
     "output_type": "execute_result"
    }
   ],
   "source": [
    "a2"
   ]
  },
  {
   "cell_type": "code",
   "execution_count": 121,
   "id": "4198f42d",
   "metadata": {},
   "outputs": [
    {
     "data": {
      "text/plain": [
       "array([[2. , 4. , 6.2],\n",
       "       [5. , 7. , 9.2]])"
      ]
     },
     "execution_count": 121,
     "metadata": {},
     "output_type": "execute_result"
    }
   ],
   "source": [
    "a1+a2"
   ]
  },
  {
   "cell_type": "code",
   "execution_count": 122,
   "id": "feb9ba77",
   "metadata": {},
   "outputs": [
    {
     "data": {
      "text/plain": [
       "array([1. , 2. , 3.2])"
      ]
     },
     "execution_count": 122,
     "metadata": {},
     "output_type": "execute_result"
    }
   ],
   "source": [
    "a1"
   ]
  },
  {
   "cell_type": "code",
   "execution_count": 123,
   "id": "73c3af1b",
   "metadata": {},
   "outputs": [
    {
     "data": {
      "text/plain": [
       "array([[1, 2, 3],\n",
       "       [4, 5, 6]])"
      ]
     },
     "execution_count": 123,
     "metadata": {},
     "output_type": "execute_result"
    }
   ],
   "source": [
    "a2"
   ]
  },
  {
   "cell_type": "code",
   "execution_count": 124,
   "id": "aec89627",
   "metadata": {},
   "outputs": [
    {
     "data": {
      "text/plain": [
       "array([[ 0. ,  0. , -0.2],\n",
       "       [ 3. ,  3. ,  2.8]])"
      ]
     },
     "execution_count": 124,
     "metadata": {},
     "output_type": "execute_result"
    }
   ],
   "source": [
    "a2-a1"
   ]
  },
  {
   "cell_type": "code",
   "execution_count": 125,
   "id": "c1018082",
   "metadata": {},
   "outputs": [
    {
     "data": {
      "text/plain": [
       "array([1. , 2. , 3.2])"
      ]
     },
     "execution_count": 125,
     "metadata": {},
     "output_type": "execute_result"
    }
   ],
   "source": [
    "a1"
   ]
  },
  {
   "cell_type": "code",
   "execution_count": 126,
   "id": "33df9c64",
   "metadata": {},
   "outputs": [
    {
     "data": {
      "text/plain": [
       "array([[1, 2, 3],\n",
       "       [4, 5, 6]])"
      ]
     },
     "execution_count": 126,
     "metadata": {},
     "output_type": "execute_result"
    }
   ],
   "source": [
    "a2"
   ]
  },
  {
   "cell_type": "code",
   "execution_count": 127,
   "id": "1c371697",
   "metadata": {},
   "outputs": [
    {
     "data": {
      "text/plain": [
       "array([[ 0. ,  0. ,  0.2],\n",
       "       [-3. , -3. , -2.8]])"
      ]
     },
     "execution_count": 127,
     "metadata": {},
     "output_type": "execute_result"
    }
   ],
   "source": [
    "a1-a2"
   ]
  },
  {
   "cell_type": "code",
   "execution_count": 128,
   "id": "4ebe01b2",
   "metadata": {},
   "outputs": [
    {
     "data": {
      "text/plain": [
       "((3,), (2, 3))"
      ]
     },
     "execution_count": 128,
     "metadata": {},
     "output_type": "execute_result"
    }
   ],
   "source": [
    "a1.shape, a2.shape"
   ]
  },
  {
   "cell_type": "code",
   "execution_count": 129,
   "id": "383998be",
   "metadata": {},
   "outputs": [
    {
     "data": {
      "text/plain": [
       "array([[ 1. ,  4. ,  9.6],\n",
       "       [ 4. , 10. , 19.2]])"
      ]
     },
     "execution_count": 129,
     "metadata": {},
     "output_type": "execute_result"
    }
   ],
   "source": [
    "# * Operatoe\n",
    "a1*a2"
   ]
  },
  {
   "cell_type": "code",
   "execution_count": 130,
   "id": "22381b46",
   "metadata": {},
   "outputs": [
    {
     "data": {
      "text/plain": [
       "array([[1.        , 1.        , 1.06666667],\n",
       "       [0.25      , 0.4       , 0.53333333]])"
      ]
     },
     "execution_count": 130,
     "metadata": {},
     "output_type": "execute_result"
    }
   ],
   "source": [
    "# / operator\n",
    "a1/a2"
   ]
  },
  {
   "cell_type": "code",
   "execution_count": 131,
   "id": "246fd180",
   "metadata": {},
   "outputs": [
    {
     "data": {
      "text/plain": [
       "array([1. , 2. , 3.2])"
      ]
     },
     "execution_count": 131,
     "metadata": {},
     "output_type": "execute_result"
    }
   ],
   "source": [
    "a1 "
   ]
  },
  {
   "cell_type": "code",
   "execution_count": 132,
   "id": "3394c693",
   "metadata": {},
   "outputs": [
    {
     "data": {
      "text/plain": [
       "array([[1, 2, 3],\n",
       "       [4, 5, 6]])"
      ]
     },
     "execution_count": 132,
     "metadata": {},
     "output_type": "execute_result"
    }
   ],
   "source": [
    "a2"
   ]
  },
  {
   "cell_type": "code",
   "execution_count": 133,
   "id": "235e3cf7",
   "metadata": {},
   "outputs": [
    {
     "data": {
      "text/plain": [
       "array([[0. , 0. , 0.2],\n",
       "       [1. , 2. , 3.2]])"
      ]
     },
     "execution_count": 133,
     "metadata": {},
     "output_type": "execute_result"
    }
   ],
   "source": [
    "# % operator\n",
    "a1%a2"
   ]
  },
  {
   "cell_type": "code",
   "execution_count": 134,
   "id": "6d30da36",
   "metadata": {},
   "outputs": [
    {
     "data": {
      "text/plain": [
       "array([[1, 2, 3],\n",
       "       [4, 5, 6]])"
      ]
     },
     "execution_count": 134,
     "metadata": {},
     "output_type": "execute_result"
    }
   ],
   "source": [
    "a2"
   ]
  },
  {
   "cell_type": "code",
   "execution_count": 135,
   "id": "fc5627bf",
   "metadata": {},
   "outputs": [
    {
     "data": {
      "text/plain": [
       "21"
      ]
     },
     "execution_count": 135,
     "metadata": {},
     "output_type": "execute_result"
    }
   ],
   "source": [
    "# .sum() method\n",
    "a2.sum()"
   ]
  },
  {
   "cell_type": "code",
   "execution_count": 136,
   "id": "74ae40d1",
   "metadata": {},
   "outputs": [
    {
     "data": {
      "text/plain": [
       "3.5"
      ]
     },
     "execution_count": 136,
     "metadata": {},
     "output_type": "execute_result"
    }
   ],
   "source": [
    "# .mean() method\n",
    "a2.mean()"
   ]
  },
  {
   "cell_type": "code",
   "execution_count": 137,
   "id": "be132017",
   "metadata": {},
   "outputs": [
    {
     "data": {
      "text/plain": [
       "(6, 1)"
      ]
     },
     "execution_count": 137,
     "metadata": {},
     "output_type": "execute_result"
    }
   ],
   "source": [
    "# .max() & .min() methods\n",
    "a2.max(), a2.min()"
   ]
  },
  {
   "cell_type": "code",
   "execution_count": 138,
   "id": "4caa76f8",
   "metadata": {},
   "outputs": [
    {
     "data": {
      "text/plain": [
       "array([[1, 2, 3],\n",
       "       [4, 5, 6]])"
      ]
     },
     "execution_count": 138,
     "metadata": {},
     "output_type": "execute_result"
    }
   ],
   "source": [
    "a2"
   ]
  },
  {
   "cell_type": "code",
   "execution_count": 139,
   "id": "e879a4c6",
   "metadata": {},
   "outputs": [
    {
     "data": {
      "text/plain": [
       "array([[[ 1,  2,  3],\n",
       "        [ 4,  5,  6],\n",
       "        [ 7,  8,  9]],\n",
       "\n",
       "       [[10, 11, 12],\n",
       "        [13, 14, 15],\n",
       "        [16, 17, 18]]])"
      ]
     },
     "execution_count": 139,
     "metadata": {},
     "output_type": "execute_result"
    }
   ],
   "source": [
    "a3"
   ]
  },
  {
   "cell_type": "code",
   "execution_count": 140,
   "id": "b683fcde",
   "metadata": {},
   "outputs": [
    {
     "ename": "ValueError",
     "evalue": "operands could not be broadcast together with shapes (2,3) (2,3,3) ",
     "output_type": "error",
     "traceback": [
      "\u001b[1;31m---------------------------------------------------------------------------\u001b[0m",
      "\u001b[1;31mValueError\u001b[0m                                Traceback (most recent call last)",
      "Input \u001b[1;32mIn [140]\u001b[0m, in \u001b[0;36m<cell line: 1>\u001b[1;34m()\u001b[0m\n\u001b[1;32m----> 1\u001b[0m \u001b[43ma2\u001b[49m\u001b[38;5;241;43m+\u001b[39;49m\u001b[43ma3\u001b[49m\n",
      "\u001b[1;31mValueError\u001b[0m: operands could not be broadcast together with shapes (2,3) (2,3,3) "
     ]
    }
   ],
   "source": [
    "a2+a3"
   ]
  },
  {
   "cell_type": "code",
   "execution_count": 141,
   "id": "793610be",
   "metadata": {},
   "outputs": [
    {
     "data": {
      "text/plain": [
       "((2, 3), (2, 3, 3))"
      ]
     },
     "execution_count": 141,
     "metadata": {},
     "output_type": "execute_result"
    }
   ],
   "source": [
    "# Hmm why is this\n",
    "# lets check the shape\n",
    "a2.shape, a3.shape"
   ]
  },
  {
   "cell_type": "code",
   "execution_count": 142,
   "id": "e556e257",
   "metadata": {},
   "outputs": [],
   "source": [
    "#We have to reshape the a2 in to a similar shape"
   ]
  },
  {
   "cell_type": "markdown",
   "id": "d27690d5",
   "metadata": {},
   "source": [
    "* \"NumPy operations are usually done on pairs of arrays on an __element-by-element basis__. In the simplest case, the two arrays __must have exactly the same shape__.\" ~NumPy Documentation"
   ]
  },
  {
   "cell_type": "markdown",
   "id": "e0c7f459",
   "metadata": {},
   "source": [
    "* When operating on two arrays, NumPy compares their shapes element-wise. It starts with the trailing (i.e. rightmost) dimension and works its way left. Two dimensions are compatible when\n",
    "    1. they are equal, or\n",
    "    2. one of them is 1\n",
    "\n",
    "\n",
    "* If these conditions are not met, a `ValueError: operands could not be broadcast together` exception is thrown, indicating that the arrays have incompatible shapes\n",
    "\n",
    "~NumPy Documentation"
   ]
  },
  {
   "cell_type": "code",
   "execution_count": 143,
   "id": "e1d99135",
   "metadata": {},
   "outputs": [],
   "source": [
    "# Since a2 shape is (2,3) we have to reshape it into a shape of (2,3,3) or (2,3,1)\n",
    "a2_reshaped1 = a2.reshape((2,3,1))"
   ]
  },
  {
   "cell_type": "code",
   "execution_count": 144,
   "id": "4a892782",
   "metadata": {},
   "outputs": [
    {
     "data": {
      "text/plain": [
       "array([[[1],\n",
       "        [2],\n",
       "        [3]],\n",
       "\n",
       "       [[4],\n",
       "        [5],\n",
       "        [6]]])"
      ]
     },
     "execution_count": 144,
     "metadata": {},
     "output_type": "execute_result"
    }
   ],
   "source": [
    "a2_reshaped1"
   ]
  },
  {
   "cell_type": "code",
   "execution_count": 145,
   "id": "09efc217",
   "metadata": {},
   "outputs": [
    {
     "data": {
      "text/plain": [
       "array([[[ 1,  2,  3],\n",
       "        [ 4,  5,  6],\n",
       "        [ 7,  8,  9]],\n",
       "\n",
       "       [[10, 11, 12],\n",
       "        [13, 14, 15],\n",
       "        [16, 17, 18]]])"
      ]
     },
     "execution_count": 145,
     "metadata": {},
     "output_type": "execute_result"
    }
   ],
   "source": [
    "a3"
   ]
  },
  {
   "cell_type": "code",
   "execution_count": 146,
   "id": "95f63d2b",
   "metadata": {},
   "outputs": [
    {
     "data": {
      "text/plain": [
       "array([[[  1,   2,   3],\n",
       "        [  8,  10,  12],\n",
       "        [ 21,  24,  27]],\n",
       "\n",
       "       [[ 40,  44,  48],\n",
       "        [ 65,  70,  75],\n",
       "        [ 96, 102, 108]]])"
      ]
     },
     "execution_count": 146,
     "metadata": {},
     "output_type": "execute_result"
    }
   ],
   "source": [
    "a2_reshaped1 * a3"
   ]
  },
  {
   "cell_type": "markdown",
   "id": "f429aaa6",
   "metadata": {},
   "source": [
    "#### Aggregation\n",
    "\n",
    "Aggregation = doing the same operation for multiple elements at the same time "
   ]
  },
  {
   "cell_type": "markdown",
   "id": "6fff9654",
   "metadata": {},
   "source": [
    "* __Rule of thumb :__ Always use python methods (`sum()`) on python data structures and Numpy methods (`np.sum()`) on NumPy data structures."
   ]
  },
  {
   "cell_type": "code",
   "execution_count": 147,
   "id": "6cd8e113",
   "metadata": {},
   "outputs": [
    {
     "data": {
      "text/plain": [
       "array([0.35876637, 0.08316909, 0.25290961, 0.0474055 , 0.92940665,\n",
       "       0.23614132, 0.81090494, 0.12618166, 0.07570637, 0.68558821])"
      ]
     },
     "execution_count": 147,
     "metadata": {},
     "output_type": "execute_result"
    }
   ],
   "source": [
    "# lets see this in action\n",
    "\n",
    "test_arry = np.random.random(100000)\n",
    "test_arry[:10]"
   ]
  },
  {
   "cell_type": "code",
   "execution_count": 148,
   "id": "9e30393f",
   "metadata": {},
   "outputs": [
    {
     "name": "stdout",
     "output_type": "stream",
     "text": [
      "8.38 ms ± 523 µs per loop (mean ± std. dev. of 7 runs, 100 loops each)\n",
      "44.3 µs ± 765 ns per loop (mean ± std. dev. of 7 runs, 10,000 loops each)\n"
     ]
    }
   ],
   "source": [
    "%timeit sum(test_arry) # Python's sum Method\n",
    "%timeit np.sum(test_arry) # NumPy's sum Method"
   ]
  },
  {
   "cell_type": "markdown",
   "id": "ae885ef3",
   "metadata": {},
   "source": [
    "#### Reshaping and Transpose"
   ]
  },
  {
   "cell_type": "code",
   "execution_count": 149,
   "id": "c04a7585",
   "metadata": {},
   "outputs": [],
   "source": [
    "# We discussed Reshape in above section"
   ]
  },
  {
   "cell_type": "code",
   "execution_count": 150,
   "id": "7ed93a82",
   "metadata": {},
   "outputs": [
    {
     "data": {
      "text/plain": [
       "array([[1, 2, 3],\n",
       "       [4, 5, 6]])"
      ]
     },
     "execution_count": 150,
     "metadata": {},
     "output_type": "execute_result"
    }
   ],
   "source": [
    "# Transpose\n",
    "a2"
   ]
  },
  {
   "cell_type": "code",
   "execution_count": 151,
   "id": "ef94553f",
   "metadata": {},
   "outputs": [
    {
     "data": {
      "text/plain": [
       "(2, 3)"
      ]
     },
     "execution_count": 151,
     "metadata": {},
     "output_type": "execute_result"
    }
   ],
   "source": [
    "a2.shape"
   ]
  },
  {
   "cell_type": "code",
   "execution_count": 152,
   "id": "68f7a581",
   "metadata": {},
   "outputs": [
    {
     "data": {
      "text/plain": [
       "array([[1, 4],\n",
       "       [2, 5],\n",
       "       [3, 6]])"
      ]
     },
     "execution_count": 152,
     "metadata": {},
     "output_type": "execute_result"
    }
   ],
   "source": [
    "a2_trans= a2.transpose()\n",
    "a2_trans"
   ]
  },
  {
   "cell_type": "code",
   "execution_count": 153,
   "id": "4fa345df",
   "metadata": {},
   "outputs": [
    {
     "data": {
      "text/plain": [
       "(3, 2)"
      ]
     },
     "execution_count": 153,
     "metadata": {},
     "output_type": "execute_result"
    }
   ],
   "source": [
    "a2_trans.shape"
   ]
  },
  {
   "cell_type": "code",
   "execution_count": 154,
   "id": "26f43b21",
   "metadata": {},
   "outputs": [
    {
     "data": {
      "text/plain": [
       "array([[[ 1,  2,  3],\n",
       "        [ 4,  5,  6],\n",
       "        [ 7,  8,  9]],\n",
       "\n",
       "       [[10, 11, 12],\n",
       "        [13, 14, 15],\n",
       "        [16, 17, 18]]])"
      ]
     },
     "execution_count": 154,
     "metadata": {},
     "output_type": "execute_result"
    }
   ],
   "source": [
    "a3"
   ]
  },
  {
   "cell_type": "code",
   "execution_count": 155,
   "id": "80c25125",
   "metadata": {},
   "outputs": [
    {
     "data": {
      "text/plain": [
       "(2, 3, 3)"
      ]
     },
     "execution_count": 155,
     "metadata": {},
     "output_type": "execute_result"
    }
   ],
   "source": [
    "a3.shape"
   ]
  },
  {
   "cell_type": "code",
   "execution_count": 156,
   "id": "faa78f45",
   "metadata": {},
   "outputs": [
    {
     "data": {
      "text/plain": [
       "array([[[ 1, 10],\n",
       "        [ 4, 13],\n",
       "        [ 7, 16]],\n",
       "\n",
       "       [[ 2, 11],\n",
       "        [ 5, 14],\n",
       "        [ 8, 17]],\n",
       "\n",
       "       [[ 3, 12],\n",
       "        [ 6, 15],\n",
       "        [ 9, 18]]])"
      ]
     },
     "execution_count": 156,
     "metadata": {},
     "output_type": "execute_result"
    }
   ],
   "source": [
    "a3_trans = a3.transpose()\n",
    "a3_trans"
   ]
  },
  {
   "cell_type": "code",
   "execution_count": 157,
   "id": "1ab5bb28",
   "metadata": {},
   "outputs": [
    {
     "data": {
      "text/plain": [
       "(3, 3, 2)"
      ]
     },
     "execution_count": 157,
     "metadata": {},
     "output_type": "execute_result"
    }
   ],
   "source": [
    "a3_trans.shape"
   ]
  },
  {
   "cell_type": "code",
   "execution_count": 158,
   "id": "340d3db9",
   "metadata": {},
   "outputs": [],
   "source": [
    "# Dot Product VS Element wise Product\n",
    "\n",
    "np.random.seed(0) # So that random values wo't change overtime\n",
    "mat1 = np.random.randint(0,20,(5,3))\n",
    "mat2 = np.random.randint(0,20,(5,3))"
   ]
  },
  {
   "cell_type": "code",
   "execution_count": 159,
   "id": "34992b47",
   "metadata": {},
   "outputs": [
    {
     "data": {
      "text/plain": [
       "array([[12, 15,  0],\n",
       "       [ 3,  3,  7],\n",
       "       [ 9, 19, 18],\n",
       "       [ 4,  6, 12],\n",
       "       [ 1,  6,  7]])"
      ]
     },
     "execution_count": 159,
     "metadata": {},
     "output_type": "execute_result"
    }
   ],
   "source": [
    "mat1"
   ]
  },
  {
   "cell_type": "code",
   "execution_count": 160,
   "id": "1d9469fe",
   "metadata": {},
   "outputs": [
    {
     "data": {
      "text/plain": [
       "array([[14, 17,  5],\n",
       "       [13,  8,  9],\n",
       "       [19, 16, 19],\n",
       "       [ 5, 15, 15],\n",
       "       [ 0, 18,  3]])"
      ]
     },
     "execution_count": 160,
     "metadata": {},
     "output_type": "execute_result"
    }
   ],
   "source": [
    "mat2"
   ]
  },
  {
   "cell_type": "code",
   "execution_count": 161,
   "id": "c520273d",
   "metadata": {},
   "outputs": [
    {
     "ename": "ValueError",
     "evalue": "shapes (5,3) and (5,3) not aligned: 3 (dim 1) != 5 (dim 0)",
     "output_type": "error",
     "traceback": [
      "\u001b[1;31m---------------------------------------------------------------------------\u001b[0m",
      "\u001b[1;31mValueError\u001b[0m                                Traceback (most recent call last)",
      "Input \u001b[1;32mIn [161]\u001b[0m, in \u001b[0;36m<cell line: 1>\u001b[1;34m()\u001b[0m\n\u001b[1;32m----> 1\u001b[0m \u001b[43mnp\u001b[49m\u001b[38;5;241;43m.\u001b[39;49m\u001b[43mdot\u001b[49m\u001b[43m(\u001b[49m\u001b[43mmat1\u001b[49m\u001b[43m,\u001b[49m\u001b[43mmat2\u001b[49m\u001b[43m)\u001b[49m\n",
      "File \u001b[1;32m<__array_function__ internals>:5\u001b[0m, in \u001b[0;36mdot\u001b[1;34m(*args, **kwargs)\u001b[0m\n",
      "\u001b[1;31mValueError\u001b[0m: shapes (5,3) and (5,3) not aligned: 3 (dim 1) != 5 (dim 0)"
     ]
    }
   ],
   "source": [
    "np.dot(mat1,mat2)"
   ]
  },
  {
   "cell_type": "code",
   "execution_count": 164,
   "id": "be3cdfc0",
   "metadata": {},
   "outputs": [
    {
     "data": {
      "text/plain": [
       "array([[423, 276, 468, 285, 270],\n",
       "       [128, 126, 238, 165,  75],\n",
       "       [539, 431, 817, 600, 396],\n",
       "       [218, 208, 400, 290, 144],\n",
       "       [151, 124, 248, 200, 129]])"
      ]
     },
     "execution_count": 164,
     "metadata": {},
     "output_type": "execute_result"
    }
   ],
   "source": [
    "# Values of the  shapes inner value should be same\n",
    "mat3 = np.dot(mat1,mat2.T)\n",
    "mat3"
   ]
  },
  {
   "cell_type": "code",
   "execution_count": 165,
   "id": "82108e0b",
   "metadata": {},
   "outputs": [
    {
     "data": {
      "text/plain": [
       "(5, 5)"
      ]
     },
     "execution_count": 165,
     "metadata": {},
     "output_type": "execute_result"
    }
   ],
   "source": [
    "mat3.shape"
   ]
  },
  {
   "cell_type": "code",
   "execution_count": 166,
   "id": "017a8046",
   "metadata": {},
   "outputs": [
    {
     "data": {
      "text/plain": [
       "array([[12, 15,  0],\n",
       "       [ 3,  3,  7],\n",
       "       [ 9, 19, 18],\n",
       "       [ 4,  6, 12],\n",
       "       [ 1,  6,  7]])"
      ]
     },
     "execution_count": 166,
     "metadata": {},
     "output_type": "execute_result"
    }
   ],
   "source": [
    "mat1"
   ]
  },
  {
   "cell_type": "code",
   "execution_count": 167,
   "id": "13ce1e6b",
   "metadata": {},
   "outputs": [
    {
     "data": {
      "text/plain": [
       "array([[14, 17,  5],\n",
       "       [13,  8,  9],\n",
       "       [19, 16, 19],\n",
       "       [ 5, 15, 15],\n",
       "       [ 0, 18,  3]])"
      ]
     },
     "execution_count": 167,
     "metadata": {},
     "output_type": "execute_result"
    }
   ],
   "source": [
    "mat2"
   ]
  },
  {
   "cell_type": "code",
   "execution_count": 168,
   "id": "3d4334cc",
   "metadata": {},
   "outputs": [
    {
     "data": {
      "text/plain": [
       "array([[168, 255,   0],\n",
       "       [ 39,  24,  63],\n",
       "       [171, 304, 342],\n",
       "       [ 20,  90, 180],\n",
       "       [  0, 108,  21]])"
      ]
     },
     "execution_count": 168,
     "metadata": {},
     "output_type": "execute_result"
    }
   ],
   "source": [
    "# Element wise\n",
    "np.multiply(mat1,mat2)"
   ]
  },
  {
   "cell_type": "code",
   "execution_count": 169,
   "id": "0bcd0e1b",
   "metadata": {},
   "outputs": [
    {
     "data": {
      "text/plain": [
       "array([[12, 15,  0],\n",
       "       [ 3,  3,  7],\n",
       "       [ 9, 19, 18],\n",
       "       [ 4,  6, 12],\n",
       "       [ 1,  6,  7]])"
      ]
     },
     "execution_count": 169,
     "metadata": {},
     "output_type": "execute_result"
    }
   ],
   "source": [
    "# Nutty Butter store example\n",
    "np.random.seed(0)\n",
    "daily_sales_arry =np.random.randint(0,20,(5,3))\n",
    "daily_sales_arry"
   ]
  },
  {
   "cell_type": "code",
   "execution_count": 170,
   "id": "4c8b53aa",
   "metadata": {},
   "outputs": [
    {
     "data": {
      "text/html": [
       "<div>\n",
       "<style scoped>\n",
       "    .dataframe tbody tr th:only-of-type {\n",
       "        vertical-align: middle;\n",
       "    }\n",
       "\n",
       "    .dataframe tbody tr th {\n",
       "        vertical-align: top;\n",
       "    }\n",
       "\n",
       "    .dataframe thead th {\n",
       "        text-align: right;\n",
       "    }\n",
       "</style>\n",
       "<table border=\"1\" class=\"dataframe\">\n",
       "  <thead>\n",
       "    <tr style=\"text-align: right;\">\n",
       "      <th></th>\n",
       "      <th>Almond Butter</th>\n",
       "      <th>Peanut Butter</th>\n",
       "      <th>Cashew Butter</th>\n",
       "    </tr>\n",
       "  </thead>\n",
       "  <tbody>\n",
       "    <tr>\n",
       "      <th>Mon</th>\n",
       "      <td>12</td>\n",
       "      <td>15</td>\n",
       "      <td>0</td>\n",
       "    </tr>\n",
       "    <tr>\n",
       "      <th>Tues</th>\n",
       "      <td>3</td>\n",
       "      <td>3</td>\n",
       "      <td>7</td>\n",
       "    </tr>\n",
       "    <tr>\n",
       "      <th>Wen</th>\n",
       "      <td>9</td>\n",
       "      <td>19</td>\n",
       "      <td>18</td>\n",
       "    </tr>\n",
       "    <tr>\n",
       "      <th>Thur</th>\n",
       "      <td>4</td>\n",
       "      <td>6</td>\n",
       "      <td>12</td>\n",
       "    </tr>\n",
       "    <tr>\n",
       "      <th>Fri</th>\n",
       "      <td>1</td>\n",
       "      <td>6</td>\n",
       "      <td>7</td>\n",
       "    </tr>\n",
       "  </tbody>\n",
       "</table>\n",
       "</div>"
      ],
      "text/plain": [
       "      Almond Butter  Peanut Butter  Cashew Butter\n",
       "Mon              12             15              0\n",
       "Tues              3              3              7\n",
       "Wen               9             19             18\n",
       "Thur              4              6             12\n",
       "Fri               1              6              7"
      ]
     },
     "execution_count": 170,
     "metadata": {},
     "output_type": "execute_result"
    }
   ],
   "source": [
    "# Lets create a dataframe using this\n",
    "\n",
    "daily_sales_df = pd.DataFrame(daily_sales_arry,index=['Mon','Tues','Wen','Thur','Fri'],columns=['Almond Butter', 'Peanut Butter','Cashew Butter'])\n",
    "daily_sales_df"
   ]
  },
  {
   "cell_type": "code",
   "execution_count": 171,
   "id": "f737467c",
   "metadata": {},
   "outputs": [
    {
     "data": {
      "text/plain": [
       "(5, 3)"
      ]
     },
     "execution_count": 171,
     "metadata": {},
     "output_type": "execute_result"
    }
   ],
   "source": [
    "# shape of the data frame\n",
    "daily_sales_df.shape"
   ]
  },
  {
   "cell_type": "code",
   "execution_count": 172,
   "id": "afaa03c9",
   "metadata": {},
   "outputs": [
    {
     "ename": "ValueError",
     "evalue": "Must pass 2-d input. shape=(22, 15, 18)",
     "output_type": "error",
     "traceback": [
      "\u001b[1;31m---------------------------------------------------------------------------\u001b[0m",
      "\u001b[1;31mValueError\u001b[0m                                Traceback (most recent call last)",
      "Input \u001b[1;32mIn [172]\u001b[0m, in \u001b[0;36m<cell line: 5>\u001b[1;34m()\u001b[0m\n\u001b[0;32m      2\u001b[0m price_arry \u001b[38;5;241m=\u001b[39m np\u001b[38;5;241m.\u001b[39mndarray([\u001b[38;5;241m22\u001b[39m,\u001b[38;5;241m15\u001b[39m,\u001b[38;5;241m18\u001b[39m])\n\u001b[0;32m      4\u001b[0m \u001b[38;5;66;03m# Creating a price dataframe\u001b[39;00m\n\u001b[1;32m----> 5\u001b[0m price_df \u001b[38;5;241m=\u001b[39m \u001b[43mpd\u001b[49m\u001b[38;5;241;43m.\u001b[39;49m\u001b[43mDataFrame\u001b[49m\u001b[43m(\u001b[49m\u001b[43mprice_arry\u001b[49m\u001b[43m,\u001b[49m\u001b[43mindex\u001b[49m\u001b[38;5;241;43m=\u001b[39;49m\u001b[43m[\u001b[49m\u001b[38;5;124;43m'\u001b[39;49m\u001b[38;5;124;43mprice\u001b[39;49m\u001b[38;5;124;43m'\u001b[39;49m\u001b[43m]\u001b[49m\u001b[43m,\u001b[49m\u001b[43m \u001b[49m\u001b[43mcolumns\u001b[49m\u001b[38;5;241;43m=\u001b[39;49m\u001b[43m[\u001b[49m\u001b[38;5;124;43m'\u001b[39;49m\u001b[38;5;124;43mAlmond Butter\u001b[39;49m\u001b[38;5;124;43m'\u001b[39;49m\u001b[43m,\u001b[49m\u001b[43m \u001b[49m\u001b[38;5;124;43m'\u001b[39;49m\u001b[38;5;124;43mPeanut Butter\u001b[39;49m\u001b[38;5;124;43m'\u001b[39;49m\u001b[43m,\u001b[49m\u001b[38;5;124;43m'\u001b[39;49m\u001b[38;5;124;43mCashew Butter\u001b[39;49m\u001b[38;5;124;43m'\u001b[39;49m\u001b[43m]\u001b[49m\u001b[43m)\u001b[49m\n\u001b[0;32m      6\u001b[0m price_df\n",
      "File \u001b[1;32mD:\\Learn And Projects\\ML Learn Projects\\dummy_project\\env\\lib\\site-packages\\pandas\\core\\frame.py:694\u001b[0m, in \u001b[0;36mDataFrame.__init__\u001b[1;34m(self, data, index, columns, dtype, copy)\u001b[0m\n\u001b[0;32m    684\u001b[0m         mgr \u001b[38;5;241m=\u001b[39m dict_to_mgr(\n\u001b[0;32m    685\u001b[0m             \u001b[38;5;66;03m# error: Item \"ndarray\" of \"Union[ndarray, Series, Index]\" has no\u001b[39;00m\n\u001b[0;32m    686\u001b[0m             \u001b[38;5;66;03m# attribute \"name\"\u001b[39;00m\n\u001b[1;32m   (...)\u001b[0m\n\u001b[0;32m    691\u001b[0m             typ\u001b[38;5;241m=\u001b[39mmanager,\n\u001b[0;32m    692\u001b[0m         )\n\u001b[0;32m    693\u001b[0m     \u001b[38;5;28;01melse\u001b[39;00m:\n\u001b[1;32m--> 694\u001b[0m         mgr \u001b[38;5;241m=\u001b[39m \u001b[43mndarray_to_mgr\u001b[49m\u001b[43m(\u001b[49m\n\u001b[0;32m    695\u001b[0m \u001b[43m            \u001b[49m\u001b[43mdata\u001b[49m\u001b[43m,\u001b[49m\n\u001b[0;32m    696\u001b[0m \u001b[43m            \u001b[49m\u001b[43mindex\u001b[49m\u001b[43m,\u001b[49m\n\u001b[0;32m    697\u001b[0m \u001b[43m            \u001b[49m\u001b[43mcolumns\u001b[49m\u001b[43m,\u001b[49m\n\u001b[0;32m    698\u001b[0m \u001b[43m            \u001b[49m\u001b[43mdtype\u001b[49m\u001b[38;5;241;43m=\u001b[39;49m\u001b[43mdtype\u001b[49m\u001b[43m,\u001b[49m\n\u001b[0;32m    699\u001b[0m \u001b[43m            \u001b[49m\u001b[43mcopy\u001b[49m\u001b[38;5;241;43m=\u001b[39;49m\u001b[43mcopy\u001b[49m\u001b[43m,\u001b[49m\n\u001b[0;32m    700\u001b[0m \u001b[43m            \u001b[49m\u001b[43mtyp\u001b[49m\u001b[38;5;241;43m=\u001b[39;49m\u001b[43mmanager\u001b[49m\u001b[43m,\u001b[49m\n\u001b[0;32m    701\u001b[0m \u001b[43m        \u001b[49m\u001b[43m)\u001b[49m\n\u001b[0;32m    703\u001b[0m \u001b[38;5;66;03m# For data is list-like, or Iterable (will consume into list)\u001b[39;00m\n\u001b[0;32m    704\u001b[0m \u001b[38;5;28;01melif\u001b[39;00m is_list_like(data):\n",
      "File \u001b[1;32mD:\\Learn And Projects\\ML Learn Projects\\dummy_project\\env\\lib\\site-packages\\pandas\\core\\internals\\construction.py:331\u001b[0m, in \u001b[0;36mndarray_to_mgr\u001b[1;34m(values, index, columns, dtype, copy, typ)\u001b[0m\n\u001b[0;32m    326\u001b[0m         values \u001b[38;5;241m=\u001b[39m values\u001b[38;5;241m.\u001b[39mreshape(\u001b[38;5;241m-\u001b[39m\u001b[38;5;241m1\u001b[39m, \u001b[38;5;241m1\u001b[39m)\n\u001b[0;32m    328\u001b[0m \u001b[38;5;28;01melse\u001b[39;00m:\n\u001b[0;32m    329\u001b[0m     \u001b[38;5;66;03m# by definition an array here\u001b[39;00m\n\u001b[0;32m    330\u001b[0m     \u001b[38;5;66;03m# the dtypes will be coerced to a single dtype\u001b[39;00m\n\u001b[1;32m--> 331\u001b[0m     values \u001b[38;5;241m=\u001b[39m \u001b[43m_prep_ndarray\u001b[49m\u001b[43m(\u001b[49m\u001b[43mvalues\u001b[49m\u001b[43m,\u001b[49m\u001b[43m \u001b[49m\u001b[43mcopy\u001b[49m\u001b[38;5;241;43m=\u001b[39;49m\u001b[43mcopy_on_sanitize\u001b[49m\u001b[43m)\u001b[49m\n\u001b[0;32m    333\u001b[0m \u001b[38;5;28;01mif\u001b[39;00m dtype \u001b[38;5;129;01mis\u001b[39;00m \u001b[38;5;129;01mnot\u001b[39;00m \u001b[38;5;28;01mNone\u001b[39;00m \u001b[38;5;129;01mand\u001b[39;00m \u001b[38;5;129;01mnot\u001b[39;00m is_dtype_equal(values\u001b[38;5;241m.\u001b[39mdtype, dtype):\n\u001b[0;32m    334\u001b[0m     shape \u001b[38;5;241m=\u001b[39m values\u001b[38;5;241m.\u001b[39mshape\n",
      "File \u001b[1;32mD:\\Learn And Projects\\ML Learn Projects\\dummy_project\\env\\lib\\site-packages\\pandas\\core\\internals\\construction.py:591\u001b[0m, in \u001b[0;36m_prep_ndarray\u001b[1;34m(values, copy)\u001b[0m\n\u001b[0;32m    589\u001b[0m     values \u001b[38;5;241m=\u001b[39m values\u001b[38;5;241m.\u001b[39mreshape((values\u001b[38;5;241m.\u001b[39mshape[\u001b[38;5;241m0\u001b[39m], \u001b[38;5;241m1\u001b[39m))\n\u001b[0;32m    590\u001b[0m \u001b[38;5;28;01melif\u001b[39;00m values\u001b[38;5;241m.\u001b[39mndim \u001b[38;5;241m!=\u001b[39m \u001b[38;5;241m2\u001b[39m:\n\u001b[1;32m--> 591\u001b[0m     \u001b[38;5;28;01mraise\u001b[39;00m \u001b[38;5;167;01mValueError\u001b[39;00m(\u001b[38;5;124mf\u001b[39m\u001b[38;5;124m\"\u001b[39m\u001b[38;5;124mMust pass 2-d input. shape=\u001b[39m\u001b[38;5;132;01m{\u001b[39;00mvalues\u001b[38;5;241m.\u001b[39mshape\u001b[38;5;132;01m}\u001b[39;00m\u001b[38;5;124m\"\u001b[39m)\n\u001b[0;32m    593\u001b[0m \u001b[38;5;28;01mreturn\u001b[39;00m values\n",
      "\u001b[1;31mValueError\u001b[0m: Must pass 2-d input. shape=(22, 15, 18)"
     ]
    }
   ],
   "source": [
    "#lets create a price dataframe\n",
    "price_arry = np.ndarray([22,15,18])\n",
    "\n",
    "# Creating a price dataframe\n",
    "price_df = pd.DataFrame(price_arry,index=['price'], columns=['Almond Butter', 'Peanut Butter','Cashew Butter'])\n",
    "price_df"
   ]
  },
  {
   "cell_type": "code",
   "execution_count": 173,
   "id": "82c4d5dd",
   "metadata": {},
   "outputs": [
    {
     "data": {
      "text/plain": [
       "(3,)"
      ]
     },
     "execution_count": 173,
     "metadata": {},
     "output_type": "execute_result"
    }
   ],
   "source": [
    "#lets create a price dataframe\n",
    "price_arry = np.array([22,15,18])\n",
    "price_arry.shape\n",
    "\n",
    "# since this weierd thing we have to reshape it into 1,3"
   ]
  },
  {
   "cell_type": "code",
   "execution_count": 174,
   "id": "e893c69f",
   "metadata": {},
   "outputs": [
    {
     "data": {
      "text/html": [
       "<div>\n",
       "<style scoped>\n",
       "    .dataframe tbody tr th:only-of-type {\n",
       "        vertical-align: middle;\n",
       "    }\n",
       "\n",
       "    .dataframe tbody tr th {\n",
       "        vertical-align: top;\n",
       "    }\n",
       "\n",
       "    .dataframe thead th {\n",
       "        text-align: right;\n",
       "    }\n",
       "</style>\n",
       "<table border=\"1\" class=\"dataframe\">\n",
       "  <thead>\n",
       "    <tr style=\"text-align: right;\">\n",
       "      <th></th>\n",
       "      <th>Almond Butter</th>\n",
       "      <th>Peanut Butter</th>\n",
       "      <th>Cashew Butter</th>\n",
       "    </tr>\n",
       "  </thead>\n",
       "  <tbody>\n",
       "    <tr>\n",
       "      <th>price</th>\n",
       "      <td>22</td>\n",
       "      <td>15</td>\n",
       "      <td>18</td>\n",
       "    </tr>\n",
       "  </tbody>\n",
       "</table>\n",
       "</div>"
      ],
      "text/plain": [
       "       Almond Butter  Peanut Butter  Cashew Butter\n",
       "price             22             15             18"
      ]
     },
     "execution_count": 174,
     "metadata": {},
     "output_type": "execute_result"
    }
   ],
   "source": [
    "# Creating a price dataframe\n",
    "price_df = pd.DataFrame(price_arry.reshape((1,3)),index=['price'], columns=['Almond Butter', 'Peanut Butter','Cashew Butter'])\n",
    "price_df"
   ]
  },
  {
   "cell_type": "code",
   "execution_count": 175,
   "id": "c83b937e",
   "metadata": {},
   "outputs": [
    {
     "data": {
      "text/plain": [
       "array([22, 15, 18])"
      ]
     },
     "execution_count": 175,
     "metadata": {},
     "output_type": "execute_result"
    }
   ],
   "source": [
    "# Lets try that series way that gives an error\n",
    "price_arry"
   ]
  },
  {
   "cell_type": "code",
   "execution_count": 176,
   "id": "c4f5427e",
   "metadata": {},
   "outputs": [
    {
     "data": {
      "text/plain": [
       "array([[12, 15,  0],\n",
       "       [ 3,  3,  7],\n",
       "       [ 9, 19, 18],\n",
       "       [ 4,  6, 12],\n",
       "       [ 1,  6,  7]])"
      ]
     },
     "execution_count": 176,
     "metadata": {},
     "output_type": "execute_result"
    }
   ],
   "source": [
    "daily_sales_arry"
   ]
  },
  {
   "cell_type": "code",
   "execution_count": 177,
   "id": "254d91ee",
   "metadata": {},
   "outputs": [
    {
     "data": {
      "text/plain": [
       "(array([489, 237, 807, 394, 238]), numpy.ndarray)"
      ]
     },
     "execution_count": 177,
     "metadata": {},
     "output_type": "execute_result"
    }
   ],
   "source": [
    "total_sales_arr = daily_sales_arry.dot(price_arry.T)\n",
    "total_sales_arr, type(total_sales_arr)"
   ]
  },
  {
   "cell_type": "code",
   "execution_count": 178,
   "id": "db10965d",
   "metadata": {},
   "outputs": [
    {
     "data": {
      "text/plain": [
       "0    489\n",
       "1    237\n",
       "2    807\n",
       "3    394\n",
       "4    238\n",
       "dtype: int32"
      ]
     },
     "execution_count": 178,
     "metadata": {},
     "output_type": "execute_result"
    }
   ],
   "source": [
    "total_sales_series = pd.Series(total_sales_arr)\n",
    "total_sales_series"
   ]
  },
  {
   "cell_type": "code",
   "execution_count": 179,
   "id": "7ff68dc1",
   "metadata": {},
   "outputs": [
    {
     "data": {
      "text/html": [
       "<div>\n",
       "<style scoped>\n",
       "    .dataframe tbody tr th:only-of-type {\n",
       "        vertical-align: middle;\n",
       "    }\n",
       "\n",
       "    .dataframe tbody tr th {\n",
       "        vertical-align: top;\n",
       "    }\n",
       "\n",
       "    .dataframe thead th {\n",
       "        text-align: right;\n",
       "    }\n",
       "</style>\n",
       "<table border=\"1\" class=\"dataframe\">\n",
       "  <thead>\n",
       "    <tr style=\"text-align: right;\">\n",
       "      <th></th>\n",
       "      <th>Almond Butter</th>\n",
       "      <th>Peanut Butter</th>\n",
       "      <th>Cashew Butter</th>\n",
       "    </tr>\n",
       "  </thead>\n",
       "  <tbody>\n",
       "    <tr>\n",
       "      <th>Mon</th>\n",
       "      <td>12</td>\n",
       "      <td>15</td>\n",
       "      <td>0</td>\n",
       "    </tr>\n",
       "    <tr>\n",
       "      <th>Tues</th>\n",
       "      <td>3</td>\n",
       "      <td>3</td>\n",
       "      <td>7</td>\n",
       "    </tr>\n",
       "    <tr>\n",
       "      <th>Wen</th>\n",
       "      <td>9</td>\n",
       "      <td>19</td>\n",
       "      <td>18</td>\n",
       "    </tr>\n",
       "    <tr>\n",
       "      <th>Thur</th>\n",
       "      <td>4</td>\n",
       "      <td>6</td>\n",
       "      <td>12</td>\n",
       "    </tr>\n",
       "    <tr>\n",
       "      <th>Fri</th>\n",
       "      <td>1</td>\n",
       "      <td>6</td>\n",
       "      <td>7</td>\n",
       "    </tr>\n",
       "  </tbody>\n",
       "</table>\n",
       "</div>"
      ],
      "text/plain": [
       "      Almond Butter  Peanut Butter  Cashew Butter\n",
       "Mon              12             15              0\n",
       "Tues              3              3              7\n",
       "Wen               9             19             18\n",
       "Thur              4              6             12\n",
       "Fri               1              6              7"
      ]
     },
     "execution_count": 179,
     "metadata": {},
     "output_type": "execute_result"
    }
   ],
   "source": [
    "daily_sales_df"
   ]
  },
  {
   "cell_type": "code",
   "execution_count": 180,
   "id": "e8e45340",
   "metadata": {},
   "outputs": [
    {
     "data": {
      "text/html": [
       "<div>\n",
       "<style scoped>\n",
       "    .dataframe tbody tr th:only-of-type {\n",
       "        vertical-align: middle;\n",
       "    }\n",
       "\n",
       "    .dataframe tbody tr th {\n",
       "        vertical-align: top;\n",
       "    }\n",
       "\n",
       "    .dataframe thead th {\n",
       "        text-align: right;\n",
       "    }\n",
       "</style>\n",
       "<table border=\"1\" class=\"dataframe\">\n",
       "  <thead>\n",
       "    <tr style=\"text-align: right;\">\n",
       "      <th></th>\n",
       "      <th>Almond Butter</th>\n",
       "      <th>Peanut Butter</th>\n",
       "      <th>Cashew Butter</th>\n",
       "      <th>new</th>\n",
       "    </tr>\n",
       "  </thead>\n",
       "  <tbody>\n",
       "    <tr>\n",
       "      <th>Mon</th>\n",
       "      <td>12</td>\n",
       "      <td>15</td>\n",
       "      <td>0</td>\n",
       "      <td>NaN</td>\n",
       "    </tr>\n",
       "    <tr>\n",
       "      <th>Tues</th>\n",
       "      <td>3</td>\n",
       "      <td>3</td>\n",
       "      <td>7</td>\n",
       "      <td>NaN</td>\n",
       "    </tr>\n",
       "    <tr>\n",
       "      <th>Wen</th>\n",
       "      <td>9</td>\n",
       "      <td>19</td>\n",
       "      <td>18</td>\n",
       "      <td>NaN</td>\n",
       "    </tr>\n",
       "    <tr>\n",
       "      <th>Thur</th>\n",
       "      <td>4</td>\n",
       "      <td>6</td>\n",
       "      <td>12</td>\n",
       "      <td>NaN</td>\n",
       "    </tr>\n",
       "    <tr>\n",
       "      <th>Fri</th>\n",
       "      <td>1</td>\n",
       "      <td>6</td>\n",
       "      <td>7</td>\n",
       "      <td>NaN</td>\n",
       "    </tr>\n",
       "  </tbody>\n",
       "</table>\n",
       "</div>"
      ],
      "text/plain": [
       "      Almond Butter  Peanut Butter  Cashew Butter  new\n",
       "Mon              12             15              0  NaN\n",
       "Tues              3              3              7  NaN\n",
       "Wen               9             19             18  NaN\n",
       "Thur              4              6             12  NaN\n",
       "Fri               1              6              7  NaN"
      ]
     },
     "execution_count": 180,
     "metadata": {},
     "output_type": "execute_result"
    }
   ],
   "source": [
    "daily_sales_df['new']=total_sales_series\n",
    "daily_sales_df"
   ]
  },
  {
   "cell_type": "code",
   "execution_count": 181,
   "id": "9f823478",
   "metadata": {},
   "outputs": [
    {
     "data": {
      "text/plain": [
       "Mon     489\n",
       "Tues    237\n",
       "Wen     807\n",
       "Thur    394\n",
       "Fri     238\n",
       "dtype: int32"
      ]
     },
     "execution_count": 181,
     "metadata": {},
     "output_type": "execute_result"
    }
   ],
   "source": [
    "# so an error comes lets see our series index was changed\n",
    "total_sales_series_indexed = pd.Series(total_sales_arr,index=['Mon','Tues','Wen','Thur','Fri'])\n",
    "total_sales_series_indexed"
   ]
  },
  {
   "cell_type": "code",
   "execution_count": 182,
   "id": "abf3dcb5",
   "metadata": {},
   "outputs": [
    {
     "data": {
      "text/html": [
       "<div>\n",
       "<style scoped>\n",
       "    .dataframe tbody tr th:only-of-type {\n",
       "        vertical-align: middle;\n",
       "    }\n",
       "\n",
       "    .dataframe tbody tr th {\n",
       "        vertical-align: top;\n",
       "    }\n",
       "\n",
       "    .dataframe thead th {\n",
       "        text-align: right;\n",
       "    }\n",
       "</style>\n",
       "<table border=\"1\" class=\"dataframe\">\n",
       "  <thead>\n",
       "    <tr style=\"text-align: right;\">\n",
       "      <th></th>\n",
       "      <th>Almond Butter</th>\n",
       "      <th>Peanut Butter</th>\n",
       "      <th>Cashew Butter</th>\n",
       "    </tr>\n",
       "  </thead>\n",
       "  <tbody>\n",
       "    <tr>\n",
       "      <th>Mon</th>\n",
       "      <td>12</td>\n",
       "      <td>15</td>\n",
       "      <td>0</td>\n",
       "    </tr>\n",
       "    <tr>\n",
       "      <th>Tues</th>\n",
       "      <td>3</td>\n",
       "      <td>3</td>\n",
       "      <td>7</td>\n",
       "    </tr>\n",
       "    <tr>\n",
       "      <th>Wen</th>\n",
       "      <td>9</td>\n",
       "      <td>19</td>\n",
       "      <td>18</td>\n",
       "    </tr>\n",
       "    <tr>\n",
       "      <th>Thur</th>\n",
       "      <td>4</td>\n",
       "      <td>6</td>\n",
       "      <td>12</td>\n",
       "    </tr>\n",
       "    <tr>\n",
       "      <th>Fri</th>\n",
       "      <td>1</td>\n",
       "      <td>6</td>\n",
       "      <td>7</td>\n",
       "    </tr>\n",
       "  </tbody>\n",
       "</table>\n",
       "</div>"
      ],
      "text/plain": [
       "      Almond Butter  Peanut Butter  Cashew Butter\n",
       "Mon              12             15              0\n",
       "Tues              3              3              7\n",
       "Wen               9             19             18\n",
       "Thur              4              6             12\n",
       "Fri               1              6              7"
      ]
     },
     "execution_count": 182,
     "metadata": {},
     "output_type": "execute_result"
    }
   ],
   "source": [
    "daily_sales_df.drop('new',inplace=True, axis=1)\n",
    "daily_sales_df"
   ]
  },
  {
   "cell_type": "code",
   "execution_count": 183,
   "id": "0c469f8b",
   "metadata": {},
   "outputs": [
    {
     "data": {
      "text/html": [
       "<div>\n",
       "<style scoped>\n",
       "    .dataframe tbody tr th:only-of-type {\n",
       "        vertical-align: middle;\n",
       "    }\n",
       "\n",
       "    .dataframe tbody tr th {\n",
       "        vertical-align: top;\n",
       "    }\n",
       "\n",
       "    .dataframe thead th {\n",
       "        text-align: right;\n",
       "    }\n",
       "</style>\n",
       "<table border=\"1\" class=\"dataframe\">\n",
       "  <thead>\n",
       "    <tr style=\"text-align: right;\">\n",
       "      <th></th>\n",
       "      <th>Almond Butter</th>\n",
       "      <th>Peanut Butter</th>\n",
       "      <th>Cashew Butter</th>\n",
       "      <th>new</th>\n",
       "    </tr>\n",
       "  </thead>\n",
       "  <tbody>\n",
       "    <tr>\n",
       "      <th>Mon</th>\n",
       "      <td>12</td>\n",
       "      <td>15</td>\n",
       "      <td>0</td>\n",
       "      <td>489</td>\n",
       "    </tr>\n",
       "    <tr>\n",
       "      <th>Tues</th>\n",
       "      <td>3</td>\n",
       "      <td>3</td>\n",
       "      <td>7</td>\n",
       "      <td>237</td>\n",
       "    </tr>\n",
       "    <tr>\n",
       "      <th>Wen</th>\n",
       "      <td>9</td>\n",
       "      <td>19</td>\n",
       "      <td>18</td>\n",
       "      <td>807</td>\n",
       "    </tr>\n",
       "    <tr>\n",
       "      <th>Thur</th>\n",
       "      <td>4</td>\n",
       "      <td>6</td>\n",
       "      <td>12</td>\n",
       "      <td>394</td>\n",
       "    </tr>\n",
       "    <tr>\n",
       "      <th>Fri</th>\n",
       "      <td>1</td>\n",
       "      <td>6</td>\n",
       "      <td>7</td>\n",
       "      <td>238</td>\n",
       "    </tr>\n",
       "  </tbody>\n",
       "</table>\n",
       "</div>"
      ],
      "text/plain": [
       "      Almond Butter  Peanut Butter  Cashew Butter  new\n",
       "Mon              12             15              0  489\n",
       "Tues              3              3              7  237\n",
       "Wen               9             19             18  807\n",
       "Thur              4              6             12  394\n",
       "Fri               1              6              7  238"
      ]
     },
     "execution_count": 183,
     "metadata": {},
     "output_type": "execute_result"
    }
   ],
   "source": [
    "# Lets try adding the new series\n",
    "daily_sales_df['new']=total_sales_series_indexed\n",
    "daily_sales_df\n",
    "\n",
    "# Boom it works, we just have to have same indexes"
   ]
  },
  {
   "cell_type": "code",
   "execution_count": 184,
   "id": "5d2ba389",
   "metadata": {},
   "outputs": [
    {
     "data": {
      "text/plain": [
       "(5, 3)"
      ]
     },
     "execution_count": 184,
     "metadata": {},
     "output_type": "execute_result"
    }
   ],
   "source": [
    "daily_sales_arry.shape"
   ]
  },
  {
   "cell_type": "code",
   "execution_count": 185,
   "id": "df22ff85",
   "metadata": {},
   "outputs": [
    {
     "data": {
      "text/plain": [
       "(3,)"
      ]
     },
     "execution_count": 185,
     "metadata": {},
     "output_type": "execute_result"
    }
   ],
   "source": [
    "price_arry.shape"
   ]
  },
  {
   "cell_type": "code",
   "execution_count": 186,
   "id": "7415a6c9",
   "metadata": {},
   "outputs": [
    {
     "data": {
      "text/plain": [
       "(array([489, 237, 807, 394, 238]), numpy.ndarray)"
      ]
     },
     "execution_count": 186,
     "metadata": {},
     "output_type": "execute_result"
    }
   ],
   "source": [
    "total_sales = daily_sales_arry.dot(price_arry.T)\n",
    "total_sales, type(total_sales)"
   ]
  },
  {
   "cell_type": "code",
   "execution_count": 187,
   "id": "06051848",
   "metadata": {},
   "outputs": [
    {
     "data": {
      "text/html": [
       "<div>\n",
       "<style scoped>\n",
       "    .dataframe tbody tr th:only-of-type {\n",
       "        vertical-align: middle;\n",
       "    }\n",
       "\n",
       "    .dataframe tbody tr th {\n",
       "        vertical-align: top;\n",
       "    }\n",
       "\n",
       "    .dataframe thead th {\n",
       "        text-align: right;\n",
       "    }\n",
       "</style>\n",
       "<table border=\"1\" class=\"dataframe\">\n",
       "  <thead>\n",
       "    <tr style=\"text-align: right;\">\n",
       "      <th></th>\n",
       "      <th>Almond Butter</th>\n",
       "      <th>Peanut Butter</th>\n",
       "      <th>Cashew Butter</th>\n",
       "      <th>new</th>\n",
       "      <th>Total Sales ($)</th>\n",
       "    </tr>\n",
       "  </thead>\n",
       "  <tbody>\n",
       "    <tr>\n",
       "      <th>Mon</th>\n",
       "      <td>12</td>\n",
       "      <td>15</td>\n",
       "      <td>0</td>\n",
       "      <td>489</td>\n",
       "      <td>489</td>\n",
       "    </tr>\n",
       "    <tr>\n",
       "      <th>Tues</th>\n",
       "      <td>3</td>\n",
       "      <td>3</td>\n",
       "      <td>7</td>\n",
       "      <td>237</td>\n",
       "      <td>237</td>\n",
       "    </tr>\n",
       "    <tr>\n",
       "      <th>Wen</th>\n",
       "      <td>9</td>\n",
       "      <td>19</td>\n",
       "      <td>18</td>\n",
       "      <td>807</td>\n",
       "      <td>807</td>\n",
       "    </tr>\n",
       "    <tr>\n",
       "      <th>Thur</th>\n",
       "      <td>4</td>\n",
       "      <td>6</td>\n",
       "      <td>12</td>\n",
       "      <td>394</td>\n",
       "      <td>394</td>\n",
       "    </tr>\n",
       "    <tr>\n",
       "      <th>Fri</th>\n",
       "      <td>1</td>\n",
       "      <td>6</td>\n",
       "      <td>7</td>\n",
       "      <td>238</td>\n",
       "      <td>238</td>\n",
       "    </tr>\n",
       "  </tbody>\n",
       "</table>\n",
       "</div>"
      ],
      "text/plain": [
       "      Almond Butter  Peanut Butter  Cashew Butter  new  Total Sales ($)\n",
       "Mon              12             15              0  489              489\n",
       "Tues              3              3              7  237              237\n",
       "Wen               9             19             18  807              807\n",
       "Thur              4              6             12  394              394\n",
       "Fri               1              6              7  238              238"
      ]
     },
     "execution_count": 187,
     "metadata": {},
     "output_type": "execute_result"
    }
   ],
   "source": [
    "daily_sales_df['Total Sales ($)'] = daily_sales_arry.dot(price_arry.T)\n",
    "daily_sales_df"
   ]
  },
  {
   "cell_type": "code",
   "execution_count": 188,
   "id": "00e43f9c",
   "metadata": {},
   "outputs": [
    {
     "data": {
      "text/html": [
       "<div>\n",
       "<style scoped>\n",
       "    .dataframe tbody tr th:only-of-type {\n",
       "        vertical-align: middle;\n",
       "    }\n",
       "\n",
       "    .dataframe tbody tr th {\n",
       "        vertical-align: top;\n",
       "    }\n",
       "\n",
       "    .dataframe thead th {\n",
       "        text-align: right;\n",
       "    }\n",
       "</style>\n",
       "<table border=\"1\" class=\"dataframe\">\n",
       "  <thead>\n",
       "    <tr style=\"text-align: right;\">\n",
       "      <th></th>\n",
       "      <th>Almond Butter</th>\n",
       "      <th>Peanut Butter</th>\n",
       "      <th>Cashew Butter</th>\n",
       "    </tr>\n",
       "  </thead>\n",
       "  <tbody>\n",
       "    <tr>\n",
       "      <th>price</th>\n",
       "      <td>22</td>\n",
       "      <td>15</td>\n",
       "      <td>18</td>\n",
       "    </tr>\n",
       "  </tbody>\n",
       "</table>\n",
       "</div>"
      ],
      "text/plain": [
       "       Almond Butter  Peanut Butter  Cashew Butter\n",
       "price             22             15             18"
      ]
     },
     "execution_count": 188,
     "metadata": {},
     "output_type": "execute_result"
    }
   ],
   "source": [
    "price_df"
   ]
  },
  {
   "cell_type": "code",
   "execution_count": 189,
   "id": "41c12799",
   "metadata": {},
   "outputs": [
    {
     "data": {
      "text/html": [
       "<div>\n",
       "<style scoped>\n",
       "    .dataframe tbody tr th:only-of-type {\n",
       "        vertical-align: middle;\n",
       "    }\n",
       "\n",
       "    .dataframe tbody tr th {\n",
       "        vertical-align: top;\n",
       "    }\n",
       "\n",
       "    .dataframe thead th {\n",
       "        text-align: right;\n",
       "    }\n",
       "</style>\n",
       "<table border=\"1\" class=\"dataframe\">\n",
       "  <thead>\n",
       "    <tr style=\"text-align: right;\">\n",
       "      <th></th>\n",
       "      <th>Almond Butter</th>\n",
       "      <th>Peanut Butter</th>\n",
       "      <th>Cashew Butter</th>\n",
       "      <th>new</th>\n",
       "    </tr>\n",
       "  </thead>\n",
       "  <tbody>\n",
       "    <tr>\n",
       "      <th>Mon</th>\n",
       "      <td>12</td>\n",
       "      <td>15</td>\n",
       "      <td>0</td>\n",
       "      <td>489</td>\n",
       "    </tr>\n",
       "    <tr>\n",
       "      <th>Tues</th>\n",
       "      <td>3</td>\n",
       "      <td>3</td>\n",
       "      <td>7</td>\n",
       "      <td>237</td>\n",
       "    </tr>\n",
       "    <tr>\n",
       "      <th>Wen</th>\n",
       "      <td>9</td>\n",
       "      <td>19</td>\n",
       "      <td>18</td>\n",
       "      <td>807</td>\n",
       "    </tr>\n",
       "    <tr>\n",
       "      <th>Thur</th>\n",
       "      <td>4</td>\n",
       "      <td>6</td>\n",
       "      <td>12</td>\n",
       "      <td>394</td>\n",
       "    </tr>\n",
       "    <tr>\n",
       "      <th>Fri</th>\n",
       "      <td>1</td>\n",
       "      <td>6</td>\n",
       "      <td>7</td>\n",
       "      <td>238</td>\n",
       "    </tr>\n",
       "  </tbody>\n",
       "</table>\n",
       "</div>"
      ],
      "text/plain": [
       "      Almond Butter  Peanut Butter  Cashew Butter  new\n",
       "Mon              12             15              0  489\n",
       "Tues              3              3              7  237\n",
       "Wen               9             19             18  807\n",
       "Thur              4              6             12  394\n",
       "Fri               1              6              7  238"
      ]
     },
     "execution_count": 189,
     "metadata": {},
     "output_type": "execute_result"
    }
   ],
   "source": [
    "daily_sales_df.drop('Total Sales ($)',inplace=True, axis=1)\n",
    "daily_sales_df"
   ]
  },
  {
   "cell_type": "code",
   "execution_count": 190,
   "id": "aa6b82bb",
   "metadata": {},
   "outputs": [
    {
     "data": {
      "text/plain": [
       "((5, 4), (1, 3))"
      ]
     },
     "execution_count": 190,
     "metadata": {},
     "output_type": "execute_result"
    }
   ],
   "source": [
    "daily_sales_df.shape, price_df.shape"
   ]
  },
  {
   "cell_type": "code",
   "execution_count": 198,
   "id": "624122b5",
   "metadata": {},
   "outputs": [
    {
     "data": {
      "text/html": [
       "<div>\n",
       "<style scoped>\n",
       "    .dataframe tbody tr th:only-of-type {\n",
       "        vertical-align: middle;\n",
       "    }\n",
       "\n",
       "    .dataframe tbody tr th {\n",
       "        vertical-align: top;\n",
       "    }\n",
       "\n",
       "    .dataframe thead th {\n",
       "        text-align: right;\n",
       "    }\n",
       "</style>\n",
       "<table border=\"1\" class=\"dataframe\">\n",
       "  <thead>\n",
       "    <tr style=\"text-align: right;\">\n",
       "      <th></th>\n",
       "      <th>price</th>\n",
       "    </tr>\n",
       "  </thead>\n",
       "  <tbody>\n",
       "    <tr>\n",
       "      <th>Mon</th>\n",
       "      <td>489</td>\n",
       "    </tr>\n",
       "    <tr>\n",
       "      <th>Tues</th>\n",
       "      <td>237</td>\n",
       "    </tr>\n",
       "    <tr>\n",
       "      <th>Wen</th>\n",
       "      <td>807</td>\n",
       "    </tr>\n",
       "    <tr>\n",
       "      <th>Thur</th>\n",
       "      <td>394</td>\n",
       "    </tr>\n",
       "    <tr>\n",
       "      <th>Fri</th>\n",
       "      <td>238</td>\n",
       "    </tr>\n",
       "  </tbody>\n",
       "</table>\n",
       "</div>"
      ],
      "text/plain": [
       "      price\n",
       "Mon     489\n",
       "Tues    237\n",
       "Wen     807\n",
       "Thur    394\n",
       "Fri     238"
      ]
     },
     "execution_count": 198,
     "metadata": {},
     "output_type": "execute_result"
    }
   ],
   "source": [
    "#We can do the same thing with directly dataframes as well\n",
    "daily_sales_df.drop('new',axis=1,inplace=True)\n",
    "total_sales_df = daily_sales_df.dot(price_df.T)\n",
    "total_sales_df"
   ]
  },
  {
   "cell_type": "code",
   "execution_count": 199,
   "id": "85e8b2ce",
   "metadata": {},
   "outputs": [
    {
     "data": {
      "text/html": [
       "<div>\n",
       "<style scoped>\n",
       "    .dataframe tbody tr th:only-of-type {\n",
       "        vertical-align: middle;\n",
       "    }\n",
       "\n",
       "    .dataframe tbody tr th {\n",
       "        vertical-align: top;\n",
       "    }\n",
       "\n",
       "    .dataframe thead th {\n",
       "        text-align: right;\n",
       "    }\n",
       "</style>\n",
       "<table border=\"1\" class=\"dataframe\">\n",
       "  <thead>\n",
       "    <tr style=\"text-align: right;\">\n",
       "      <th></th>\n",
       "      <th>Almond Butter</th>\n",
       "      <th>Peanut Butter</th>\n",
       "      <th>Cashew Butter</th>\n",
       "      <th>Total Sales ($)</th>\n",
       "    </tr>\n",
       "  </thead>\n",
       "  <tbody>\n",
       "    <tr>\n",
       "      <th>Mon</th>\n",
       "      <td>12</td>\n",
       "      <td>15</td>\n",
       "      <td>0</td>\n",
       "      <td>489</td>\n",
       "    </tr>\n",
       "    <tr>\n",
       "      <th>Tues</th>\n",
       "      <td>3</td>\n",
       "      <td>3</td>\n",
       "      <td>7</td>\n",
       "      <td>237</td>\n",
       "    </tr>\n",
       "    <tr>\n",
       "      <th>Wen</th>\n",
       "      <td>9</td>\n",
       "      <td>19</td>\n",
       "      <td>18</td>\n",
       "      <td>807</td>\n",
       "    </tr>\n",
       "    <tr>\n",
       "      <th>Thur</th>\n",
       "      <td>4</td>\n",
       "      <td>6</td>\n",
       "      <td>12</td>\n",
       "      <td>394</td>\n",
       "    </tr>\n",
       "    <tr>\n",
       "      <th>Fri</th>\n",
       "      <td>1</td>\n",
       "      <td>6</td>\n",
       "      <td>7</td>\n",
       "      <td>238</td>\n",
       "    </tr>\n",
       "  </tbody>\n",
       "</table>\n",
       "</div>"
      ],
      "text/plain": [
       "      Almond Butter  Peanut Butter  Cashew Butter  Total Sales ($)\n",
       "Mon              12             15              0              489\n",
       "Tues              3              3              7              237\n",
       "Wen               9             19             18              807\n",
       "Thur              4              6             12              394\n",
       "Fri               1              6              7              238"
      ]
     },
     "execution_count": 199,
     "metadata": {},
     "output_type": "execute_result"
    }
   ],
   "source": [
    "daily_sales_df['Total Sales ($)']=total_sales_df\n",
    "daily_sales_df"
   ]
  },
  {
   "cell_type": "markdown",
   "id": "a0629172",
   "metadata": {},
   "source": [
    "#### Comparison and Sorting"
   ]
  },
  {
   "cell_type": "code",
   "execution_count": 200,
   "id": "886407d0",
   "metadata": {},
   "outputs": [
    {
     "data": {
      "text/plain": [
       "array([1. , 2. , 3.2])"
      ]
     },
     "execution_count": 200,
     "metadata": {},
     "output_type": "execute_result"
    }
   ],
   "source": [
    "a1"
   ]
  },
  {
   "cell_type": "code",
   "execution_count": 201,
   "id": "f001c414",
   "metadata": {},
   "outputs": [
    {
     "data": {
      "text/plain": [
       "array([[1, 2, 3],\n",
       "       [4, 5, 6]])"
      ]
     },
     "execution_count": 201,
     "metadata": {},
     "output_type": "execute_result"
    }
   ],
   "source": [
    "a2"
   ]
  },
  {
   "cell_type": "code",
   "execution_count": 202,
   "id": "825d4c4e",
   "metadata": {},
   "outputs": [
    {
     "data": {
      "text/plain": [
       "array([[False, False,  True],\n",
       "       [False, False, False]])"
      ]
     },
     "execution_count": 202,
     "metadata": {},
     "output_type": "execute_result"
    }
   ],
   "source": [
    "a1 > a2"
   ]
  },
  {
   "cell_type": "code",
   "execution_count": 203,
   "id": "ed7850a7",
   "metadata": {},
   "outputs": [
    {
     "data": {
      "text/plain": [
       "array([[False, False, False],\n",
       "       [ True,  True,  True]])"
      ]
     },
     "execution_count": 203,
     "metadata": {},
     "output_type": "execute_result"
    }
   ],
   "source": [
    "a2>a1"
   ]
  },
  {
   "cell_type": "code",
   "execution_count": 204,
   "id": "2d98baa3",
   "metadata": {},
   "outputs": [
    {
     "data": {
      "text/plain": [
       "array([[ True,  True, False],\n",
       "       [False, False, False]])"
      ]
     },
     "execution_count": 204,
     "metadata": {},
     "output_type": "execute_result"
    }
   ],
   "source": [
    "a1 == a2"
   ]
  },
  {
   "cell_type": "code",
   "execution_count": 205,
   "id": "194166c2",
   "metadata": {},
   "outputs": [
    {
     "data": {
      "text/plain": [
       "array([[ True,  True,  True],\n",
       "       [False, False, False]])"
      ]
     },
     "execution_count": 205,
     "metadata": {},
     "output_type": "execute_result"
    }
   ],
   "source": [
    "a1 >= a2"
   ]
  },
  {
   "cell_type": "code",
   "execution_count": 206,
   "id": "66477a0e",
   "metadata": {},
   "outputs": [
    {
     "data": {
      "text/plain": [
       "array([[13,  3, 18, 19, 15],\n",
       "       [ 2, 18, 17, 16, 17],\n",
       "       [ 9, 16, 12, 18,  3],\n",
       "       [11, 18,  6,  7, 13],\n",
       "       [10,  7,  9, 18, 19]])"
      ]
     },
     "execution_count": 206,
     "metadata": {},
     "output_type": "execute_result"
    }
   ],
   "source": [
    "rand_arr1"
   ]
  },
  {
   "cell_type": "code",
   "execution_count": 207,
   "id": "ff6d923d",
   "metadata": {},
   "outputs": [
    {
     "data": {
      "text/plain": [
       "array([[ 3, 13, 15, 18, 19],\n",
       "       [ 2, 16, 17, 17, 18],\n",
       "       [ 3,  9, 12, 16, 18],\n",
       "       [ 6,  7, 11, 13, 18],\n",
       "       [ 7,  9, 10, 18, 19]])"
      ]
     },
     "execution_count": 207,
     "metadata": {},
     "output_type": "execute_result"
    }
   ],
   "source": [
    "# Lets Sort\n",
    "rand_arr1.sort()\n",
    "rand_arr1"
   ]
  },
  {
   "cell_type": "code",
   "execution_count": 208,
   "id": "613bcc37",
   "metadata": {},
   "outputs": [
    {
     "data": {
      "text/plain": [
       "array([[ 2,  7, 10, 13, 18],\n",
       "       [ 3,  9, 11, 16, 18],\n",
       "       [ 3,  9, 12, 17, 18],\n",
       "       [ 6, 13, 15, 18, 19],\n",
       "       [ 7, 16, 17, 18, 19]])"
      ]
     },
     "execution_count": 208,
     "metadata": {},
     "output_type": "execute_result"
    }
   ],
   "source": [
    "rand_arr1.sort(axis=0)\n",
    "rand_arr1"
   ]
  },
  {
   "cell_type": "markdown",
   "id": "374c651e",
   "metadata": {},
   "source": [
    "### Importing Images as NumPy Arrays"
   ]
  },
  {
   "cell_type": "code",
   "execution_count": 209,
   "id": "ffa8aaf8",
   "metadata": {},
   "outputs": [],
   "source": [
    "from matplotlib.image import imread "
   ]
  },
  {
   "cell_type": "code",
   "execution_count": 210,
   "id": "72e24f1c",
   "metadata": {},
   "outputs": [],
   "source": [
    "# Imread read images into ndarrays"
   ]
  },
  {
   "cell_type": "markdown",
   "id": "1f0b3062",
   "metadata": {},
   "source": [
    "<img src=\"images/panda.png\"/>"
   ]
  },
  {
   "cell_type": "code",
   "execution_count": 211,
   "id": "f404df87",
   "metadata": {},
   "outputs": [],
   "source": [
    "#Lets turn the panda into an array\n",
    "panda = imread('images/panda.png')"
   ]
  },
  {
   "cell_type": "code",
   "execution_count": 212,
   "id": "c4efc8c1",
   "metadata": {},
   "outputs": [
    {
     "data": {
      "text/plain": [
       "(24465000, 3, (2330, 3500, 3), numpy.ndarray)"
      ]
     },
     "execution_count": 212,
     "metadata": {},
     "output_type": "execute_result"
    }
   ],
   "source": [
    "panda.size, panda.ndim, panda.shape, type(panda)"
   ]
  },
  {
   "cell_type": "code",
   "execution_count": 213,
   "id": "aa30fa29",
   "metadata": {},
   "outputs": [
    {
     "data": {
      "text/plain": [
       "array([[[0.05490196, 0.10588235, 0.06666667],\n",
       "        [0.05490196, 0.10588235, 0.06666667],\n",
       "        [0.05490196, 0.10588235, 0.06666667],\n",
       "        ...,\n",
       "        [0.16470589, 0.12941177, 0.09411765],\n",
       "        [0.16470589, 0.12941177, 0.09411765],\n",
       "        [0.16470589, 0.12941177, 0.09411765]],\n",
       "\n",
       "       [[0.05490196, 0.10588235, 0.06666667],\n",
       "        [0.05490196, 0.10588235, 0.06666667],\n",
       "        [0.05490196, 0.10588235, 0.06666667],\n",
       "        ...,\n",
       "        [0.16470589, 0.12941177, 0.09411765],\n",
       "        [0.16470589, 0.12941177, 0.09411765],\n",
       "        [0.16470589, 0.12941177, 0.09411765]]], dtype=float32)"
      ]
     },
     "execution_count": 213,
     "metadata": {},
     "output_type": "execute_result"
    }
   ],
   "source": [
    "panda[:2]"
   ]
  }
 ],
 "metadata": {
  "kernelspec": {
   "display_name": "Python 3 (ipykernel)",
   "language": "python",
   "name": "python3"
  },
  "language_info": {
   "codemirror_mode": {
    "name": "ipython",
    "version": 3
   },
   "file_extension": ".py",
   "mimetype": "text/x-python",
   "name": "python",
   "nbconvert_exporter": "python",
   "pygments_lexer": "ipython3",
   "version": "3.10.4"
  }
 },
 "nbformat": 4,
 "nbformat_minor": 5
}
