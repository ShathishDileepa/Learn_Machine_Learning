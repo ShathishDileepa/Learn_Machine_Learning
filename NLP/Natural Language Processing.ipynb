{
 "cells": [
  {
   "cell_type": "markdown",
   "id": "c2df7712",
   "metadata": {},
   "source": [
    "# Natural Language Processing\n",
    "\n",
    "In this Notebook we will be discussing, how to process text tobe able to using in NLP models and will be making some NLP models."
   ]
  },
  {
   "cell_type": "markdown",
   "id": "dec5b50b",
   "metadata": {},
   "source": [
    "## .csv VS .tsv\n",
    "\n",
    "* Most of the times in ML we are working with .csv(Comma Seperated Values) files. So for most of the ML task these type of files are okay. But when it comes to NLP it is not good to used .csv files, because we may have instance like where the Text value might have ',' in them. This will mess up extracting the data.\n",
    "\n",
    "* So when we prepare our datasets it is always good to use .tsv(Tab Seperated Values) files. Because it is highly unlikely we will have tabs inside normal text like reviews, comments etc.\n",
    "\n",
    "## Problem Statement\n",
    "\n",
    "> In this notebook we will be looking at already labeld set of reviews and try to create a NLP model that can identify a review whether it is negative or positive\n",
    "\n",
    "## Workflow...\n",
    "\n",
    "1. Import the text data\n",
    "2. Clean the data\n",
    "    * Make all letteres lowercase\n",
    "    * Get rid of special characters\n",
    "    * Get rid of any numbers unless they have some significance\n",
    "    * Get rid of words like 'The', 'A', 'An', 'in', 'is', 'am' and 'are' etc. (Because these words does not help to identify any thing)\n",
    "    * Apply stemming (Only take the root word of words) ex: Loved, Loving, Loves -> Love\n",
    "3. Create a Bag of words model"
   ]
  },
  {
   "cell_type": "code",
   "execution_count": 1,
   "id": "8504dff5",
   "metadata": {},
   "outputs": [],
   "source": [
    "# Lets import the modules\n",
    "%matplotlib inline\n",
    "import numpy as np\n",
    "import pandas as pd\n",
    "import matplotlib.pyplot as plt\n",
    "\n",
    "# setting a global random seed\n",
    "np.random.seed(42)"
   ]
  },
  {
   "cell_type": "code",
   "execution_count": 2,
   "id": "d7f8dec1",
   "metadata": {},
   "outputs": [
    {
     "data": {
      "text/html": [
       "<div>\n",
       "<style scoped>\n",
       "    .dataframe tbody tr th:only-of-type {\n",
       "        vertical-align: middle;\n",
       "    }\n",
       "\n",
       "    .dataframe tbody tr th {\n",
       "        vertical-align: top;\n",
       "    }\n",
       "\n",
       "    .dataframe thead th {\n",
       "        text-align: right;\n",
       "    }\n",
       "</style>\n",
       "<table border=\"1\" class=\"dataframe\">\n",
       "  <thead>\n",
       "    <tr style=\"text-align: right;\">\n",
       "      <th></th>\n",
       "      <th>Review</th>\n",
       "      <th>Liked</th>\n",
       "    </tr>\n",
       "  </thead>\n",
       "  <tbody>\n",
       "    <tr>\n",
       "      <th>0</th>\n",
       "      <td>Wow... Loved this place.</td>\n",
       "      <td>1</td>\n",
       "    </tr>\n",
       "    <tr>\n",
       "      <th>1</th>\n",
       "      <td>Crust is not good.</td>\n",
       "      <td>0</td>\n",
       "    </tr>\n",
       "    <tr>\n",
       "      <th>2</th>\n",
       "      <td>Not tasty and the texture was just nasty.</td>\n",
       "      <td>0</td>\n",
       "    </tr>\n",
       "    <tr>\n",
       "      <th>3</th>\n",
       "      <td>Stopped by during the late May bank holiday of...</td>\n",
       "      <td>1</td>\n",
       "    </tr>\n",
       "    <tr>\n",
       "      <th>4</th>\n",
       "      <td>The selection on the menu was great and so wer...</td>\n",
       "      <td>1</td>\n",
       "    </tr>\n",
       "    <tr>\n",
       "      <th>5</th>\n",
       "      <td>Now I am getting angry and I want my damn pho.</td>\n",
       "      <td>0</td>\n",
       "    </tr>\n",
       "    <tr>\n",
       "      <th>6</th>\n",
       "      <td>Honeslty it didn't taste THAT fresh.)</td>\n",
       "      <td>0</td>\n",
       "    </tr>\n",
       "    <tr>\n",
       "      <th>7</th>\n",
       "      <td>The potatoes were like rubber and you could te...</td>\n",
       "      <td>0</td>\n",
       "    </tr>\n",
       "    <tr>\n",
       "      <th>8</th>\n",
       "      <td>The fries were great too.</td>\n",
       "      <td>1</td>\n",
       "    </tr>\n",
       "    <tr>\n",
       "      <th>9</th>\n",
       "      <td>A great touch.</td>\n",
       "      <td>1</td>\n",
       "    </tr>\n",
       "  </tbody>\n",
       "</table>\n",
       "</div>"
      ],
      "text/plain": [
       "                                              Review  Liked\n",
       "0                           Wow... Loved this place.      1\n",
       "1                                 Crust is not good.      0\n",
       "2          Not tasty and the texture was just nasty.      0\n",
       "3  Stopped by during the late May bank holiday of...      1\n",
       "4  The selection on the menu was great and so wer...      1\n",
       "5     Now I am getting angry and I want my damn pho.      0\n",
       "6              Honeslty it didn't taste THAT fresh.)      0\n",
       "7  The potatoes were like rubber and you could te...      0\n",
       "8                          The fries were great too.      1\n",
       "9                                     A great touch.      1"
      ]
     },
     "execution_count": 2,
     "metadata": {},
     "output_type": "execute_result"
    }
   ],
   "source": [
    "# importing the .tsv file\n",
    "\n",
    "# we can still use the read_csv() method we have to set some additional parameters\n",
    "data = pd.read_csv('data/Natural Language Processing/Restaurant_Reviews.tsv',delimiter='\\t',quoting=3)\n",
    "data.head(10)"
   ]
  },
  {
   "cell_type": "code",
   "execution_count": 3,
   "id": "47e66316",
   "metadata": {},
   "outputs": [
    {
     "data": {
      "text/plain": [
       "'Wow    Loved this place '"
      ]
     },
     "execution_count": 3,
     "metadata": {},
     "output_type": "execute_result"
    }
   ],
   "source": [
    "# Cleaning Text Data\n",
    "\n",
    "review ='Wow... Loved this place.'\n",
    "\n",
    "# We wil performe several cleaning process to demeonstrate and use them on the data set within a loop\n",
    "\n",
    "# Import the Python RegEx Module\n",
    "import re\n",
    "\n",
    "# get rid of everything except alphabetical letters and replace them with spaces for avoid making nonsence words\n",
    "review = re.sub('[^a-zA-Z]',' ', review)\n",
    "\n",
    "review"
   ]
  },
  {
   "cell_type": "code",
   "execution_count": 4,
   "id": "791857d1",
   "metadata": {},
   "outputs": [
    {
     "data": {
      "text/plain": [
       "'wow    loved this place '"
      ]
     },
     "execution_count": 4,
     "metadata": {},
     "output_type": "execute_result"
    }
   ],
   "source": [
    "# Turn everything into lowercase\n",
    "review = review.lower()\n",
    "review"
   ]
  },
  {
   "cell_type": "code",
   "execution_count": 5,
   "id": "54b0ff13",
   "metadata": {},
   "outputs": [],
   "source": [
    "# We have to install NLTK\n",
    "#!pip install nltk\n",
    "#!python -m nltk.downloader all"
   ]
  },
  {
   "cell_type": "code",
   "execution_count": 6,
   "id": "5e70db40",
   "metadata": {},
   "outputs": [],
   "source": [
    "# Get rid of words like 'the', 'that', 'is am are' etc. that does not help in identifying process\n",
    "import nltk\n",
    "from nltk.corpus import stopwords # This module contain list of garbage words\n",
    "from nltk.stem import PorterStemmer # This is used for stemming the words"
   ]
  },
  {
   "cell_type": "code",
   "execution_count": 7,
   "id": "29363f23",
   "metadata": {},
   "outputs": [
    {
     "data": {
      "text/plain": [
       "['wow', 'loved', 'place']"
      ]
     },
     "execution_count": 7,
     "metadata": {},
     "output_type": "execute_result"
    }
   ],
   "source": [
    "# Lets get rid of the stop words in the review\n",
    "review = review.split() # this will return a list of words\n",
    "review = [word for word in review if not word in stopwords.words('english')]\n",
    "review"
   ]
  },
  {
   "cell_type": "code",
   "execution_count": 8,
   "id": "1654578d",
   "metadata": {},
   "outputs": [
    {
     "data": {
      "text/plain": [
       "['wow', 'love', 'place']"
      ]
     },
     "execution_count": 8,
     "metadata": {},
     "output_type": "execute_result"
    }
   ],
   "source": [
    "# lets stem all the words\n",
    "\n",
    "stemmer = PorterStemmer() # Create a stemmer object\n",
    "\n",
    "review = [stemmer.stem(word) for word in review]\n",
    "review"
   ]
  },
  {
   "cell_type": "code",
   "execution_count": 9,
   "id": "0eb441cf",
   "metadata": {},
   "outputs": [],
   "source": [
    "# we can do stemming and getting rid of garbage words in one line as well\n",
    "\n",
    "#review = [stemmer.stem(word) for word in review if not word in stopwords.words('english')]"
   ]
  },
  {
   "cell_type": "code",
   "execution_count": 10,
   "id": "652c6be6",
   "metadata": {},
   "outputs": [
    {
     "data": {
      "text/plain": [
       "'wow love place'"
      ]
     },
     "execution_count": 10,
     "metadata": {},
     "output_type": "execute_result"
    }
   ],
   "source": [
    "# now we have to join the words in the list and create a string as the last step\n",
    "review = ' '.join(review)\n",
    "review"
   ]
  },
  {
   "cell_type": "code",
   "execution_count": 26,
   "id": "f2425ba5",
   "metadata": {},
   "outputs": [
    {
     "data": {
      "text/plain": [
       "pandas.core.series.Series"
      ]
     },
     "execution_count": 26,
     "metadata": {},
     "output_type": "execute_result"
    }
   ],
   "source": [
    "# Now lets perform this to every value in our data set one by one\n",
    "import nltk\n",
    "from nltk.corpus import stopwords # This module contain list of garbage words\n",
    "from nltk.stem import PorterStemmer # This is used for stemming the words\n",
    "\n",
    "stemmer = PorterStemmer()\n",
    "# we have to get a deep copy other wise if something goes south we have to restart the kernal\n",
    "# reviews = data['Review'].values pass a reference\n",
    "reviews = data.iloc[:,0].copy(deep=True)\n",
    "type(reviews)"
   ]
  },
  {
   "cell_type": "code",
   "execution_count": 27,
   "id": "809cd993",
   "metadata": {},
   "outputs": [],
   "source": [
    "# go through each review and change them\n",
    "for i in range(len(reviews)):\n",
    "    # turn to lowercase\n",
    "    reviews[i] = reviews[i].lower()\n",
    "    \n",
    "    # Only keep letters\n",
    "    reviews[i] = re.sub('[^a-z]',' ',reviews[i])\n",
    "    \n",
    "    \n",
    "    # Get rid of stop words and do stemming\n",
    "    reviews[i] = reviews[i].split() # this will return a list of words\n",
    "    reviews[i] = [stemmer.stem(word) for word in reviews[i] if not word in stopwords.words('english')]\n",
    "    \n",
    "    # Now we have to join the words\n",
    "    reviews[i] = ' '.join(reviews[i])"
   ]
  },
  {
   "cell_type": "code",
   "execution_count": 36,
   "id": "0208fb7a",
   "metadata": {},
   "outputs": [
    {
     "data": {
      "text/plain": [
       "0                                       wow love place\n",
       "1                                           crust good\n",
       "2                                   tasti textur nasti\n",
       "3    stop late may bank holiday rick steve recommen...\n",
       "4                              select menu great price\n",
       "Name: Review, dtype: object"
      ]
     },
     "execution_count": 36,
     "metadata": {},
     "output_type": "execute_result"
    }
   ],
   "source": [
    "# Now review is ready\n",
    "reviews[:5]\n",
    "# Those dots are not special character, its just to indicate string is long"
   ]
  },
  {
   "cell_type": "code",
   "execution_count": 21,
   "id": "ff7f00e8",
   "metadata": {},
   "outputs": [
    {
     "data": {
      "text/html": [
       "<div>\n",
       "<style scoped>\n",
       "    .dataframe tbody tr th:only-of-type {\n",
       "        vertical-align: middle;\n",
       "    }\n",
       "\n",
       "    .dataframe tbody tr th {\n",
       "        vertical-align: top;\n",
       "    }\n",
       "\n",
       "    .dataframe thead th {\n",
       "        text-align: right;\n",
       "    }\n",
       "</style>\n",
       "<table border=\"1\" class=\"dataframe\">\n",
       "  <thead>\n",
       "    <tr style=\"text-align: right;\">\n",
       "      <th></th>\n",
       "      <th>Review</th>\n",
       "      <th>Liked</th>\n",
       "    </tr>\n",
       "  </thead>\n",
       "  <tbody>\n",
       "    <tr>\n",
       "      <th>0</th>\n",
       "      <td>Wow... Loved this place.</td>\n",
       "      <td>1</td>\n",
       "    </tr>\n",
       "    <tr>\n",
       "      <th>1</th>\n",
       "      <td>Crust is not good.</td>\n",
       "      <td>0</td>\n",
       "    </tr>\n",
       "    <tr>\n",
       "      <th>2</th>\n",
       "      <td>Not tasty and the texture was just nasty.</td>\n",
       "      <td>0</td>\n",
       "    </tr>\n",
       "    <tr>\n",
       "      <th>3</th>\n",
       "      <td>Stopped by during the late May bank holiday of...</td>\n",
       "      <td>1</td>\n",
       "    </tr>\n",
       "    <tr>\n",
       "      <th>4</th>\n",
       "      <td>The selection on the menu was great and so wer...</td>\n",
       "      <td>1</td>\n",
       "    </tr>\n",
       "  </tbody>\n",
       "</table>\n",
       "</div>"
      ],
      "text/plain": [
       "                                              Review  Liked\n",
       "0                           Wow... Loved this place.      1\n",
       "1                                 Crust is not good.      0\n",
       "2          Not tasty and the texture was just nasty.      0\n",
       "3  Stopped by during the late May bank holiday of...      1\n",
       "4  The selection on the menu was great and so wer...      1"
      ]
     },
     "execution_count": 21,
     "metadata": {},
     "output_type": "execute_result"
    }
   ],
   "source": [
    "data.head()"
   ]
  },
  {
   "cell_type": "code",
   "execution_count": 37,
   "id": "3959eae5",
   "metadata": {},
   "outputs": [
    {
     "data": {
      "text/plain": [
       "pandas.core.series.Series"
      ]
     },
     "execution_count": 37,
     "metadata": {},
     "output_type": "execute_result"
    }
   ],
   "source": [
    "#now we can update reviews\n",
    "type(reviews)"
   ]
  },
  {
   "cell_type": "code",
   "execution_count": 38,
   "id": "9d03d616",
   "metadata": {},
   "outputs": [],
   "source": [
    "data['Review'] = reviews"
   ]
  },
  {
   "cell_type": "code",
   "execution_count": 39,
   "id": "72275442",
   "metadata": {},
   "outputs": [
    {
     "data": {
      "text/html": [
       "<div>\n",
       "<style scoped>\n",
       "    .dataframe tbody tr th:only-of-type {\n",
       "        vertical-align: middle;\n",
       "    }\n",
       "\n",
       "    .dataframe tbody tr th {\n",
       "        vertical-align: top;\n",
       "    }\n",
       "\n",
       "    .dataframe thead th {\n",
       "        text-align: right;\n",
       "    }\n",
       "</style>\n",
       "<table border=\"1\" class=\"dataframe\">\n",
       "  <thead>\n",
       "    <tr style=\"text-align: right;\">\n",
       "      <th></th>\n",
       "      <th>Review</th>\n",
       "      <th>Liked</th>\n",
       "    </tr>\n",
       "  </thead>\n",
       "  <tbody>\n",
       "    <tr>\n",
       "      <th>0</th>\n",
       "      <td>wow love place</td>\n",
       "      <td>1</td>\n",
       "    </tr>\n",
       "    <tr>\n",
       "      <th>1</th>\n",
       "      <td>crust good</td>\n",
       "      <td>0</td>\n",
       "    </tr>\n",
       "    <tr>\n",
       "      <th>2</th>\n",
       "      <td>tasti textur nasti</td>\n",
       "      <td>0</td>\n",
       "    </tr>\n",
       "    <tr>\n",
       "      <th>3</th>\n",
       "      <td>stop late may bank holiday rick steve recommen...</td>\n",
       "      <td>1</td>\n",
       "    </tr>\n",
       "    <tr>\n",
       "      <th>4</th>\n",
       "      <td>select menu great price</td>\n",
       "      <td>1</td>\n",
       "    </tr>\n",
       "  </tbody>\n",
       "</table>\n",
       "</div>"
      ],
      "text/plain": [
       "                                              Review  Liked\n",
       "0                                     wow love place      1\n",
       "1                                         crust good      0\n",
       "2                                 tasti textur nasti      0\n",
       "3  stop late may bank holiday rick steve recommen...      1\n",
       "4                            select menu great price      1"
      ]
     },
     "execution_count": 39,
     "metadata": {},
     "output_type": "execute_result"
    }
   ],
   "source": [
    "data.head()\n",
    "# Noooice...!"
   ]
  },
  {
   "cell_type": "markdown",
   "id": "e2118946",
   "metadata": {},
   "source": [
    "## Bag of words \n",
    "\n",
    "* So what is this this is actually kind of a dummy variable matrix.\n",
    "* What's that supposed to mean? It means we will create a matrix containing a column for each word in our  reviews list\n",
    "* And if the word is in our review, column value will be 1 else 0\n",
    "* Thats why I said its kind of like dummy variables (one hot encoder output) for categorical variables\n",
    "* after that we can find the patterns using classification, its just simple as that"
   ]
  },
  {
   "cell_type": "code",
   "execution_count": 52,
   "id": "7d2923b0",
   "metadata": {},
   "outputs": [],
   "source": [
    "# Create a bag of words model\n",
    "\n",
    "from sklearn.feature_extraction.text import CountVectorizer\n",
    "\n",
    "# we have to set max features, because sometimes there maybe words that will not appear in the reviews again ex: 'wow'\n",
    "# So by setting max features CountVectorizer will only keep most important features\n",
    "transformer = CountVectorizer(max_features=1500)\n",
    "X = transformer.fit_transform(reviews).toarray()"
   ]
  },
  {
   "cell_type": "code",
   "execution_count": 56,
   "id": "949d855f",
   "metadata": {},
   "outputs": [
    {
     "data": {
      "text/plain": [
       "array([[0, 0, 0, ..., 0, 0, 0],\n",
       "       [0, 0, 0, ..., 0, 0, 0],\n",
       "       [0, 0, 0, ..., 0, 0, 0],\n",
       "       ...,\n",
       "       [0, 0, 0, ..., 0, 0, 0],\n",
       "       [0, 0, 0, ..., 0, 0, 0],\n",
       "       [0, 0, 0, ..., 0, 0, 0]], dtype=int64)"
      ]
     },
     "execution_count": 56,
     "metadata": {},
     "output_type": "execute_result"
    }
   ],
   "source": [
    "# lets look at X\n",
    "X"
   ]
  },
  {
   "cell_type": "code",
   "execution_count": 57,
   "id": "bc2e2cfd",
   "metadata": {},
   "outputs": [],
   "source": [
    "# Now we can use this in a classification problem\n",
    "\n",
    "y = data['Liked']"
   ]
  },
  {
   "cell_type": "markdown",
   "id": "1c81dff5",
   "metadata": {},
   "source": [
    "* lets create a machine learning model, We can use any classification model, But most commonly used ones for NLP are\n",
    "    * Naive Bayes Model\n",
    "    * Decision Trees Model\n",
    "    * Random Forrest Model\n",
    "\n",
    "We will use Random Forrest model."
   ]
  },
  {
   "cell_type": "code",
   "execution_count": 68,
   "id": "95d42638",
   "metadata": {},
   "outputs": [],
   "source": [
    "from sklearn.model_selection import train_test_split\n",
    "from sklearn.ensemble import RandomForestClassifier\n",
    "\n",
    "# Split the data into train test\n",
    "X_train, X_test, y_train, y_test = train_test_split(X,y,test_size=0.2, random_state=42)\n",
    "\n",
    "# No need of feature scalling\n",
    "\n",
    "model = RandomForestClassifier(n_estimators=550,)\n",
    "model.fit(X=X_train,y=y_train)\n",
    "\n",
    "# Getting a prediction\n",
    "y_pred = model.predict(X_test)"
   ]
  },
  {
   "cell_type": "code",
   "execution_count": 74,
   "id": "322edb4c",
   "metadata": {},
   "outputs": [
    {
     "data": {
      "image/png": "[encoded data removed]",
      "text/plain": [
       "<Figure size 432x288 with 2 Axes>"
      ]
     },
     "metadata": {
      "needs_background": "light"
     },
     "output_type": "display_data"
    }
   ],
   "source": [
    "# lets get a confusion matrix\n",
    "from sklearn.metrics import confusion_matrix, ConfusionMatrixDisplay\n",
    "cm = confusion_matrix(y_true=y_test,y_pred=y_pred)\n",
    "disp =ConfusionMatrixDisplay(cm)\n",
    "disp.plot();"
   ]
  },
  {
   "cell_type": "code",
   "execution_count": null,
   "id": "d7c98fd4",
   "metadata": {},
   "outputs": [],
   "source": []
  }
 ],
 "metadata": {
  "kernelspec": {
   "display_name": "Python 3 (ipykernel)",
   "language": "python",
   "name": "python3"
  },
  "language_info": {
   "codemirror_mode": {
    "name": "ipython",
    "version": 3
   },
   "file_extension": ".py",
   "mimetype": "text/x-python",
   "name": "python",
   "nbconvert_exporter": "python",
   "pygments_lexer": "ipython3",
   "version": "3.10.4"
  }
 },
 "nbformat": 4,
 "nbformat_minor": 5
}
